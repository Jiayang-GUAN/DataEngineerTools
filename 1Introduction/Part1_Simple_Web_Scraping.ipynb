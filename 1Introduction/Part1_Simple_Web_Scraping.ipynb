{
 "cells": [
  {
   "cell_type": "markdown",
   "metadata": {},
   "source": [
    "# Introduction"
   ]
  },
  {
   "cell_type": "markdown",
   "metadata": {},
   "source": [
    "Avant de commencer, parcourer le fichier README.rst"
   ]
  },
  {
   "cell_type": "markdown",
   "metadata": {},
   "source": [
    "# Requête HTTP "
   ]
  },
  {
   "cell_type": "markdown",
   "metadata": {},
   "source": [
    "Un requête HTTP est une requête basé sur le protocole TCP, elle fait partie de la couche application de la couche OSI. Elle permet d'accéder aux données mise à disposition sur une adresse IP (ou url résolue par un DNS) et un port. \n",
    "\n",
    "Les deux ports les plus utilisé dans le web sont le 80 pour les sites en HTTP et le 443 pour les sites en HTTPS. HTTPS est une variable du protocole HTTP basé sur le protocole TLS.\n",
    "\n",
    "Il existe de nombreux types de requêtes selon la convention `REST`: \n",
    "- GET\n",
    "- POST\n",
    "- PUT \n",
    "- DELETE\n",
    "- UPDATE.\n",
    "\n",
    "Dans notre cas nous allons utiliser la plupart du temps des GET et potentiellement des POST. \n",
    "- Le GET permet comme sont nom l'indique de récupérer des informations en fonction de certain paramètres. \n",
    "- Le POST nécéssite un envoie de données pour récupérer des données. Le body du post est, la plupart du temps, envoyé sous la forme d'un objet JSON.\n",
    "\n",
    "Ces requêtes encapsulent un certain nombre de paramètres qui permettent soient d'identifier une provenance et un utilisateur ou de réaliser différentes actions."
   ]
  },
  {
   "cell_type": "code",
   "execution_count": 1,
   "metadata": {},
   "outputs": [],
   "source": [
    "import requests"
   ]
  },
  {
   "cell_type": "code",
   "execution_count": 2,
   "metadata": {},
   "outputs": [
    {
     "data": {
      "text/plain": [
       "200"
      ]
     },
     "execution_count": 2,
     "metadata": {},
     "output_type": "execute_result"
    }
   ],
   "source": [
    "url = \"http://www.esiee.fr/\"\n",
    "response = requests.get(url)\n",
    "response.status_code"
   ]
  },
  {
   "cell_type": "markdown",
   "metadata": {},
   "source": [
    "Il existe deux méthodes pour récupérer le contenu de la page :\n",
    "\n",
    "- `response.text` qui permet de retourner le texte sous la forme d'une chaine de charactères.\n",
    "- `response.content` qui permet de récupérer le contenu de la page sous la forme de bytes"
   ]
  },
  {
   "cell_type": "code",
   "execution_count": 3,
   "metadata": {},
   "outputs": [
    {
     "data": {
      "text/plain": [
       "bytes"
      ]
     },
     "execution_count": 3,
     "metadata": {},
     "output_type": "execute_result"
    }
   ],
   "source": [
    "type(response.content)"
   ]
  },
  {
   "cell_type": "code",
   "execution_count": 4,
   "metadata": {},
   "outputs": [
    {
     "data": {
      "text/plain": [
       "str"
      ]
     },
     "execution_count": 4,
     "metadata": {},
     "output_type": "execute_result"
    }
   ],
   "source": [
    "type(response.text)"
   ]
  },
  {
   "cell_type": "markdown",
   "metadata": {},
   "source": [
    "Pour récupérer les 1000 premiers charactères de la page :"
   ]
  },
  {
   "cell_type": "code",
   "execution_count": 5,
   "metadata": {},
   "outputs": [
    {
     "data": {
      "text/plain": [
       "'<!DOCTYPE html>\\n<!--[if lt IE 7]>      <html class=\"no-js lt-ie9 lt-ie8 lt-ie7\"> <![endif]-->\\n<!--[if IE 7]>         <html class=\"no-js lt-ie9 lt-ie8\"> <![endif]-->\\n<!--[if IE 8]>         <html class=\"no-js lt-ie9\"> <![endif]-->\\n<!--[if IE 9]>         <html class=\"no-js ie9\"> <![endif]-->\\n<!--[if gt IE 9]><!--> <html class=\"no-js\"> <!--<![endif]-->\\n<head profile=\"http://www.w3.org/1999/xhtml/vocab\">\\n  <meta name=\"google-site-verification\" content=\"JnG7DTdhQuWTeSHlWC63CeWpb3WValiOorksYjoYOWI\" />\\n  <meta http-equiv=\"Content-Type\" content=\"text/html; charset=utf-8\" />\\n<meta name=\"Generator\" content=\"Drupal 7 (http://drupal.org)\" />\\n<meta name=\"description\" content=\"ESIEE Paris, l’école de l’innovation technologique | Grande école d’ingénieurs\\r\\nForme dans les domaines des technologies du numérique - Habilitée CTI.\" />\\n<link rel=\"shortcut icon\" href=\"https://www.esiee.fr/sites/all/themes/custom/esiee_theme/favicon.ico\" type=\"image/vnd.microsoft.icon\" />\\n  <title>ESIEE Paris, l’école de l’in'"
      ]
     },
     "execution_count": 5,
     "metadata": {},
     "output_type": "execute_result"
    }
   ],
   "source": [
    "response.text[0:1000]"
   ]
  },
  {
   "cell_type": "markdown",
   "metadata": {},
   "source": [
    "Pour récupérer les headers HTTP de la réponse :"
   ]
  },
  {
   "cell_type": "code",
   "execution_count": 6,
   "metadata": {},
   "outputs": [
    {
     "data": {
      "text/plain": [
       "{'Date': 'Sun, 24 Nov 2019 14:49:50 GMT', 'Server': 'Apache', 'Expires': 'Sun, 19 Nov 1978 05:00:00 GMT', 'Cache-Control': 'no-cache, must-revalidate', 'X-Content-Type-Options': 'nosniff', 'Content-Language': 'fr', 'X-Frame-Options': 'SAMEORIGIN', 'X-Generator': 'Drupal 7 (http://drupal.org)', 'Vary': 'Accept-Encoding', 'Content-Encoding': 'gzip', 'X-Robots-Tag': 'index,follow,noarchive', 'X-XSS-Protection': '1; mode=block', 'X-Download-Options': 'noopen;', 'X-Permitted-Cross-Domain-Policies': 'none', 'Content-Length': '16621', 'Keep-Alive': 'timeout=5, max=150', 'Connection': 'Keep-Alive', 'Content-Type': 'text/html; charset=utf-8'}"
      ]
     },
     "execution_count": 6,
     "metadata": {},
     "output_type": "execute_result"
    }
   ],
   "source": [
    "response.headers"
   ]
  },
  {
   "cell_type": "markdown",
   "metadata": {},
   "source": [
    "On peut modifier les paramêtres de la requête et/ou ses headers. On peut par exemple ajouter un UserAgent et un timeout de 10 secondes:"
   ]
  },
  {
   "cell_type": "code",
   "execution_count": 7,
   "metadata": {},
   "outputs": [
    {
     "data": {
      "text/plain": [
       "b'<!DOCTYPE html>\\n<!--[if lt IE 7]>      <html class=\"no-js lt-ie9 lt-ie8 lt-ie7\"> <![endif]-->\\n<!--[if IE 7]>         <html class=\"no-js lt-ie9 lt-ie8\"> <![endif]-->\\n<!--[if IE 8]>         <html class=\"no-js lt-ie9\"> <![endif]-->\\n<!--[if IE 9]>         <html class=\"no-js ie9\"> <![endif]-->\\n<!--[if gt IE 9]><!--> <html class=\"no-js\"> <!--<![endif]-->\\n<head profile=\"http://www.w3.org/1999/xhtml/vocab\">\\n  <meta name=\"google-site-verification\" content=\"JnG7DTdhQuWTeSHlWC63CeWpb3WValiOorksYjoYOWI\" />\\n  <meta http-equiv=\"Content-Type\" content=\"text/html; charset=utf-8\" />\\n<meta name=\"Generator\" content=\"Drupal 7 (http://drupal.org)\" />\\n<meta name=\"description\" content=\"ESIEE Paris, l\\xe2\\x80\\x99\\xc3\\xa9cole de l\\xe2\\x80\\x99innovation technologique | Grande \\xc3\\xa9cole d\\xe2\\x80\\x99ing\\xc3\\xa9nieurs\\r\\nForme dans les domaines des technologies du num\\xc3\\xa9rique - Habilit\\xc3\\xa9e CTI.\" />\\n<link rel=\"shortcut icon\" href=\"https://www.esiee.fr/sites/all/themes/custom/esiee_theme/favicon.ico\" type=\"image/vnd.microsoft.icon\" />\\n  <title>ESIEE Paris, l\\xe2\\x80\\x99'"
      ]
     },
     "execution_count": 7,
     "metadata": {},
     "output_type": "execute_result"
    }
   ],
   "source": [
    "headers = {'User-Agent': 'Mozilla/5.0 (Macintosh; Intel Mac OS X 10_10_1) AppleWebKit/537.36 (KHTML, like Gecko) Chrome/39.0.2171.95 Safari/537.36'}\n",
    "response = requests.get(url, headers=headers, timeout = 10)\n",
    "response.content[0:1000]"
   ]
  },
  {
   "cell_type": "markdown",
   "metadata": {},
   "source": [
    "## Exercice"
   ]
  },
  {
   "cell_type": "markdown",
   "metadata": {},
   "source": [
    "## Exercice 1\n",
    "\n",
    "- Créer une classe Python permettant de faire des requêtes HTTP.\n",
    "- Cette classe doit utiliser toujours le même UserAgent.\n",
    "- Le TimeOut sera spécifié à chaque appelle avec une valeur par défaut.\n",
    "- Un mécanisme de retry sera mis en place de façon recursive.\n",
    "\n",
    "## Exercice 2\n",
    "\n",
    "- Faire une fonction permettant de supprimer tous les espaces supperflus d'une string\n",
    "- Faire une fonction qui prend une string html et renvois une string intelligible (enlever les caractères spéciaux,\n",
    "- Récupérer le domaine en fonction d'un url"
   ]
  },
  {
   "cell_type": "code",
   "execution_count": 1,
   "metadata": {},
   "outputs": [],
   "source": [
    "import requests\n",
    "import re\n",
    "\n",
    "class Scrapper:\n",
    "    def __init__(self, url):\n",
    "        self.headers = {'User-Agent':'Mozilla/5.0 (Windows NT 10.0; Win64; x64) AppleWebKit/537.36 (KHTML, like Gecko) Chrome/86.0.4240.193 Safari/537.36'}\n",
    "        self.url = url\n",
    "      \n",
    "    #exercie1\n",
    "    def get_response(self, timeout = 10, max_retry = 3):\n",
    "        lastException = None\n",
    "        for _ in range(max_retry):\n",
    "            try:\n",
    "                r = requests.get(self.url, headers = self.headers, timeout = timeout)\n",
    "                return r.text\n",
    "            except Exception as e:\n",
    "                lastException = e\n",
    "        raise lastException       \n",
    "    \n",
    "    #exercice2\n",
    "    def remove_white_spaces(self, x):\n",
    "        return x.strip()\n",
    "\n",
    "    def clean_html_string(self, raw_html):\n",
    "        cleanr = re.compile('<.*?>')\n",
    "        cleantext = re.sub(cleanr, '', raw_html)\n",
    "        return cleantext\n",
    "    \n",
    "    def extract_domain_name(self):\n",
    "        m = re.search('https?://([A-Za-z_0-9.-]+).*', self.url)\n",
    "        if m:\n",
    "            return m.group(1)\n"
   ]
  },
  {
   "cell_type": "code",
   "execution_count": 2,
   "metadata": {},
   "outputs": [
    {
     "data": {
      "text/plain": [
       "'<!DOCTYPE html>\\n<!--[if lt IE 7]>      <html class=\"no-js lt-ie9 lt-ie8 lt-ie7\"> <![endif]-->\\n<!--[if IE 7]>         <html class=\"no-js lt-ie9 lt-ie8\"> <![endif]-->\\n<!--[if IE 8]>         <html class=\"no-js lt-ie9\"> <![endif]-->\\n<!--[if IE 9]>         <html class=\"no-js ie9\"> <![endif]-->\\n<!--[if gt IE 9]><!--> <html class=\"no-js\"> <!--<![endif]-->\\n<head profile=\"http://www.w3.org/1999/xhtml/vocab\">\\n\\t<!-- Google Tag Manager -->\\n\\t<script>\\n\\t\\t(function(w,d,s,l,i){\\n\\t\\t\\tw[l]=w[l]||[];w[l].push({\\'gtm.start\\':new Date().getTime(),event:\\'gtm.js\\'});\\n\\t\\t\\tvar f=d.getElementsByTagName(s)[0],\\tj=d.createElement(s),dl=l!=\\'dataLayer\\'?\\'&l=\\'+l:\\'\\';\\n\\t\\t\\tj.async=true;\\n\\t\\t\\tj.src=\\'https://www.googletagmanager.com/gtm.js?id=\\'+i+dl;f.parentNode.insertBefore(j,f);\\n\\t\\t\\t}\\n\\t\\t)\\n\\t\\t(window,document,\\'script\\',\\'dataLayer\\',\\'GTM-MQF5LJB\\');\\n\\t</script>\\n\\t<!-- End Google Tag Manager -->\\n  <meta name=\"google-site-verification\" content=\"JnG7DTdhQuWTeSHlWC63CeWpb3WValiOorksYjoYOWI\" />\\n  <meta http-equiv=\"Content-Type\" content=\"text/html; charset=utf-8\" />\\n<meta name=\"Generator\" content=\"Drupal 7 (http://drupal.org)\" />\\n<meta name=\"description\" content=\"ESIEE Paris, l’école de l’innovation technologique | Grande école d’ingénieurs\\r\\nForme dans les domaines des technologies du numérique - Habilitée CTI.\" />\\n<link rel=\"shortcut icon\" href=\"https://www.esiee.fr/sites/all/themes/custom/esiee_theme/favicon.ico\" type=\"image/vnd.microsoft.icon\" />\\n  <title>ESIEE Paris, l’école de l’innovation technologique | Grande école d’ingénieurs | ESIEE Paris</title>\\n  <meta content=\"width=device-width, maximum-scale=1.0, user-scalable=no\" name=\"viewport\"  />\\n  <link type=\"text/css\" rel=\"stylesheet\" href=\"https://www.esiee.fr/sites/default/files/css/css_xE-rWrJf-fncB6ztZfd2huxqgxu4WO-qwma6Xer30m4.css\" media=\"all\" />\\n<link type=\"text/css\" rel=\"stylesheet\" href=\"https://www.esiee.fr/sites/default/files/css/css_0nehMyndYv683LPew3BuGYArd7h9_M6uCOHIYpQyNdo.css\" media=\"all\" />\\n<link type=\"text/css\" rel=\"stylesheet\" href=\"https://www.esiee.fr/sites/default/files/css/css_QgumInWdopRq7VIyjTHEyng4fs7n4IIlY3Oix55C0YY.css\" media=\"all\" />\\n<link type=\"text/css\" rel=\"stylesheet\" href=\"https://www.esiee.fr/sites/default/files/css/css_sajwGgVLADUxHt4YUHy3mDCquYglMzLk1jbbCSNirBo.css\" media=\"all\" />\\n<link type=\"text/css\" rel=\"stylesheet\" href=\"https://www.esiee.fr/sites/default/files/css/css_N2m8XERalJCC_CzmYWb1LY7y1R6M2JJcg9uQKP-dzf8.css\" media=\"print\" />\\n  <script type=\"text/javascript\" src=\"https://www.esiee.fr/sites/default/files/js/js_gsRojzcXYRtFv8QHp89dxyJVklpAK8YiSqSpCQgUdak.js\"></script>\\n</head>\\n\\n<body class=\"html front not-logged-in one-sidebar sidebar-first page-esiee-homepage i18n-fr page-home\" >\\n<!-- Google Tag Manager (noscript) -->\\n<noscript><iframe src=\"https://www.googletagmanager.com/ns.html?id=GTM-MQF5LJB\" height=\"0\" width=\"0\" style=\"display:none;visibility:hidden\"></iframe></noscript>\\n<!-- End Google Tag Manager (noscript) -->\\n\\n  \\n  <div class=\"toolbar\">\\n\\n    <div class=\"for-mobile\">\\n      \\n<div id=\"block-esiee-esiee-header-search--2\" class=\"block block-esiee\">\\n\\n\\n<form class=\"form-horizontal f-left\" id=\"form-search\" onsubmit=\"if(this.keyword.value == &quot;Rechercher...&quot;) this.keyword.value=&quot;&quot;\" action=\"/\" method=\"post\" accept-charset=\"UTF-8\"><div> <input class=\"form-control form-text form-control\" onfocus=\"if(this.value == &quot;Rechercher...&quot;) this.value=&quot;&quot;\" onblur=\"if(this.value == &quot;&quot;) this.value=&quot;Rechercher...&quot;\" type=\"text\" id=\"edit-keyword--2\" name=\"keyword\" value=\"Rechercher...\" size=\"60\" maxlength=\"128\" />\\n<input type=\"submit\" id=\"edit-submit--3\" name=\"op\" value=\"\" class=\"form-submit\" /><input type=\"hidden\" name=\"form_build_id\" value=\"form-bbAHi0x5gml1oCCRXD2HPsSqZt-gZhff9CwxCrjhi7A\" />\\n<input type=\"hidden\" name=\"form_id\" value=\"esiee_global_search_form\" />\\n</div></form></div>\\n    </div>\\n\\n    <ul>\\n      <li class=\"parameters\">\\n        <a href=\"#\">\\n          <i class=\"icon-parametres\"></i>\\n        </a>\\n        <div class=\"parameters-tools\">\\n          <div class=\"parameters-tools-inner\">\\n            <p class=\"title\">Les outils ESIEE Paris</p><ul><li><a target=\"_blank\" title=\"Webmail ESIEE Paris\" href=\"https://gmail.com\"><i><img alt=\"\" src=\"https://www.esiee.fr/sites/default/files/menu_icons/menu_icon_950.png\"/> </i><span>Webmail ESIEE Paris</span></a></li><li><a target=\"_blank\" title=\"Emploi du temps général\" href=\"https://planif.esiee.fr/direct/\"><i><img alt=\"\" src=\"https://www.esiee.fr/sites/default/files/menu_icons/menu_icon_1331.png\"/> </i><span>Emploi du temps général</span></a></li><li><a target=\"_blank\" title=\"Emploi du temps individuel\" href=\"https://planif.esiee.fr/jsp/custom/esiee/easyMyPlanning.jsp\"><i><img alt=\"\" src=\"https://www.esiee.fr/sites/default/files/menu_icons/menu_icon_1332.png\"/> </i><span>Emploi du temps individuel</span></a></li><li><a target=\"_blank\" title=\"Extranet\" href=\"https://intra.esiee.fr\"><i><img alt=\"\" src=\"https://www.esiee.fr/sites/default/files/menu_icons/menu_icon_951.png\"/> </i><span>Extranet</span></a></li><li><a target=\"_blank\" title=\"iCampus\" href=\"https://esiee.blackboard.com\"><i><img alt=\"\" src=\"https://www.esiee.fr/sites/default/files/menu_icons/menu_icon_1311.png\"/> </i><span>iCampus</span></a></li><li class=\"last\"><a target=\"_blank\" title=\"Microsoft DreamSpark\" href=\"http://e5.onthehub.com/WebStore/Welcome.aspx?vsro=8&ws=45AD823E-799B-E011-969D-0030487D8897&JSEnabled=1\"><i><img alt=\"\" src=\"https://www.esiee.fr/sites/default/files/menu_icons/menu_icon_1696.png\"/> </i><span>Microsoft DreamSpark</span></a></li></ul>          </div>\\n        </div>\\n      </li>\\n            <li>\\n        <a href=\"/en\">\\n          <i>\\n            <img alt=\"English\" src=\"/sites/all/themes/custom/esiee_theme/assets/images/flag-en.png\" />\\n          </i>\\n        </a>\\n      </li>\\n      \\n                        <li class=\"hide-mobile \">\\n            <a href=\"https://www.facebook.com/esieeparis\" target=\"_blank\">\\n              <i class=\"fa fa-facebook\"></i>\\n            </a>\\n          </li>\\n                                <li class=\"hide-mobile \">\\n            <a href=\"https://twitter.com/ESIEEPARIS\" target=\"_blank\">\\n              <i class=\"fa fa-twitter\"></i>\\n            </a>\\n          </li>\\n                                              <li class=\"hide-mobile \">\\n            <a href=\"https://www.linkedin.com/edu/school?id=20041&trk=tyah&trkInfo=idx%3A4-1-4%2CtarId%3A1425998561386%2Ctas%3Aesiee+paris\" target=\"_blank\">\\n              <i class=\"fa fa-linkedin\"></i>\\n            </a>\\n          </li>\\n                                <li class=\"hide-mobile youtube\">\\n            <a href=\"http://www.youtube.com/esieeparis\" target=\"_blank\">\\n              <i class=\"fa fa-youtube\"></i>\\n            </a>\\n          </li>\\n                                              <li class=\"hide-mobile \">\\n            <a href=\"https://www.instagram.com/esieeparis/\" target=\"_blank\">\\n              <i class=\"fa fa-instagram\"></i>\\n            </a>\\n          </li>\\n              \\n      <li class=\"for-mobile social-networks\">\\n        <a href=\"#toolbar-footer\">\\n          <i><img alt=\"Réseaux sociaux\" src=\"/sites/all/themes/custom/esiee_theme/assets/images/icon-socialnetworks.png\" /></i>\\n        </a>\\n      </li>\\n    </ul>\\n\\n  </div>\\n\\n    <div class=\"l-page\">\\n\\n  <header>\\n    <div class=\"inner clearfix\">\\n      <div class=\"logo f-left\"><a href=\"/fr\" title=\"Page d\\'accueil\"><img src=\"https://www.esiee.fr/sites/all/themes/custom/esiee_theme/logo.png\" alt=\"ESIEE Paris\"></a></div>\\n\\n      <div class=\"menu\">\\n        <a href=\"#\" title=\"\" class=\"btn-menu js-btn-menu\"><span class=\"fa fa-reorder\"></span> menu</a>\\n        <ul><li class=\"formations lev0\" class=\"with-level\" ><a href=\"https://www.esiee.fr/fr/formations\" id=\"851\" class=\"js-link-lev0\">Formations</a>\\n        <div class=\"submenu lev1 js-level js-level1\">\\n          <div class=\"submenu-inner\">\\n            \\n            <a href=\"#\" title=\"\" class=\"link-back js-link-back0 link-back-mob\">RETOUR menu</a>\\n      <ul><li ><a href=\"https://www.esiee.fr/fr/formations\">Formations ESIEE Paris</a></li><li class=\"with-level\" ><a href=\"#\" id=\"880\" class=\"js-link-lev\">Ingénieur</a>\\n        <div class=\"lev2 js-level\">\\n          <div class=\"submenu-inner\">\\n            <p class=\"title\">Ingénieur</p>\\n            <a href=\"#\" title=\"\" class=\"link-back js-link-back\">RETOUR Formations</a>\\n      <ul><li ><a href=\"https://www.esiee.fr/fr/formations/ingenieur/ingenieur-esiee-paris\">Ingénieur ESIEE Paris</a></li><li ><a href=\"https://www.esiee.fr/fr/formations/ingenieur/premier-cycle\">Premier cycle</a></li><li class=\"with-level\" ><a href=\"#\" id=\"881\" class=\"js-link-lev\">Le cycle ingénieur</a>\\n        <div class=\"lev3 js-level\">\\n          <div class=\"submenu-inner\">\\n            <p class=\"title\">Le cycle ingénieur</p>\\n            <a href=\"#\" title=\"\" class=\"link-back js-link-back\">RETOUR Ingénieur</a>\\n      <ul><li ><a href=\"https://www.esiee.fr/fr/formations/ingenieur/cycle-ingenieur\">Le cycle ingénieur ESIEE Paris</a></li><li ><a href=\"https://www.esiee.fr/fr/formations/ingenieur/cycle-ingenieur/enseignements-premiere-annee\">Enseignements de 1ère année</a></li><li ><a href=\"https://www.esiee.fr/fr/formations/ingenieur/cycle-ingenieur/enseignements-deuxieme-troisieme-annee\">Enseignements de 2e et 3e année</a></li><li ><a href=\"https://www.esiee.fr/fr/formations/ingenieur/cycle-ingenieur/profils-metiers\">Profils métiers</a></li></ul></div></div></li><li class=\"with-level\" ><a href=\"#\" id=\"886\" class=\"js-link-lev\">Filières</a>\\n        <div class=\"lev3 js-level\">\\n          <div class=\"submenu-inner\">\\n            <p class=\"title\">Filières</p>\\n            <a href=\"#\" title=\"\" class=\"link-back js-link-back\">RETOUR Ingénieur</a>\\n      <ul><li ><a href=\"https://www.esiee.fr/fr/formations/ingenieur/filieres\">9 filières, 1 diplôme</a></li><li ><a href=\"https://www.esiee.fr/fr/formations/ingenieur/filieres/informatique\">Informatique</a></li><li ><a href=\"https://www.esiee.fr/fr/formations/ingenieur/filieres/cybersecurite\">Cybersécurité</a></li><li ><a href=\"https://www.esiee.fr/fr/formations/ingenieur/filieres/datascience-intelligence-artificielle\">Datascience et intelligence artificielle</a></li><li ><a href=\"https://www.esiee.fr/fr/formations/ingenieur/filieres/artificial-intelligence-cybersecurity\">Artificial Intelligence and Cybersecurity</a></li><li ><a href=\"https://www.esiee.fr/fr/formations/ingenieur/filieres/systemes-embarques\">Systèmes embarqués</a></li><li ><a href=\"https://www.esiee.fr/fr/formations/ingenieur/filieres/systemes-electroniques\">Systèmes électroniques intelligents</a></li><li ><a href=\"https://www.esiee.fr/fr/formations/ingenieur/filieres/genie-industriel\">Génie industriel</a></li><li ><a href=\"https://www.esiee.fr/fr/formations/ingenieur/filieres/biotechnologies-esante\">Biotechnologies et e-santé</a></li><li ><a href=\"https://www.esiee.fr/fr/formations/ingenieur/filieres/energie\">Energie</a></li></ul></div></div></li><li ><a href=\"https://www.esiee.fr/fr/formations/ingenieur/doubles-diplomes\">Doubles-diplômes</a></li><li ><a href=\"https://www.esiee.fr/fr/formations/ingenieur/emplois-et-salaires\">Emplois et salaires</a></li><li ><a href=\"https://www.esiee.fr/fr/formations/ingenieur/frais-scolarites/aides-financieres\">Frais de scolarité - Aides financières</a></li><li ><a href=\"https://www.esiee.fr/fr/formations/ingenieur/stages\">Stages</a></li><li ><a href=\"https://www.esiee.fr/fr/formations/ingenieur/admission/Ingenieur\">Admissions</a></li><li ><a href=\"https://www.esiee.fr/fr/contact-ingenieur\">Contact</a></li></ul></div></div></li><li class=\"with-level\" ><a href=\"#\" id=\"893\" class=\"js-link-lev\">Ingénieur par apprentissage</a>\\n        <div class=\"lev2 js-level\">\\n          <div class=\"submenu-inner\">\\n            <p class=\"title\">Ingénieur par apprentissage</p>\\n            <a href=\"#\" title=\"\" class=\"link-back js-link-back\">RETOUR Formations</a>\\n      <ul><li ><a href=\"https://www.esiee.fr/fr/formations/ingenieur-par-apprentissage\">Devenir ingénieur par l&#039;apprentissage</a></li><li class=\"with-level\" ><a href=\"#\" id=\"1437\" class=\"js-link-lev\">Réseaux et sécurité - architecture et internet des objets</a>\\n        <div class=\"lev3 js-level\">\\n          <div class=\"submenu-inner\">\\n            <p class=\"title\">Réseaux et sécurité - architecture et internet des objets</p>\\n            <a href=\"#\" title=\"\" class=\"link-back js-link-back\">RETOUR Ingénieur par apprentissage</a>\\n      <ul><li ><a href=\"https://www.esiee.fr/fr/formations/ingenieur-par-apprentissage/reseaux-securite\">Réseaux et sécurité - architecture et internet des objets</a></li><li ><a href=\"https://www.esiee.fr/fr/formations/ingenieur-par-apprentissage/reseaux-securite/programme-des-enseignements\">Programme des enseignements</a></li></ul></div></div></li><li class=\"with-level\" ><a href=\"#\" id=\"1438\" class=\"js-link-lev\">Systèmes embarqués - transports et objets intelligents</a>\\n        <div class=\"lev3 js-level\">\\n          <div class=\"submenu-inner\">\\n            <p class=\"title\">Systèmes embarqués - transports et objets intelligents</p>\\n            <a href=\"#\" title=\"\" class=\"link-back js-link-back\">RETOUR Ingénieur par apprentissage</a>\\n      <ul><li ><a href=\"https://www.esiee.fr/fr/formations/ingenieur-par-apprentissage/systemes-embarques\">Systèmes embarqués - transports et objets intelligents</a></li><li ><a href=\"https://www.esiee.fr/fr/formations/ingenieur-par-apprentissage/systemes-embarques/programme-des-enseignements\">Programme des enseignements</a></li></ul></div></div></li><li class=\"with-level\" ><a href=\"#\" id=\"1439\" class=\"js-link-lev\">Informatique et applications - ingénierie 3D et technologie des médias</a>\\n        <div class=\"lev3 js-level\">\\n          <div class=\"submenu-inner\">\\n            <p class=\"title\">Informatique et applications - ingénierie 3D et technologie des médias</p>\\n            <a href=\"#\" title=\"\" class=\"link-back js-link-back\">RETOUR Ingénieur par apprentissage</a>\\n      <ul><li ><a href=\"https://www.esiee.fr/fr/formations/ingenieur-par-apprentissage/informatique-et-applications\">Informatique et applications - ingénierie graphique et technologies 3D</a></li><li ><a href=\"https://www.esiee.fr/fr/formations/ingenieur-par-apprentissage/informatique-et-applications/programme-des-enseignements\">Programme des enseignements</a></li></ul></div></div></li><li class=\"with-level\" ><a href=\"#\" id=\"1766\" class=\"js-link-lev\">Génie industriel - Supply chain et numérique</a>\\n        <div class=\"lev3 js-level\">\\n          <div class=\"submenu-inner\">\\n            <p class=\"title\">Génie industriel - Supply chain et numérique</p>\\n            <a href=\"#\" title=\"\" class=\"link-back js-link-back\">RETOUR Ingénieur par apprentissage</a>\\n      <ul><li ><a href=\"https://www.esiee.fr/fr/formations/ingenieur-par-apprentissage/genie-industriel\">Génie industriel - Supply chain et numérique</a></li><li ><a href=\"https://www.esiee.fr/fr/formations/ingenieur-par-apprentissage/genie-industriel/programme-des-enseignements\">Programme des enseignements</a></li></ul></div></div></li><li ><a href=\"https://www.esiee.fr/fr/formations/ingenieur-par-apprentissage/energies\">Energies - Ingénierie de la transition énergétique</a></li><li ><a href=\"https://www.esiee.fr/fr/formations/ingenieur-par-apprentissage/mode-emploi\">Apprentissage : mode d&#039;emploi</a></li><li ><a href=\"https://www.esiee.fr/fr/admission/Ingenieur-par-apprentissage\">Admissions</a></li><li ><a href=\"https://www.esiee.fr/fr/contact-ingenieur-par-apprentissage\">Contact</a></li></ul></div></div></li><li class=\"with-level\" ><a href=\"#\" id=\"894\" class=\"js-link-lev\">Masters internationaux</a>\\n        <div class=\"lev2 js-level\">\\n          <div class=\"submenu-inner\">\\n            <p class=\"title\">Masters internationaux</p>\\n            <a href=\"#\" title=\"\" class=\"link-back js-link-back\">RETOUR Formations</a>\\n      <ul><li ><a href=\"https://www.esiee.fr/fr/formations/masters-internationaux\">Programmes internationaux</a></li><li ><a href=\"https://www.esiee.fr/fr/formations/masters-internationaux/master-artificial-intelligence-cybersecurity\">Master - Artificial Intelligence and Cybersecurity</a></li><li ><a href=\"https://www.esiee.fr/fr/formations/masters-internationaux/msc-connected-objects-devices-and-systems\">M.Sc. Connected Objects, Devices and Systems</a></li><li ><a href=\"https://www.esiee.fr/fr/formations/masters-internationaux/msc-management-information-systems\">M.Sc. Management of Technology - Information Systems</a></li><li ><a href=\"https://www.esiee.fr/fr/contact-programmes-internationaux\">Contact</a></li></ul></div></div></li><li class=\"with-level\" ><a href=\"#\" id=\"895\" class=\"js-link-lev\">Mastères spécialisés</a>\\n        <div class=\"lev2 js-level\">\\n          <div class=\"submenu-inner\">\\n            <p class=\"title\">Mastères spécialisés</p>\\n            <a href=\"#\" title=\"\" class=\"link-back js-link-back\">RETOUR Formations</a>\\n      <ul><li ><a href=\"https://www.esiee.fr/fr/formations/masteres-specialises/innovation-technologique-management-projet\">Innovation technologique et management de projets</a></li></ul></div></div></li></ul></div></div></li><li class=\"espace-etudiants lev0\" class=\"with-level\" ><a href=\"#\" id=\"852\" class=\"js-link-lev0\">Espace étudiants</a>\\n        <div class=\"submenu lev1 js-level js-level1\">\\n          <div class=\"submenu-inner\">\\n            \\n            <a href=\"#\" title=\"\" class=\"link-back js-link-back0 link-back-mob\">RETOUR menu</a>\\n      <ul><li ><a href=\"https://www.esiee.fr/fr/espace-etudiants/vie-etudiante\">La vie étudiante</a></li><li class=\"with-level\" ><a href=\"#\" id=\"1409\" class=\"js-link-lev\">L\\'associatif</a>\\n        <div class=\"lev2 js-level\">\\n          <div class=\"submenu-inner\">\\n            <p class=\"title\">L\\'associatif</p>\\n            <a href=\"#\" title=\"\" class=\"link-back js-link-back\">RETOUR Espace étudiants</a>\\n      <ul><li ><a href=\"https://www.esiee.fr/fr/espace-etudiants/associatif/bureau-des-eleves\">Bureau des élèves</a></li><li ><a href=\"https://www.esiee.fr/fr/espace-etudiants/associatif/junior-esiee\">Junior ESIEE</a></li><li ><a href=\"https://www.esiee.fr/fr/espace-etudiants/associatif/clubs-associations\">Clubs et associations</a></li></ul></div></div></li><li ><a href=\"https://www.esiee.fr/fr/espace-etudiants/amenagements-etudes\">Aménagements d&#039;études</a></li><li ><a href=\"https://www.esiee.fr/fr/espace-etudiants/TI-innovation-gateway\">Bibliothèque 4.0</a></li><li ><a href=\"https://www.esiee.fr/fr/espace-etudiants/logements\">Logements</a></li><li ><a href=\"https://www.esiee.fr/fr/espace-etudiants/sport\">Sport</a></li><li ><a href=\"https://www.esiee.fr/fr/espace-etudiants/campus-descartes\">Campus Descartes</a></li><li ><a href=\"https://www.esiee.fr/fr/espace-etudiants/relais-handicap\">Relais handicap</a></li><li class=\"with-level\" ><a href=\"#\" id=\"1423\" class=\"js-link-lev\">Equipements</a>\\n        <div class=\"lev2 js-level\">\\n          <div class=\"submenu-inner\">\\n            <p class=\"title\">Equipements</p>\\n            <a href=\"#\" title=\"\" class=\"link-back js-link-back\">RETOUR Espace étudiants</a>\\n      <ul><li ><a href=\"https://www.esiee.fr/fr/espace-etudiants/equipements/centre-de-langues\">Le centre de langues</a></li><li ><a href=\"https://www.esiee.fr/fr/espace-etudiants/equipements/informatique\">Laboratoires</a></li><li ><a href=\"https://www.esiee.fr/fr/espace-etudiants/equipements/ordinateurs-portables\">Ordinateurs portables</a></li></ul></div></div></li><li ><a href=\"https://www.esiee.fr/fr/espace-etudiants/ressources-numeriques\">Ressources numériques</a></li><li ><a href=\"https://www.esiee.fr/fr/espace-etudiants/financer-vos-etudes\">Financer vos études</a></li><li ><a href=\"https://www.esiee.fr/fr/videotheque\">Vidéothèque</a></li></ul></div></div></li><li class=\"ecole lev0\" class=\"with-level\" ><a href=\"#\" id=\"1382\" class=\"js-link-lev0\">L\\'école</a>\\n        <div class=\"submenu lev1 js-level js-level1\">\\n          <div class=\"submenu-inner\">\\n            \\n            <a href=\"#\" title=\"\" class=\"link-back js-link-back0 link-back-mob\">RETOUR menu</a>\\n      <ul><li ><a href=\"https://www.esiee.fr/fr/ecole/qui-sommes-nous\">Qui sommes nous ?</a></li><li ><a href=\"https://www.esiee.fr/fr/gouvernance\">Gouvernance</a></li><li ><a href=\"https://www.esiee.fr/fr/ecole/conseil-scientifique\">Conseil Scientifique</a></li><li class=\"with-level\" ><a href=\"#\" id=\"1482\" class=\"js-link-lev\">Les départements d\\'enseignements et de recherche</a>\\n        <div class=\"lev2 js-level\">\\n          <div class=\"submenu-inner\">\\n            <p class=\"title\">Les départements d\\'enseignements et de recherche</p>\\n            <a href=\"#\" title=\"\" class=\"link-back js-link-back\">RETOUR L\\'école</a>\\n      <ul><li ><a href=\"https://www.esiee.fr/fr/ecole/departements-enseignants/4-departements\">4 départements</a></li><li ><a href=\"https://www.esiee.fr/fr/ecole/departements-enseignements/informatique\">Informatique</a></li><li ><a href=\"https://www.esiee.fr/fr/ecole/departements-enseignements/ingenierie-systemes\">Ingénierie des systèmes</a></li><li ><a href=\"https://www.esiee.fr/fr/ecole/departements-enseignements/sante-energie-environnement\">Santé, énergie, environnement</a></li><li ><a href=\"https://www.esiee.fr/fr/ecole/departements-enseignements/management-technologies-langues\">Management de la technologie et langues</a></li></ul></div></div></li><li class=\"with-level\" ><a href=\"#\" id=\"1365\" class=\"js-link-lev\">Corps enseignant</a>\\n        <div class=\"lev2 js-level\">\\n          <div class=\"submenu-inner\">\\n            <p class=\"title\">Corps enseignant</p>\\n            <a href=\"#\" title=\"\" class=\"link-back js-link-back\">RETOUR L\\'école</a>\\n      <ul><li ><a href=\"https://www.esiee.fr/fr/ecole/corps-enseignant/enseigner-a-esiee-paris\">Enseigner à ESIEE Paris</a></li><li ><a href=\"https://www.esiee.fr/fr/ecole/les-enseignants-chercheurs\">Les enseignants-chercheurs</a></li><li ><a href=\"https://www.esiee.fr/fr/ecole/corps-enseignant/cv-corps-professoral\">CV du corps professoral</a></li></ul></div></div></li><li class=\"with-level\" ><a href=\"#\" id=\"1550\" class=\"js-link-lev\">Les salles blanches</a>\\n        <div class=\"lev2 js-level\">\\n          <div class=\"submenu-inner\">\\n            <p class=\"title\">Les salles blanches</p>\\n            <a href=\"#\" title=\"\" class=\"link-back js-link-back\">RETOUR L\\'école</a>\\n      <ul><li ><a href=\"https://www.esiee.fr/fr/ecole/salles-blanches\">Les salles blanches</a></li><li class=\"with-level\" ><a href=\"#\" id=\"1064\" class=\"js-link-lev\">Equipements et procédés</a>\\n        <div class=\"lev3 js-level\">\\n          <div class=\"submenu-inner\">\\n            <p class=\"title\">Equipements et procédés</p>\\n            <a href=\"#\" title=\"\" class=\"link-back js-link-back\">RETOUR Les salles blanches</a>\\n      <ul><li ><a href=\"https://www.esiee.fr/fr/ecole/salles-blanches/equipements-et-procedes\">Équipements et Procédés</a></li><li ><a href=\"https://www.esiee.fr/fr/ecole/salles-blanches/equipements-et-procedes/photolithographie\">Photolithographie</a></li><li ><a href=\"https://www.esiee.fr/fr/ecole/salles-blanches/equipements-et-procedes/traitements-thermiques\">Traitements thermiques</a></li><li ><a href=\"https://www.esiee.fr/fr/ecole/salles-blanches/equipements-et-procedes/depots-couches-minces\">Dépôts de couches minces</a></li><li ><a href=\"https://www.esiee.fr/fr/ecole/salles-blanches/equipements-et-procedes/electrodeposition\">Electrodéposition</a></li><li ><a href=\"https://www.esiee.fr/fr/ecole/salles-blanches/equipements-et-procedes/gravures-plasma\">Gravures plasma</a></li><li ><a href=\"https://www.esiee.fr/fr/ecole/salles-blanches/equipements-et-procedes/gravure-humide-nettoyage\">Gravure humide et nettoyage</a></li><li ><a href=\"https://www.esiee.fr/fr/ecole/salles-blanches/equipements-et-procedes/scellement-de-substrats\">Scellement de substrats</a></li><li ><a href=\"https://www.esiee.fr/fr/ecole/salles-blanches/equipements-et-procedes/metrologie\">Métrologie</a></li><li ><a href=\"https://www.esiee.fr/fr/ecole/salles-blanches/equipements-et-procedes/plateforme-sem-fib\">Plate-forme SEM/FIB</a></li><li ><a href=\"https://www.esiee.fr/fr/ecole/salles-blanches/equipements-et-procedes/packaging\">Packaging</a></li></ul></div></div></li><li ><a href=\"https://www.esiee.fr/fr/ecole/salles-blanches/equipements-et-procedes/recherche-collaborations\">Recherche et collaborations</a></li><li ><a href=\"https://www.esiee.fr/fr/ecole/salles-blanches/equipe\">Equipe</a></li><li ><a href=\"https://www.esiee.fr/fr/ecole/salles-blanches/plateforme-recherche-collaborative-feder\">Plateforme de recherche collaborative - FEDER</a></li><li ><a href=\"https://www.esiee.fr/fr/contact-salles-blanches\">Contact</a></li></ul></div></div></li><li ><a href=\"https://www.esiee.fr/fr/esiee_ldap_directory\">Annuaire</a></li><li ><a href=\"https://www.esiee.fr/fr/ecole/esiee-connect\">ESIEE Connect</a></li><li ><a href=\"https://www.esiee.fr/fr/webserie-yann-lecun-prix-turing\">Webserie Yann LeCun et ESIEE Paris</a></li><li ><a href=\"https://www.esiee.fr/fr/ecole/visite-virtuelle\">Visite virtuelle ESIEE Paris</a></li></ul></div></div></li><li class=\"recherche lev0\" class=\"with-level\" ><a href=\"#\" id=\"854\" class=\"js-link-lev0\">La recherche</a>\\n        <div class=\"submenu lev1 js-level js-level1\">\\n          <div class=\"submenu-inner\">\\n            \\n            <a href=\"#\" title=\"\" class=\"link-back js-link-back0 link-back-mob\">RETOUR menu</a>\\n      <ul><li ><a href=\"https://www.esiee.fr/fr/la-recherche\">Accueil Recherche</a></li><li class=\"with-level\" ><a href=\"#\" id=\"1563\" class=\"js-link-lev\">La recherche à ESIEE Paris</a>\\n        <div class=\"lev2 js-level\">\\n          <div class=\"submenu-inner\">\\n            <p class=\"title\">La recherche à ESIEE Paris</p>\\n            <a href=\"#\" title=\"\" class=\"link-back js-link-back\">RETOUR La recherche</a>\\n      <ul><li ><a href=\"https://www.esiee.fr/fr/la-recherche/recherche-esiee-paris\">La recherche à ESIEE Paris</a></li><li ><a href=\"https://www.esiee.fr/fr/la-recherche/partenariats-academiques\">Partenariats académiques</a></li><li ><a href=\"https://www.esiee.fr/fr/la-recherche/partenariats-entreprise\">Partenariats entreprise</a></li></ul></div></div></li><li class=\"with-level\" ><a href=\"#\" id=\"1573\" class=\"js-link-lev\">Grands domaines</a>\\n        <div class=\"lev2 js-level\">\\n          <div class=\"submenu-inner\">\\n            <p class=\"title\">Grands domaines</p>\\n            <a href=\"#\" title=\"\" class=\"link-back js-link-back\">RETOUR La recherche</a>\\n      <ul><li ><a href=\"https://www.esiee.fr/fr/la-recherche/grands-domaines\">3 grands domaines</a></li><li ><a href=\"https://www.esiee.fr/fr/la-recherche/grands-domaines/ville-durable\">Ville durable</a></li><li ><a href=\"https://www.esiee.fr/fr/la-recherche/grands-domaines/sante\">Santé</a></li><li ><a href=\"https://www.esiee.fr/fr/la-recherche/grands-domaines/tic-et-societe\">STIC et société</a></li></ul></div></div></li><li class=\"with-level\" ><a href=\"https://www.esiee.fr/fr/la-recherche\" id=\"1502\" class=\"js-link-lev\">Thèmes de recherche</a>\\n        <div class=\"lev2 js-level\">\\n          <div class=\"submenu-inner\">\\n            <p class=\"title\">Thèmes de recherche</p>\\n            <a href=\"#\" title=\"\" class=\"link-back js-link-back\">RETOUR La recherche</a>\\n      <ul><li class=\"with-level\" ><a href=\"#\" id=\"1503\" class=\"js-link-lev\">Informatique, image, signal</a>\\n        <div class=\"lev3 js-level\">\\n          <div class=\"submenu-inner\">\\n            <p class=\"title\">Informatique, image, signal</p>\\n            <a href=\"#\" title=\"\" class=\"link-back js-link-back\">RETOUR Thèmes de recherche</a>\\n      <ul><li ><a href=\"https://www.esiee.fr/fr/la-recherche/themes-de-recherche/informatique-image-signal\">Informatique, image, signal</a></li><li ><a href=\"https://www.esiee.fr/fr/la-recherche/themes-de-recherche/informatique-image-signal/architecture-parallelisme-realite-virtuelle\">Architecture et parallélisme pour l&#039;imagerie et la réalité virtuelle</a></li><li ><a href=\"https://www.esiee.fr/fr/la-recherche/themes-de-recherche/informatique-image-signal/geometrie-algorithmique\">Géométrie discrète, géométrie algorithmique </a></li><li ><a href=\"https://www.esiee.fr/fr/la-recherche/themes-de-recherche/informatique-image-signal/morphologie-mathematique-traitement-image\">Morphologie mathématique et traitement d&#039;images </a></li><li ><a href=\"https://www.esiee.fr/fr/la-recherche/themes-de-recherche/informatique-image-signal/optimisation-modelisation-apprentissage\">Optimisation, modélisation et apprentissage </a></li><li ><a href=\"https://www.esiee.fr/fr/la-recherche/themes-de-recherche/informatique-image-signal/traitement-signal\">Traitement du signal</a></li></ul></div></div></li><li class=\"with-level\" ><a href=\"#\" id=\"1506\" class=\"js-link-lev\">Capteurs, santé, énergie, environnement</a>\\n        <div class=\"lev3 js-level\">\\n          <div class=\"submenu-inner\">\\n            <p class=\"title\">Capteurs, santé, énergie, environnement</p>\\n            <a href=\"#\" title=\"\" class=\"link-back js-link-back\">RETOUR Thèmes de recherche</a>\\n      <ul><li ><a href=\"https://www.esiee.fr/fr/la-recherche/themes-de-recherche/capteurs-sante-energie-environnement\">Capteurs, santé, énergie, environnement</a></li><li ><a href=\"https://www.esiee.fr/fr/la-recherche/themes-de-recherche/capteurs-sante-energie-environnement/microsystemes-analyse-environnement-ville-durable\">Microsystèmes pour l&#039;analyse de l&#039;environnement et la ville durable</a></li><li ><a href=\"https://www.esiee.fr/fr/la-recherche/themes-de-recherche/capteurs-sante-energie-environnement/technologies-sante\">Technologies pour la santé</a></li><li ><a href=\"https://www.esiee.fr/fr/la-recherche/themes-de-recherche/capteurs-sante-energie-environnement/micro-dispositif-materiaux-nanostructurees-recuperation-energie\">Micro-dispositifs et matériaux nanostructurées pour la récupération d&#039;énergie</a></li><li ><a href=\"https://www.esiee.fr/fr/la-recherche/themes-de-recherche/capteurs-sante-energie-environnement/systemes-energetiques-ville-durable\">Systèmes énergétiques pour la ville durable</a></li></ul></div></div></li><li class=\"with-level\" ><a href=\"#\" id=\"1508\" class=\"js-link-lev\">Electronique, communication</a>\\n        <div class=\"lev3 js-level\">\\n          <div class=\"submenu-inner\">\\n            <p class=\"title\">Electronique, communication</p>\\n            <a href=\"#\" title=\"\" class=\"link-back js-link-back\">RETOUR Thèmes de recherche</a>\\n      <ul><li ><a href=\"https://www.esiee.fr/fr/la-recherche/themes-de-recherche/electronique-communication\">Electronique, communication</a></li><li ><a href=\"https://www.esiee.fr/fr/la-recherche/themes-de-recherche/electronique-communication/architectures-algorithmes-communications-radios-localisation\">Architectures et algorithmes pour les communications radios et la localisation</a></li><li ><a href=\"https://www.esiee.fr/fr/la-recherche/themes-de-recherche/electronique-communication/composants-circuits-systemes-communications-radios-optiques\">Composants et circuits pour les systèmes de communications radios et optiques</a></li><li ><a href=\"https://www.esiee.fr/fr/la-recherche/themes-de-recherche/electronique-communication/electronique-micro-systemes-instrumentation-systems-mesures\">Electronique associée aux micro-systèmes, instrumentation et systèmes de mesures</a></li></ul></div></div></li><li class=\"with-level\" ><a href=\"#\" id=\"1509\" class=\"js-link-lev\">Systèmes embarqués, réseaux, manufacturing</a>\\n        <div class=\"lev3 js-level\">\\n          <div class=\"submenu-inner\">\\n            <p class=\"title\">Systèmes embarqués, réseaux, manufacturing</p>\\n            <a href=\"#\" title=\"\" class=\"link-back js-link-back\">RETOUR Thèmes de recherche</a>\\n      <ul><li ><a href=\"https://www.esiee.fr/fr/la-recherche/themes-de-recherche/systemes-embarques-reseaux-manufacturing\">Systèmes embarqués, réseaux, manufacturing</a></li><li ><a href=\"https://www.esiee.fr/fr/la-recherche/themes-de-recherche/systemes-embarques-reseaux-manufacturing/systemes-temps-reel-optimisation-energie\">Systèmes temps réel : ordonnancement temps réel, optimisation de l&#039;énergie, méthodologie et outils de conception</a></li><li ><a href=\"https://www.esiee.fr/fr/la-recherche/themes-de-recherche/systemes-embarques-reseaux-manufacturing/optimisation-multi-couches-reseaux\">Optimisation inter-couches des réseaux</a></li><li ><a href=\"https://www.esiee.fr/fr/la-recherche/themes-de-recherche/systemes-embarques-reseaux-manufacturing/modeles-decisionnels-dynamiques-systemes-manufacturiers\">Vers des modèles décisionnels dynamiques pour les systèmes manufacturiers</a></li></ul></div></div></li><li class=\"with-level\" ><a href=\"#\" id=\"1510\" class=\"js-link-lev\">Management de l\\'innovation</a>\\n        <div class=\"lev3 js-level\">\\n          <div class=\"submenu-inner\">\\n            <p class=\"title\">Management de l\\'innovation</p>\\n            <a href=\"#\" title=\"\" class=\"link-back js-link-back\">RETOUR Thèmes de recherche</a>\\n      <ul><li ><a href=\"https://www.esiee.fr/fr/la-recherche/themes-de-recherche/management-innovation\">Management de l&#039;innovation</a></li><li ><a href=\"https://www.esiee.fr/fr/la-recherche/themes-de-recherche/management-innovation/innovations-rupture-marches-connaissance\">Innovations de rupture et marchés de la connaissance</a></li><li ><a href=\"https://www.esiee.fr/fr/la-recherche/themes-de-recherche/management-innovation/management-projets-innovants\">Management de projets innovants</a></li><li ><a href=\"https://www.esiee.fr/fr/la-recherche/themes-de-recherche/management-innovation/entrepreneuriat-financement-innovation\">Entrepreneuriat et financement de l&#039;innovation</a></li><li ><a href=\"https://www.esiee.fr/fr/la-recherche/themes-de-recherche/management-innovation/perpectives-mondialisation-changements-institutionnels\">Perspectives de la mondialisation et changements institutionnels</a></li></ul></div></div></li></ul></div></div></li><li ><a href=\"https://www.esiee.fr/fr/la-recherche/equipements\">Plateformes et équipements</a></li><li ><a href=\"https://www.esiee.fr/fr/esiee_search/person\">Équipe de recherche</a></li><li ><a href=\"https://www.esiee.fr/fr/la-recherche/formations-par-la-recherche\">Formations par la recherche</a></li><li ><a href=\"https://www.esiee.fr/fr/la-recherche/formalites-accueil\">Formalités d&#039;accueil</a></li><li ><a href=\"https://www.esiee.fr/fr/la-recherche/publications-esiee-paris-12-mois\">Publications des 12 derniers mois</a></li><li ><a href=\"https://www.esiee.fr/fr/la-recherche/publications-esiee\">Publications 2017-2018</a></li><li ><a href=\"https://www.esiee.fr/fr/recherche/publications\">Publications avant 2016</a></li><li ><a href=\"https://www.esiee.fr/fr/contact-recherche\">Contact</a></li></ul></div></div></li><li class=\"entreprises lev0\" class=\"with-level\" ><a href=\"#\" id=\"855\" class=\"js-link-lev0\">Entreprises</a>\\n        <div class=\"submenu lev1 js-level js-level1\">\\n          <div class=\"submenu-inner\">\\n            \\n            <a href=\"#\" title=\"\" class=\"link-back js-link-back0 link-back-mob\">RETOUR menu</a>\\n      <ul><li class=\"with-level\" ><a href=\"https://www.esiee.fr/fr/entreprises\" id=\"2539\" class=\"js-link-lev\">L\\'entreprise partenaire</a>\\n        <div class=\"lev2 js-level\">\\n          <div class=\"submenu-inner\">\\n            <p class=\"title\">L\\'entreprise partenaire</p>\\n            <a href=\"#\" title=\"\" class=\"link-back js-link-back\">RETOUR Entreprises</a>\\n      <ul><li ><a href=\"https://www.esiee.fr/fr/entreprises\">L&#039;entreprise partenaire</a></li><li ><a href=\"https://www.esiee.fr/fr/entreprises/entreprises-partenaires/elaborez-une-chaire-enseignement\">Elaborez une chaire d&#039;enseignement et de recherche</a></li><li ><a href=\"https://www.esiee.fr/fr/entreprises/entreprises-partenaires/devenez-parrain-de-promotion\">Devenez parrain de promotion</a></li><li ><a href=\"https://www.esiee.fr/fr/entreprises/deposez-offres-emploi-stage-apprentissage\">Déposez une offre d&#039;emploi, de stage et d&#039;apprentissage</a></li><li ><a href=\"https://www.esiee.fr/fr/contact-entreprises\">Contactez-nous</a></li></ul></div></div></li><li class=\"with-level\" ><a href=\"#\" id=\"1397\" class=\"js-link-lev\">Recrutez nos étudiants</a>\\n        <div class=\"lev2 js-level\">\\n          <div class=\"submenu-inner\">\\n            <p class=\"title\">Recrutez nos étudiants</p>\\n            <a href=\"#\" title=\"\" class=\"link-back js-link-back\">RETOUR Entreprises</a>\\n      <ul><li ><a href=\"https://www.esiee.fr/fr/entreprises/recrutez-nos-etudiants/accueillez-un-stagiaire\">Accueillez un stagiaire</a></li><li ><a href=\"https://www.esiee.fr/fr/entreprises/recrutez-nos-etudiants/recrutez-un-apprenti\">Recrutez un apprenti</a></li><li ><a href=\"https://www.esiee.fr/fr/entreprises/recrutez-nos-etudiants/evenements-ecole-entreprises\">Participez aux événements école-entreprises</a></li><li ><a href=\"https://www.esiee.fr/fr/entreprises/recrutez-nos-etudiants/consultez-enquete-emploi\">Consultez l&#039;enquête emploi</a></li><li ><a href=\"https://www.esiee.fr/fr/entreprises/recrutez-nos-etudiants/contactez-les-alumni\">Contactez les alumni</a></li><li ><a href=\"https://www.esiee.fr/fr/entreprises/deposez-offres-emploi-stage-apprentissage\">Déposez une offre d&#039;emploi, de stage et d&#039;apprentissage</a></li><li ><a href=\"https://www.esiee.fr/fr/contact-pole-carriere\">Contactez-nous</a></li></ul></div></div></li><li ><a href=\"https://www.esiee.fr/fr/entreprises/formez-vos-collaborateurs\">Formez vos collaborateurs</a></li><li class=\"with-level\" ><a href=\"#\" id=\"1406\" class=\"js-link-lev\">Développez vos projets technologiques</a>\\n        <div class=\"lev2 js-level\">\\n          <div class=\"submenu-inner\">\\n            <p class=\"title\">Développez vos projets technologiques</p>\\n            <a href=\"#\" title=\"\" class=\"link-back js-link-back\">RETOUR Entreprises</a>\\n      <ul><li ><a href=\"https://www.esiee.fr/fr/entreprises/developpez-vos-projets-technologiques/utilisez-nos-plateformes-technologiques\">Utilisez nos plateformes technologiques</a></li><li ><a href=\"https://www.esiee.fr/fr/entreprises/developpez-vos-projets-technologiques/recherche-et-developpement\">Collaborez avec la R&amp;D de ESIEE Paris</a></li><li ><a href=\"https://www.esiee.fr/fr/contact-entreprises\">Contactez-nous</a></li></ul></div></div></li><li class=\"with-level\" ><a href=\"#\" id=\"4360\" class=\"js-link-lev\">Soutenez nos projets</a>\\n        <div class=\"lev2 js-level\">\\n          <div class=\"submenu-inner\">\\n            <p class=\"title\">Soutenez nos projets</p>\\n            <a href=\"#\" title=\"\" class=\"link-back js-link-back\">RETOUR Entreprises</a>\\n      <ul><li ><a href=\"https://www.esiee.fr/fr/entreprises/soutenez-nos-projets/versez-votre-taxe-apprentissage\">Versez votre taxe d&#039;apprentissage</a></li><li ><a href=\"https://www.esiee.fr/fr/entreprises/soutenez-nos-projets/devenez-mecene\">Devenez mécène</a></li><li ><a href=\"https://www.esiee.fr/fr/entreprises/soutenez-nos-projets/investissements-pedagogiques\">Investissez dans l&#039;équipement pédagogique</a></li><li ><a href=\"https://www.esiee.fr/fr/entreprises/soutenez-nos-projets/soutenez-la-recherche\">Soutenez la recherche</a></li><li ><a href=\"https://www.esiee.fr/fr/contact-entreprises\">Contactez-nous</a></li></ul></div></div></li><li ><a href=\"https://www.esiee.fr/fr/location-despaces\">Louez nos espaces</a></li><li ><a href=\"https://www.esiee.fr/fr/entreprises/deposez-offres-emploi-stage-apprentissage\">Déposez une offre d&#039;emploi, de stage et d&#039;apprentissage</a></li><li ><a href=\"https://www.esiee.fr/fr/contact-entreprises\">Une question ? Contactez-nous</a></li></ul></div></div></li><li class=\"last international lev0\" class=\"with-level\" ><a href=\"#\" id=\"856\" class=\"js-link-lev0\">International</a>\\n        <div class=\"submenu lev1 js-level js-level1\">\\n          <div class=\"submenu-inner\">\\n            \\n            <a href=\"#\" title=\"\" class=\"link-back js-link-back0 link-back-mob\">RETOUR menu</a>\\n      <ul><li ><a href=\"https://www.esiee.fr/fr/international/large-ouverture\">Une large ouverture à l&#039;international</a></li><li ><a href=\"https://www.esiee.fr/fr/international/partenaires-academiques\">Partenaires académiques</a></li><li ><a href=\"https://www.esiee.fr/fr/international/etudier-a-letranger\">Etudier à l&#039;étranger</a></li><li ><a href=\"https://www.esiee.fr/fr/international/erasmus\">Erasmus +</a></li><li ><a href=\"https://www.esiee.fr/fr/international/accueil-etudiants-en-echanges\">Etudiants en échange</a></li><li ><a href=\"https://www.esiee.fr/fr/formations/masters-internationaux\">Programmes internationaux</a></li><li ><a href=\"https://www.esiee.fr/fr/international/les-diplomes\">Les diplômés à l&#039;international</a></li><li ><a href=\"https://www.esiee.fr/fr/contact-international\">Contact </a></li><li ><a href=\"https://www.esiee.fr/fr/campus-%C3%A0-l%C3%A9tranger\">Campus à l&#039;étranger</a></li></ul></div></div></li></ul>      </div>\\n\\n        \\n<div id=\"block-esiee-esiee-header-search\" class=\"block block-esiee\">\\n\\n\\n<form class=\"form-horizontal f-left\" id=\"form-search\" onsubmit=\"if(this.keyword.value == &quot;Rechercher...&quot;) this.keyword.value=&quot;&quot;\" action=\"/\" method=\"post\" accept-charset=\"UTF-8\"><div> <input class=\"form-control form-text form-control\" onfocus=\"if(this.value == &quot;Rechercher...&quot;) this.value=&quot;&quot;\" onblur=\"if(this.value == &quot;&quot;) this.value=&quot;Rechercher...&quot;\" type=\"text\" id=\"edit-keyword\" name=\"keyword\" value=\"Rechercher...\" size=\"60\" maxlength=\"128\" />\\n<input type=\"submit\" id=\"edit-submit--2\" name=\"op\" value=\"\" class=\"form-submit\" /><input type=\"hidden\" name=\"form_build_id\" value=\"form-iLehdkaOXR4PCdFasDFldX5q1g9gtAucFKUtFAIiDGM\" />\\n<input type=\"hidden\" name=\"form_id\" value=\"esiee_global_search_form\" />\\n</div></form></div>\\n\\n    </div>\\n  </header>\\n\\n  <section class=\"clearfix l-main\">\\n          <section class=\"l-content-top\">\\n              </section>\\n    \\n    \\n    \\n    <div class=\"tabs inner\"></div>        \\n      \\n<div id=\"block-system-main\" class=\"block block-system\">\\n\\n\\n<div class=\"inner\">\\n  \\n\\n  \\n  \\n  \\n  \\n  \\n  \\n      \\n\\n<div class=\"block-tabs clearfix\">\\n  <ul class=\"bxslider-tabs\">          <li class=\"\">  \\n          <div class=\"tab-background\"><div class=\\'image\\'><img src=\"https://www.esiee.fr/sites/default/files/home-bandeau-1_0.png\" alt=\"home-bandeau-1.png\" title=\"home-bandeau-1.png\" /></div></div>    \\n          <div class=\"tab-content\">\\n  <div class=\"block-tabs-title\">Ingénieur</div>\\n  <div class=\"block-tabs-buttons clearfix\"><p><a class=\"btn btn-default\" href=\"/fr/formations/ingenieur/ingenieur-esiee-paris\">Découvrir la formation</a></p><p><a class=\"btn btn-default\" href=\"/fr/formations/ingenieur/filieres\">Filières et métiers</a></p><p><a class=\"btn btn-default\" href=\"/fr/formations/ingenieur/emplois-et-salaires\">Emplois et salaires</a></p><p><a class=\"btn btn-default btn-orange\" href=\"/fr/formations/ingenieur/admission/Ingenieur\">Admissions &amp; inscriptions</a></p></div>\\n</div>  </li>\\n          <li class=\"\">  \\n          <div class=\"tab-background\"><div class=\\'image\\'><img src=\"https://www.esiee.fr/sites/default/files/home-bandeau-4.png\" alt=\"Illustration International Masters home\" title=\"Illustration International Masters home\" /></div></div>    \\n          <div class=\"tab-content\">\\n  <div class=\"block-tabs-title\">Ingénieur par apprentissage</div>\\n  <div class=\"block-tabs-buttons clearfix\"><p><a href=\"/fr/formations/ingenieur-par-apprentissage\"><span class=\"btn btn-default\">Découvrir la formation</span></a></p><p><a class=\"btn btn-default\" href=\"/fr/formations/ingenieur/emplois-et-salaires\">Emplois et salaires</a></p><p><a class=\"btn btn-default\" href=\"/fr/formations/ingenieur-par-apprentissage/mode-emploi\">Apprentissage : mode d&#39;emploi</a></p><p><a class=\"btn btn-default btn-orange\" href=\"/fr/admission/Ingenieur-par-apprentissage\">Admissions &amp; inscriptions</a></p></div>\\n</div>  </li>\\n          <li class=\"\">  \\n          <div class=\"tab-background\"><div class=\\'image\\'><img src=\"https://www.esiee.fr/sites/default/files/home-bandeau-3.png\" width=\"1018\" height=\"343\" alt=\"Illustration Mastères Spécialisés home\" title=\"Illustration Mastères Spécialisés home\" /></div></div>    \\n          <div class=\"tab-content\">\\n  <div class=\"block-tabs-title\">Mastère spécialisé</div>\\n  <div class=\"block-tabs-buttons clearfix\"><p><a class=\"btn btn-default\" href=\"/fr/formations/masteres-specialises/innovation-technologique-management-projet\">Découvrir la formation</a></p></div>\\n</div>  </li>\\n          <li class=\"\">  \\n          <div class=\"tab-background\"><div class=\\'image\\'><img src=\"https://www.esiee.fr/sites/default/files/illustration-ingenieurs-app.-home.png\" width=\"1018\" height=\"344\" alt=\"Illustration Ingénieur par apprentissage - Home page\" title=\"Illustration Ingénieur par apprentissage - Home page\" /></div></div>    \\n          <div class=\"tab-content\">\\n  <div class=\"block-tabs-title\">Programmes internationaux</div>\\n  <div class=\"block-tabs-buttons clearfix\"><p><a class=\"btn btn-default\" href=\"/fr/formations/masters-internationaux\">Découvrir la formation</a></p><p><a class=\"btn btn-default btn-orange\" href=\"/en/programmes/international-masters/how-to-apply\">Admissions &amp; inscriptions</a></p></div>\\n</div>  </li>\\n      </ul>\\n  <ul id=\"bxslider-pager\" class=\"clearfix\">\\n    <li class=\"is-uppercase is-underlined block-tabs-nav-title\">Formations</li>\\n          <li><a data-slide-index=\"0\" href=\"#\">Ingénieur</a></li>\\n                <li><a data-slide-index=\"1\" href=\"#\">Ingénieur par apprentissage</a></li>\\n                <li><a data-slide-index=\"2\" href=\"#\">Mastère spécialisé</a></li>\\n                <li><a data-slide-index=\"3\" href=\"#\">Programmes internationaux</a></li>\\n            </ul>\\n\\n</div>\\n\\n<div class=\"block-tabs for-mobile-portrait\">\\n  <div class=\"is-uppercase block-tabs-nav-title\">Formations</div>\\n  <ul>\\n          <li>\\n        <div class=\"tab-background\"><div class=\\'image\\'><img src=\"https://www.esiee.fr/sites/default/files/home-bandeau-1_0.png\" alt=\"home-bandeau-1.png\" title=\"home-bandeau-1.png\" /></div></div>\\n        <div class=\"tab-content\">\\n                    \\n                      <a href=\"formations/ingenieur/ingenieur-esiee-paris\" class=\"block-tabs-link\"><i class=\"fa fa-chevron-right\"></i></a>\\n          \\n          <div class=\"block-tabs-title\">Ingénieur</div>\\n        </div>\\n      </li>\\n                <li>\\n        <div class=\"tab-background\"><div class=\\'image\\'><img src=\"https://www.esiee.fr/sites/default/files/home-bandeau-4.png\" alt=\"Illustration International Masters home\" title=\"Illustration International Masters home\" /></div></div>\\n        <div class=\"tab-content\">\\n                    \\n                      <a href=\"formations/ingenieur-par-apprentissage\" class=\"block-tabs-link\"><i class=\"fa fa-chevron-right\"></i></a>\\n          \\n          <div class=\"block-tabs-title\">Ingénieur par apprentissage</div>\\n        </div>\\n      </li>\\n                <li>\\n        <div class=\"tab-background\"><div class=\\'image\\'><img src=\"https://www.esiee.fr/sites/default/files/home-bandeau-3.png\" width=\"1018\" height=\"343\" alt=\"Illustration Mastères Spécialisés home\" title=\"Illustration Mastères Spécialisés home\" /></div></div>\\n        <div class=\"tab-content\">\\n                    \\n                      <a href=\"formations/masteres-specialises\" class=\"block-tabs-link\"><i class=\"fa fa-chevron-right\"></i></a>\\n          \\n          <div class=\"block-tabs-title\">Mastère spécialisé</div>\\n        </div>\\n      </li>\\n                <li>\\n        <div class=\"tab-background\"><div class=\\'image\\'><img src=\"https://www.esiee.fr/sites/default/files/illustration-ingenieurs-app.-home.png\" width=\"1018\" height=\"344\" alt=\"Illustration Ingénieur par apprentissage - Home page\" title=\"Illustration Ingénieur par apprentissage - Home page\" /></div></div>\\n        <div class=\"tab-content\">\\n                    \\n                      <a href=\"formations/masters-internationaux\" class=\"block-tabs-link\"><i class=\"fa fa-chevron-right\"></i></a>\\n          \\n          <div class=\"block-tabs-title\">Programmes internationaux</div>\\n        </div>\\n      </li>\\n            </ul>\\n</div>  \\n  \\n  \\n  \\n  \\n  \\n<div class=\"panel-separator\"></div>\\n\\n  \\n  \\n  \\n  \\n  \\n  \\n      \\n\\n<div class=\"pull-right rss-link\">\\n  <a title=\"RSS\" href=\"fr/rss/news\"><i class=\"fa fa-rss-square\"></i></a>\\n</div>\\n\\n<div class=\"page-title-inline\">\\n  <h2>Actualités</h2>\\n</div>\\n\\n<a href=\"/fr/esiee_search/news/home\" class=\"link-more\">Lire plus d&#039;actualités</a>\\n<div class=\"responsive-slider-news\">\\n\\n  \\n      <div class=\"slide slide-content\">\\n        \\n          <span class=\"slide-content-date inline-block\"><span class=\"date-display-single\">30.11.2020</span></span>    \\n          <span class=\"slide-content-theme inline-block is-uppercase\">Actualités</span>\\r\\n<div class=\"clearfix\"></div>    \\n          <div class=\"slide-content-img pull-left\"><!-- scald=2641:news_thumbnail --><img src=\"https://www.esiee.fr/sites/default/files/styles/news/public/thumbnails/image/informations-coronavirus.jpg?itok=YDDYw-dy\" width=\"120\" height=\"90\" alt=\"Informations Coronavirus\" title=\"Informations Coronavirus\" /><!-- END scald=2641 --></div>    \\n          <span class=\"slide-content-title\"><a href=\"/fr/actualite/information-coronavirus\" class=\"is-uppercase\">Dernières informations Covid-19</a></span>    \\n          <div class=\"clearfix\"></div>\\r\\n<p class=\"slide-content-desc\">Cette page a pour objectif de vous informer en temps réel des mesures prises par l’école dans le cadre de la situation exceptionnelle dûe à l\\'épidémie du Coronavirus.</p>      </div>\\n          <div class=\"slide slide-content\">\\n        \\n          <span class=\"slide-content-date inline-block\"><span class=\"date-display-single\">02.12.2020</span></span>    \\n          <span class=\"slide-content-theme inline-block is-uppercase\">Actualités</span>\\r\\n<div class=\"clearfix\"></div>    \\n          <div class=\"slide-content-img pull-left\"><!-- scald=2765:news_thumbnail --><img src=\"https://www.esiee.fr/sites/default/files/styles/news/public/thumbnails/image/visuel-formation-terr-e-sante-covid.png?itok=oQvxRACG\" width=\"120\" height=\"90\" alt=\"Action solidaitre - TERR e-Santé - Lutte COVID 19\" title=\"Action solidaitre - TERR e-Santé - Lutte COVID 19\" /><!-- END scald=2765 --></div>    \\n          <span class=\"slide-content-title\"><a href=\"/fr/actualite/action-solidaire-covid-formation-terresante\" class=\"is-uppercase\">ESIEE Paris aide les professionnels de santé dans la gestion de la crise sanitaire</a></span>    \\n          <div class=\"clearfix\"></div>\\r\\n<p class=\"slide-content-desc\">Des étudiants et collaborateurs volontaires vont participer à la formation de médecins généralistes sur la plateforme TERR-eSANTÉ.</p>      </div>\\n          <div class=\"slide slide-content\">\\n        \\n          <span class=\"slide-content-date inline-block\"><span class=\"date-display-single\">23.11.2020</span></span>    \\n          <span class=\"slide-content-theme inline-block is-uppercase\">Portes ouvertes</span>\\r\\n<div class=\"clearfix\"></div>    \\n          <div class=\"slide-content-img pull-left\"><!-- scald=2724:news_thumbnail --><img src=\"https://www.esiee.fr/sites/default/files/styles/news/public/thumbnails/image/logo-story.png?itok=4x41imSn\" width=\"120\" height=\"90\" alt=\"logo JPO ESIEE\" title=\"logo JPO ESIEE\" /><!-- END scald=2724 --></div>    \\n          <span class=\"slide-content-title\"><a href=\"/fr/actualite/journee-portes-ouvertes-9-janvier-2021\" class=\"is-uppercase\">Journées Portes Ouvertes ESIEE Paris 2021</a></span>    \\n          <div class=\"clearfix\"></div>\\r\\n<p class=\"slide-content-desc\">Vous souhaitez vous renseigner sur les filières de formation de ESIEE Paris, les modalités d\\'admission, échanger avec notre équipe pédagogique  ?</p>      </div>\\n          <div class=\"slide slide-content\">\\n        \\n          <span class=\"slide-content-date inline-block\"><span class=\"date-display-single\">30.11.2020</span></span>    \\n          <span class=\"slide-content-theme inline-block is-uppercase\">Formations</span>\\r\\n<div class=\"clearfix\"></div>    \\n          <div class=\"slide-content-img pull-left\"><!-- scald=2758:news_thumbnail --><img src=\"https://www.esiee.fr/sites/default/files/styles/news/public/thumbnails/image/5-doubles-diplomes-iae-v2.png?itok=eKzZlGp1\" width=\"120\" height=\"90\" alt=\"5 doubles-diplômes management IAE\" title=\"5 doubles-diplômes management IAE\" /><!-- END scald=2758 --></div>    \\n          <span class=\"slide-content-title\"><a href=\"/fr/actualite/doubles-diplomes-management\" class=\"is-uppercase\">5 doubles-diplômes de management avec l’IAE Gustave Eiffel</a></span>    \\n          <div class=\"clearfix\"></div>\\r\\n<p class=\"slide-content-desc\">Obtenir un double diplôme Ingénieur - Manager sans suivre d’année d’étude supplémentaire, à ESIEE Paris, c’est possible !</p>      </div>\\n          <div class=\"slide slide-content\">\\n        \\n          <span class=\"slide-content-date inline-block\"><span class=\"date-display-single\">17.11.2020</span></span>    \\n          <span class=\"slide-content-theme inline-block is-uppercase\">Concours</span>\\r\\n<div class=\"clearfix\"></div>    \\n          <div class=\"slide-content-img pull-left\"><!-- scald=2719:news_thumbnail --><img src=\"https://www.esiee.fr/sites/default/files/styles/news/public/thumbnails/image/visuel-handitech.png?itok=YHUsSkTR\" width=\"120\" height=\"90\" alt=\"ESIEE Paris lauréat Handitech Trophy 2020\" title=\"ESIEE Paris lauréat Handitech Trophy 2020\" /><!-- END scald=2719 --></div>    \\n          <span class=\"slide-content-title\"><a href=\"/fr/actualite/laureat-concours-handitech-trophy-2020\" class=\"is-uppercase\">HandiTech Trophy 2020 : ESIEE Paris lauréat dans la catégorie &quot;Student Project&quot;</a></span>    \\n          <div class=\"clearfix\"></div>\\r\\n<p class=\"slide-content-desc\">Félicitations aux étudiants ESIEE Paris qui remportent les HandiTech Trophy 2020 dans la catégorie \"Student Project\".\\r\\n</p>      </div>\\n          <div class=\"slide slide-content\">\\n        \\n          <span class=\"slide-content-date inline-block\"><span class=\"date-display-single\">03.11.2020</span></span>    \\n          <span class=\"slide-content-theme inline-block is-uppercase\">Concours</span>\\r\\n<div class=\"clearfix\"></div>    \\n          <div class=\"slide-content-img pull-left\"><!-- scald=2697:news_thumbnail --><img src=\"https://www.esiee.fr/sites/default/files/styles/news/public/thumbnails/image/visuel-ican-2020-web.png?itok=OSNMiqc4\" width=\"120\" height=\"90\" alt=\"iCAN 2020\" title=\"iCAN 2020\" /><!-- END scald=2697 --></div>    \\n          <span class=\"slide-content-title\"><a href=\"/fr/actualite/concours-ican-2020\" class=\"is-uppercase\">Des étudiants ESIEE Paris remportent le 1er prix du concours international iCAN</a></span>    \\n          <div class=\"clearfix\"></div>\\r\\n<p class=\"slide-content-desc\">Bravo à Kathyna, Yasmine, Davina, et Gabin qui remportent le premier prix du Concours international “iCan 2020”.</p>      </div>\\n          <div class=\"slide slide-content\">\\n        \\n          <span class=\"slide-content-date inline-block\"><span class=\"date-display-single\">19.10.2020</span></span>    \\n          <span class=\"slide-content-theme inline-block is-uppercase\">Actualités</span>\\r\\n<div class=\"clearfix\"></div>    \\n          <div class=\"slide-content-img pull-left\"><!-- scald=2680:news_thumbnail --><img src=\"https://www.esiee.fr/sites/default/files/styles/news/public/thumbnails/image/samuel_paty.jpg?itok=coQjCfWX\" width=\"120\" height=\"90\" alt=\"Hommage à Samuel Paty\" title=\"Hommage à Samuel Paty\" /><!-- END scald=2680 --></div>    \\n          <span class=\"slide-content-title\"><a href=\"/fr/esiee-paris-sassocie-%C3%A0-lhommage-national-%C3%A0-samuel-paty\" class=\"is-uppercase\">ESIEE Paris s&#039;associe à l&#039;hommage national à Samuel Paty</a></span>    \\n          <div class=\"clearfix\"></div>\\r\\n<p class=\"slide-content-desc\">ESIEE Paris s\\'associe à l\\'hommage national à Samuel Paty</p>      </div>\\n          <div class=\"slide slide-content\">\\n        \\n          <span class=\"slide-content-date inline-block\"><span class=\"date-display-single\">08.10.2020</span></span>    \\n          <span class=\"slide-content-theme inline-block is-uppercase\">Challenge</span>\\r\\n<div class=\"clearfix\"></div>    \\n          <div class=\"slide-content-img pull-left\"></div>    \\n          <span class=\"slide-content-title\"><a href=\"/fr/actualite/challenge-brigitte-friang-2020-dgse-esiee\" class=\"is-uppercase\">La DGSE et ESIEE Paris organisent le challenge Cybersécurité Brigitte Friang</a></span>    \\n          <div class=\"clearfix\"></div>\\r\\n<p class=\"slide-content-desc\">Du 24 octobre au 11 novembre 2020, la DGSE et ESIEE Paris organisent le challenge Cybersécurité Brigitte Friang.</p>      </div>\\n          <div class=\"slide slide-content\">\\n        \\n          <span class=\"slide-content-date inline-block\"><span class=\"date-display-single\">16.09.2020</span></span>    \\n          <span class=\"slide-content-theme inline-block is-uppercase\">Classement</span>\\r\\n<div class=\"clearfix\"></div>    \\n          <div class=\"slide-content-img pull-left\"><!-- scald=2642:news_thumbnail --><img src=\"https://www.esiee.fr/sites/default/files/styles/news/public/thumbnails/image/epamarne-aerien-classment-shanghai-2020.jpg?itok=AU_OUSKD\" width=\"120\" height=\"90\" alt=\"L&#039;Université Gustave Eiffel entre dans le classement de Shanghai\" title=\"L&#039;Université Gustave Eiffel entre dans le classement de Shanghai\" /><!-- END scald=2642 --></div>    \\n          <span class=\"slide-content-title\"><a href=\"/fr/actualite/classement-shanghai-2020\" class=\"is-uppercase\">L’Université Gustave Eiffel entre dans le classement de Shanghai</a></span>    \\n          <div class=\"clearfix\"></div>\\r\\n<p class=\"slide-content-desc\">Dès l’année de sa création, l’Université fait son entrée dans le renommé classement de Shanghai 2020. </p>      </div>\\n          <div class=\"slide slide-content\">\\n        \\n          <span class=\"slide-content-date inline-block\"><span class=\"date-display-single\">25.09.2020</span></span>    \\n          <span class=\"slide-content-theme inline-block is-uppercase\">Actualités</span>\\r\\n<div class=\"clearfix\"></div>    \\n          <div class=\"slide-content-img pull-left\"><!-- scald=2643:news_thumbnail --><img src=\"https://www.esiee.fr/sites/default/files/styles/news/public/thumbnails/image/remise-trophees-femmes-industrie-2020.png.jpg?itok=rnBo1EXD\" width=\"120\" height=\"90\" alt=\"Remise des trophées des femmes de l&#039;industrie 2020\" title=\"Remise des trophées des femmes de l&#039;industrie 2020\" /><!-- END scald=2643 --></div>    \\n          <span class=\"slide-content-title\"><a href=\"/fr/actualite/trophees-des-femmes-industrie-2020\" class=\"is-uppercase\">ESIEE Paris, partenaire des trophées des femmes de l’industrie 2020</a></span>    \\n          <div class=\"clearfix\"></div>\\r\\n<p class=\"slide-content-desc\">ESIEE Paris remet le trophée de la femme de l\\'industrie dans la catégorie \"début prometteur\".</p>      </div>\\n          <div class=\"slide slide-content\">\\n        \\n          <span class=\"slide-content-date inline-block\"><span class=\"date-display-single\">17.01.2020</span></span>    \\n          <span class=\"slide-content-theme inline-block is-uppercase\">Actualités</span>\\r\\n<div class=\"clearfix\"></div>    \\n          <div class=\"slide-content-img pull-left\"><!-- scald=2466:news_thumbnail --><img src=\"https://www.esiee.fr/sites/default/files/styles/news/public/thumbnails/image/visuel-happyatschool-web.png?itok=meQcT1Wi\" width=\"120\" height=\"90\" alt=\"ESIEE Paris - HappyAtSchool 2020\" title=\"ESIEE Paris - HappyAtSchool 2020\" /><!-- END scald=2466 --></div>    \\n          <span class=\"slide-content-title\"><a href=\"/fr/actualite/esiee-6e-classement-happyatschool-ingenieur\" class=\"is-uppercase\">ESIEE Paris 6e école d&#039;ingénieurs - Classement HappyAtSchool® 2020</a></span>    \\n          <div class=\"clearfix\"></div>\\r\\n<p class=\"slide-content-desc\">Ce tout nouveau classement, exclusivement basé sur les avis des élèves, évalue la qualité de leur expérience étudiante.</p>      </div>\\n          <div class=\"slide slide-content\">\\n        \\n          <span class=\"slide-content-date inline-block\"><span class=\"date-display-single\">21.02.2020</span></span>    \\n          <span class=\"slide-content-theme inline-block is-uppercase\">Classement</span>\\r\\n<div class=\"clearfix\"></div>    \\n          <div class=\"slide-content-img pull-left\"><!-- scald=2446:news_thumbnail --><img src=\"https://www.esiee.fr/sites/default/files/styles/news/public/thumbnails/image/generique-salons_0.png?itok=pHl-Oegr\" width=\"120\" height=\"90\" alt=\"ESIEE Paris, classement L&#039;Etudiant 2020\" title=\"ESIEE Paris, classement L&#039;Etudiant 2020\" /><!-- END scald=2446 --></div>    \\n          <span class=\"slide-content-title\"><a href=\"/fr/actualite/classement-presse-letudiant-2020\" class=\"is-uppercase\">L’Etudiant 2020 : ESIEE Paris, 1re école d’ingénieurs post-bac d’Ile-de-France intègre le groupe A</a></span>    \\n          <div class=\"clearfix\"></div>\\r\\n<p class=\"slide-content-desc\">L\\'étudiant dévoile son classement 2020 : ESIEE Paris occupe le 27e rang sur les 167 écoles classées.</p>      </div>\\n          <div class=\"slide slide-content last-slide\">\\n        \\n          <span class=\"slide-content-date inline-block\"><span class=\"date-display-single\">05.09.2019</span></span>    \\n          <span class=\"slide-content-theme inline-block is-uppercase\">Actualités</span>\\r\\n<div class=\"clearfix\"></div>    \\n          <div class=\"slide-content-img pull-left\"><!-- scald=2249:news_thumbnail --><img src=\"https://www.esiee.fr/sites/default/files/styles/news/public/thumbnails/image/parrainage-renault.jpg?itok=d9o-s_mR\" width=\"120\" height=\"90\" alt=\"Le Groupe Renault parrain des prochaines promotions ESIEE Paris \" title=\"Le Groupe Renault parrain des prochaines promotions ESIEE Paris \" /><!-- END scald=2249 --></div>    \\n          <span class=\"slide-content-title\"><a href=\"/fr/actualite/parrainage-promotion-esiee-renault\" class=\"is-uppercase\">Le Groupe Renault parrain des prochaines promotions ESIEE Paris</a></span>    \\n          <div class=\"clearfix\"></div>\\r\\n<p class=\"slide-content-desc\">Le Groupe Renault sera le parrain des promotions 2020, 2021 et 2022 de ESIEE Paris.</p>      </div>\\n      \\n</div>\\n\\n  \\n  \\n  \\n  \\n  \\n  \\n</div>\\n\\n<div class=\"top-zone\">\\n  <div class=\"inner clearfix\">\\n    \\n\\n<div class=\"content-block-2 pull-left \\n  turquoise\\n\">\\n  <div class=\"content-block-2-top\">\\n    <div class=\"content-block-2-title\">\\n  La recherche\\n</div>\\n    <div class=\"content-block-2-img\">\\n  <div class=\\'image\\'><img src=\"https://www.esiee.fr/sites/default/files/illustration-home-recherche.png\" width=\"319\" height=\"121\" alt=\"La Recherche à ESIEE Paris\" title=\"La Recherche à ESIEE Paris\" /></div>\\n</div>\\n  </div>\\n  <p class=\"content-block-2-desc\">\\n  Découvrez les principaux thèmes de recherche ESIEE Paris, les actualités, les partenariats, les publications, les équipements&hellip;\\n</p>\\n      <span class=\"content-block-2-link pull-right\">\\n  <a href=\"https://www.esiee.fr/fr/la-recherche\">En savoir plus</a>\\n</span>\\n    <div class=\"clearfix\"></div>\\n</div><div class=\"panel-separator\"></div>\\n\\n<div class=\"content-block-2 pull-left \\n  mauve\\n\">\\n  <div class=\"content-block-2-top\">\\n    <div class=\"content-block-2-title\">\\n  Entreprises\\n</div>\\n    <div class=\"content-block-2-img\">\\n  <div class=\\'image\\'><img src=\"https://www.esiee.fr/sites/default/files/illustration-home-entreprises_0.png\" width=\"319\" height=\"121\" alt=\"Les relations entreprises à ESIEE Paris\" title=\"Les relations entreprises à ESIEE Paris\" /></div>\\n</div>\\n  </div>\\n  <p class=\"content-block-2-desc\">\\n  Retrouvez toutes les informations relatives à la taxe d&rsquo;apprentissage, à l&rsquo;accompagnement des entreprises et des étudiants, les partenaires, les parrains de promotions&hellip;\\n</p>\\n      <span class=\"content-block-2-link pull-right\">\\n  <a href=\"https://www.esiee.fr/fr/entreprises\">En savoir plus</a>\\n</span>\\n    <div class=\"clearfix\"></div>\\n</div><div class=\"panel-separator\"></div>\\n\\n<div class=\"home-publicite-block pull-left\">\\n  <ul class=\"home-promotion-slider\">\\n        <li>\\n      <a href=\"https://www.esiee.fr/fr/nous-rencontrer\">\\n        <!-- scald=2700:promotion_desktop --><img src=\"https://www.esiee.fr/sites/default/files/styles/promotion_desktop/public/thumbnails/image/w1-banniere-jpo-9012021.jpg?itok=nNQCH3ZC\" width=\"243\" height=\"425\" alt=\"w1-banniere-jpo-9012021.jpg\" title=\"Journées Portes Ouvertes 2021\" /><!-- END scald=2700 -->      </a>\\n    </li>\\n        <li>\\n      <a href=\"https://www.esiee.fr/fr/nous-rencontrer\">\\n        <!-- scald=2701:promotion_desktop --><img src=\"https://www.esiee.fr/sites/default/files/styles/promotion_desktop/public/thumbnails/image/w2-banniere-jpo-9012021.jpg?itok=9amn3AST\" width=\"243\" height=\"425\" alt=\"w2-banniere-jpo-9012021.jpg\" title=\"Journées Portes Ouvertes 2021\" /><!-- END scald=2701 -->      </a>\\n    </li>\\n        <li>\\n      <a href=\"https://www.esiee.fr/fr/nous-rencontrer\">\\n        <!-- scald=2702:promotion_desktop --><img src=\"https://www.esiee.fr/sites/default/files/styles/promotion_desktop/public/thumbnails/image/w3-banniere-jpo-9012021.jpg?itok=Omvd0Hj5\" width=\"243\" height=\"425\" alt=\"w3-banniere-jpo-9012021.jpg\" title=\"Journées Portes Ouvertes 2021\" /><!-- END scald=2702 -->      </a>\\n    </li>\\n        <li>\\n      <a href=\"https://www.esiee.fr/fr/nous-rencontrer\">\\n        <!-- scald=2703:promotion_desktop --><img src=\"https://www.esiee.fr/sites/default/files/styles/promotion_desktop/public/thumbnails/image/w4-banniere-jpo-9012021.jpg?itok=5laGHONq\" width=\"243\" height=\"425\" alt=\"w4-banniere-jpo-9012021.jpg\" title=\"Journées Portes Ouvertes 2021\" /><!-- END scald=2703 -->      </a>\\n    </li>\\n        <li>\\n      <a href=\"https://www.esiee.fr/fr/ecole/visite-virtuelle\">\\n        <!-- scald=2103:promotion_desktop --><img src=\"https://www.esiee.fr/sites/default/files/styles/promotion_desktop/public/thumbnails/image/w1_banniere_visite-virtuelle.jpg?itok=Mb95IJ6I\" width=\"243\" height=\"425\" alt=\"Visite virtuelle ESIEE Paris\" title=\"Visite virtuelle ESIEE Paris\" /><!-- END scald=2103 -->      </a>\\n    </li>\\n        <li>\\n      <a href=\"https://www.esiee.fr/fr/ecole/visite-virtuelle\">\\n        <!-- scald=2106:promotion_desktop --><img src=\"https://www.esiee.fr/sites/default/files/styles/promotion_desktop/public/thumbnails/image/w2_banniere_visite-virtuelle.jpg?itok=hgFpg91_\" width=\"243\" height=\"425\" alt=\"Visite virtuelle ESIEE Paris\" title=\"Visite virtuelle ESIEE Paris\" /><!-- END scald=2106 -->      </a>\\n    </li>\\n        <li>\\n      <a href=\"https://www.esiee.fr/fr/ecole/visite-virtuelle\">\\n        <!-- scald=2109:promotion_desktop --><img src=\"https://www.esiee.fr/sites/default/files/styles/promotion_desktop/public/thumbnails/image/w3_banniere_visite-virtuelle.jpg?itok=Vo3XNZwo\" width=\"243\" height=\"425\" alt=\"Visite virtuelle ESIEE Paris\" title=\"Visite virtuelle ESIEE Paris\" /><!-- END scald=2109 -->      </a>\\n    </li>\\n        <li>\\n      <a href=\"https://www.esiee.fr/fr/ecole/visite-virtuelle\">\\n        <!-- scald=2112:promotion_desktop --><img src=\"https://www.esiee.fr/sites/default/files/styles/promotion_desktop/public/thumbnails/image/w4_banniere_visite-virtuelle.jpg?itok=dISoCKE-\" width=\"243\" height=\"425\" alt=\"Visite virtuelle ESIEE Paris\" title=\"Visite virtuelle ESIEE Paris\" /><!-- END scald=2112 -->      </a>\\n    </li>\\n        <li>\\n      <a href=\"https://www.esiee.fr/fr/entreprises/entreprises-partenaires/devenez-parrain-de-promotion\">\\n        <!-- scald=2295:promotion_desktop --><img src=\"https://www.esiee.fr/sites/default/files/styles/promotion_desktop/public/thumbnails/image/w1-renault.jpg?itok=3X0lIx0o\" width=\"243\" height=\"425\" alt=\"w1 bannière renault parrain\" title=\"w1 bannière renault parrain\" /><!-- END scald=2295 -->      </a>\\n    </li>\\n        <li>\\n      <a href=\"https://www.esiee.fr/fr/entreprises/entreprises-partenaires/devenez-parrain-de-promotion\">\\n        <!-- scald=2298:promotion_desktop --><img src=\"https://www.esiee.fr/sites/default/files/styles/promotion_desktop/public/thumbnails/image/w2-renault.jpg?itok=2RMn1940\" width=\"243\" height=\"425\" alt=\"w2 bannière renault parrain\" title=\"w2 bannière renault parrain\" /><!-- END scald=2298 -->      </a>\\n    </li>\\n      </ul>\\n</div>\\n\\n<div class=\"home-publicite-block-mobile pull-left\">\\n  <ul class=\"home-promotion-slider\">\\n        <li>\\n      <a href=\"https://www.esiee.fr/fr/nous-rencontrer\">\\n        <!-- scald=2704:promotion_tablet --><img src=\"https://www.esiee.fr/sites/default/files/styles/promotion_tablet/public/thumbnails/image/t1-banniere-jpo-2021.jpg?itok=xNAvO4Gn\" width=\"649\" height=\"122\" alt=\"t1-banniere-jpo-2021.jpg\" title=\"Journées Portes Ouvertes 2021\" /><!-- END scald=2704 -->      </a>\\n    </li>\\n        <li>\\n      <a href=\"https://www.esiee.fr/fr/nous-rencontrer\">\\n        <!-- scald=2705:promotion_tablet --><img src=\"https://www.esiee.fr/sites/default/files/styles/promotion_tablet/public/thumbnails/image/t2-banniere-jpo-2021.jpg?itok=Zf7RjoMF\" width=\"649\" height=\"122\" alt=\"t2-banniere-jpo-2021.jpg\" title=\"Journées Portes Ouvertes 2021\" /><!-- END scald=2705 -->      </a>\\n    </li>\\n        <li>\\n      <a href=\"https://www.esiee.fr/fr/nous-rencontrer\">\\n        <!-- scald=2706:promotion_tablet --><img src=\"https://www.esiee.fr/sites/default/files/styles/promotion_tablet/public/thumbnails/image/t3-banniere-jpo-2021.jpg?itok=gZ4iDh6N\" width=\"649\" height=\"122\" alt=\"t3-banniere-jpo-2021.jpg\" title=\"Journées Portes Ouvertes 2021\" /><!-- END scald=2706 -->      </a>\\n    </li>\\n        <li>\\n      <a href=\"https://www.esiee.fr/fr/nous-rencontrer\">\\n        <!-- scald=2707:promotion_tablet --><img src=\"https://www.esiee.fr/sites/default/files/styles/promotion_tablet/public/thumbnails/image/t4-banniere-jpo-2021.jpg?itok=jyntzdzW\" width=\"649\" height=\"122\" alt=\"t4-banniere-jpo-2021.jpg\" title=\"Journées Portes Ouvertes 2021\" /><!-- END scald=2707 -->      </a>\\n    </li>\\n        <li>\\n      <a href=\"https://www.esiee.fr/fr/ecole/visite-virtuelle\">\\n        <!-- scald=2104:promotion_tablet --><img src=\"https://www.esiee.fr/sites/default/files/styles/promotion_tablet/public/thumbnails/image/t1_banniere_visite-virtuelle.jpg?itok=Ey6BcwiC\" width=\"649\" height=\"122\" alt=\"Visite virtuelle ESIEE Paris\" title=\"Visite virtuelle ESIEE Paris\" /><!-- END scald=2104 -->      </a>\\n    </li>\\n        <li>\\n      <a href=\"https://www.esiee.fr/fr/ecole/visite-virtuelle\">\\n        <!-- scald=2107:promotion_tablet --><img src=\"https://www.esiee.fr/sites/default/files/styles/promotion_tablet/public/thumbnails/image/t2_banniere_visite-virtuelle.jpg?itok=mW8bCV1D\" width=\"649\" height=\"122\" alt=\"Visite virtuelle ESIEE Paris\" title=\"Visite virtuelle ESIEE Paris\" /><!-- END scald=2107 -->      </a>\\n    </li>\\n        <li>\\n      <a href=\"https://www.esiee.fr/fr/ecole/visite-virtuelle\">\\n        <!-- scald=2110:promotion_tablet --><img src=\"https://www.esiee.fr/sites/default/files/styles/promotion_tablet/public/thumbnails/image/t3_banniere_visite-virtuelle.jpg?itok=HzzkZrg2\" width=\"649\" height=\"122\" alt=\"Visite virtuelle ESIEE Paris\" title=\"Visite virtuelle ESIEE Paris\" /><!-- END scald=2110 -->      </a>\\n    </li>\\n        <li>\\n      <a href=\"https://www.esiee.fr/fr/ecole/visite-virtuelle\">\\n        <!-- scald=2113:promotion_tablet --><img src=\"https://www.esiee.fr/sites/default/files/styles/promotion_tablet/public/thumbnails/image/t4_banniere_visite-virtuelle.jpg?itok=-cu5O_iB\" width=\"649\" height=\"122\" alt=\"Visite virtuelle ESIEE Paris\" title=\"Visite virtuelle ESIEE Paris\" /><!-- END scald=2113 -->      </a>\\n    </li>\\n        <li>\\n      <a href=\"https://www.esiee.fr/fr/entreprises/entreprises-partenaires/devenez-parrain-de-promotion\">\\n        <!-- scald=2296:promotion_tablet --><img src=\"https://www.esiee.fr/sites/default/files/styles/promotion_tablet/public/thumbnails/image/t1-renault.jpg?itok=OjXffxSU\" width=\"649\" height=\"122\" alt=\"t1 bannière renault parrain\" title=\"t1 bannière renault parrain\" /><!-- END scald=2296 -->      </a>\\n    </li>\\n        <li>\\n      <a href=\"https://www.esiee.fr/fr/entreprises/entreprises-partenaires/devenez-parrain-de-promotion\">\\n        <!-- scald=2299:promotion_tablet --><img src=\"https://www.esiee.fr/sites/default/files/styles/promotion_tablet/public/thumbnails/image/t2-renault.jpg?itok=61rIpnvX\" width=\"649\" height=\"122\" alt=\"t2 bannière renault parrain\" title=\"t2 bannière renault parrain\" /><!-- END scald=2299 -->      </a>\\n    </li>\\n      </ul>\\n</div>\\n\\n<div class=\"home-publicite-block-mobile-small pull-left clearfix\">\\n  <ul class=\"home-promotion-slider\">\\n        <li>\\n      <a href=\"https://www.esiee.fr/fr/nous-rencontrer\">\\n        <!-- scald=2708:promotion_mobile --><img src=\"https://www.esiee.fr/sites/default/files/styles/promotion_mobile/public/thumbnails/image/m1-banniere-jpo-2021.jpg?itok=75sTb9w6\" width=\"480\" height=\"122\" alt=\"m1-banniere-jpo-2021.jpg\" title=\"Journées Portes Ouvertes 2021\" /><!-- END scald=2708 -->      </a>\\n    </li>\\n        <li>\\n      <a href=\"https://www.esiee.fr/fr/nous-rencontrer\">\\n        <!-- scald=2709:promotion_mobile --><img src=\"https://www.esiee.fr/sites/default/files/styles/promotion_mobile/public/thumbnails/image/m2-banniere-jpo-2021.jpg?itok=i7gnoX8a\" width=\"480\" height=\"122\" alt=\"m2-banniere-jpo-2021.jpg\" title=\"Journées Portes Ouvertes 2021\" /><!-- END scald=2709 -->      </a>\\n    </li>\\n        <li>\\n      <a href=\"https://www.esiee.fr/fr/nous-rencontrer\">\\n        <!-- scald=2710:promotion_mobile --><img src=\"https://www.esiee.fr/sites/default/files/styles/promotion_mobile/public/thumbnails/image/m3-banniere-jpo-2021.jpg?itok=d_P5T9pb\" width=\"480\" height=\"122\" alt=\"m3-banniere-jpo-2021.jpg\" title=\"Journées Portes Ouvertes 2021\" /><!-- END scald=2710 -->      </a>\\n    </li>\\n        <li>\\n      <a href=\"https://www.esiee.fr/fr/nous-rencontrer\">\\n        <!-- scald=2711:promotion_mobile --><img src=\"https://www.esiee.fr/sites/default/files/styles/promotion_mobile/public/thumbnails/image/m4-banniere-jpo-2021.jpg?itok=qyGEJaf0\" width=\"480\" height=\"122\" alt=\"m4-banniere-jpo-2021.jpg\" title=\"Journées Portes Ouvertes 2021\" /><!-- END scald=2711 -->      </a>\\n    </li>\\n        <li>\\n      <a href=\"https://www.esiee.fr/fr/ecole/visite-virtuelle\">\\n        <!-- scald=2105:promotion_mobile --><img src=\"https://www.esiee.fr/sites/default/files/styles/promotion_mobile/public/thumbnails/image/m1_banniere_visite-virtuelle.jpg?itok=x1o7WU_l\" width=\"480\" height=\"122\" alt=\"Visite virtuelle ESIEE Paris\" title=\"Visite virtuelle ESIEE Paris\" /><!-- END scald=2105 -->      </a>\\n    </li>\\n        <li>\\n      <a href=\"https://www.esiee.fr/fr/ecole/visite-virtuelle\">\\n        <!-- scald=2108:promotion_mobile --><img src=\"https://www.esiee.fr/sites/default/files/styles/promotion_mobile/public/thumbnails/image/m2_banniere_visite-virtuelle.jpg?itok=hKyhcg_f\" width=\"480\" height=\"122\" alt=\"Visite virtuelle ESIEE Paris\" title=\"Visite virtuelle ESIEE Paris\" /><!-- END scald=2108 -->      </a>\\n    </li>\\n        <li>\\n      <a href=\"https://www.esiee.fr/fr/ecole/visite-virtuelle\">\\n        <!-- scald=2111:promotion_mobile --><img src=\"https://www.esiee.fr/sites/default/files/styles/promotion_mobile/public/thumbnails/image/m3_banniere_visite-virtuelle.jpg?itok=DwiT_2v6\" width=\"480\" height=\"122\" alt=\"Visite virtuelle ESIEE Paris\" title=\"Visite virtuelle ESIEE Paris\" /><!-- END scald=2111 -->      </a>\\n    </li>\\n        <li>\\n      <a href=\"https://www.esiee.fr/fr/ecole/visite-virtuelle\">\\n        <!-- scald=2114:promotion_mobile --><img src=\"https://www.esiee.fr/sites/default/files/styles/promotion_mobile/public/thumbnails/image/m4_banniere_visite-virtuelle.jpg?itok=0Rgz5A1I\" width=\"480\" height=\"122\" alt=\"Visite virtuelle ESIEE Paris\" title=\"Visite virtuelle ESIEE Paris\" /><!-- END scald=2114 -->      </a>\\n    </li>\\n        <li>\\n      <a href=\"https://www.esiee.fr/fr/entreprises/entreprises-partenaires/devenez-parrain-de-promotion\">\\n        <!-- scald=2297:promotion_mobile --><img src=\"https://www.esiee.fr/sites/default/files/styles/promotion_mobile/public/thumbnails/image/m1-renault.jpg?itok=2rE48Fbk\" width=\"480\" height=\"122\" alt=\"m1 bannière renault parrain\" title=\"m1 bannière renault parrain\" /><!-- END scald=2297 -->      </a>\\n    </li>\\n        <li>\\n      <a href=\"https://www.esiee.fr/fr/entreprises/entreprises-partenaires/devenez-parrain-de-promotion\">\\n        <!-- scald=2300:promotion_mobile --><img src=\"https://www.esiee.fr/sites/default/files/styles/promotion_mobile/public/thumbnails/image/m2-renault.jpg?itok=FbOwfxOR\" width=\"480\" height=\"122\" alt=\"m2 bannière renault parrain\" title=\"m2 bannière renault parrain\" /><!-- END scald=2300 -->      </a>\\n    </li>\\n      </ul>\\n</div>  </div>\\n</div>\\n\\n<div class=\"inner\">\\n  <h2 class=\"page-title page-title-style2\">Domaines de compétences</h2>\\n  <div class=\"responsive-slider-2\">\\n    \\n\\n\\n<div class=\"slide slide-content\">\\n  <div class=\"slide-content-img\">\\n    <a href=\"https://www.esiee.fr/fr/formations/ingenieur-par-apprentissage/reseaux-securite\">\\n  <!-- scald=2347:skill_thumbnail --><img src=\"https://www.esiee.fr/sites/default/files/styles/skill/public/thumbnails/image/illustration-filiere-reseaux-securite-apprentissage.jpg?itok=LvMebxMG\" width=\"207\" height=\"125\" alt=\"Illustration filière Réseaux et sécurité en apprentissage\" title=\"Illustration filière Réseaux et sécurité en apprentissage\" /><!-- END scald=2347 -->\\n</a>\\n  </div>\\n  <span class=\"slide-content-info\">\\n  <a href=\"https://www.esiee.fr/fr/formations/ingenieur-par-apprentissage/reseaux-securite\">Réseaux et sécurité</a>\\n</span>\\n  <span class=\"slide-content-theme\">\\n  <a href=\"https://www.esiee.fr/fr/formations/ingenieur-par-apprentissage\">Ingénieur par apprentissage</a>\\n</span>\\n  <a href=\"https://www.esiee.fr/fr/formations/ingenieur-par-apprentissage/reseaux-securite\" class=\"slide-content-link is-uppercase\">Lire la suite</a></div>\\n\\n\\n\\n<div class=\"slide slide-content\">\\n  <div class=\"slide-content-img\">\\n    <a href=\"https://www.esiee.fr/fr/formations/ingenieur/filieres/informatique\">\\n  <!-- scald=1971:skill_thumbnail --><img src=\"https://www.esiee.fr/sites/default/files/styles/skill/public/thumbnails/image/informatique.jpg?itok=GAlo4ZxJ\" width=\"207\" height=\"125\" alt=\"Filière informatique ESIEE Paris\" title=\"Filière informatique ESIEE Paris\" /><!-- END scald=1971 -->\\n</a>\\n  </div>\\n  <span class=\"slide-content-info\">\\n  <a href=\"https://www.esiee.fr/fr/formations/ingenieur/filieres/informatique\">Informatique</a>\\n</span>\\n  <span class=\"slide-content-theme\">\\n  <a href=\"https://www.esiee.fr/fr/formations/ingenieur/ingenieur-esiee-paris\">Ingénieur</a>\\n</span>\\n  <a href=\"https://www.esiee.fr/fr/formations/ingenieur/filieres/informatique\" class=\"slide-content-link is-uppercase\">Lire la suite</a></div>\\n\\n\\n\\n<div class=\"slide slide-content\">\\n  <div class=\"slide-content-img\">\\n    <a href=\"https://www.esiee.fr/fr/formations/ingenieur/filieres/artificial-intelligence-cybersecurity\">\\n  <!-- scald=2665:skill_thumbnail --><img src=\"https://www.esiee.fr/sites/default/files/styles/skill/public/thumbnails/image/illustration-filiere-artificial-intelligence-cybersecurite.jpg?itok=iDjgUoDI\" width=\"207\" height=\"125\" alt=\"Artificial intelligence and cybersecurity\" title=\"Artificial intelligence and cybersecurity\" /><!-- END scald=2665 -->\\n</a>\\n  </div>\\n  <span class=\"slide-content-info\">\\n  <a href=\"https://www.esiee.fr/fr/formations/ingenieur/filieres/artificial-intelligence-cybersecurity\">Artificial intelligence and cybersecurity</a>\\n</span>\\n  <span class=\"slide-content-theme\">\\n  <a href=\"https://www.esiee.fr/fr/formations/ingenieur/ingenieur-esiee-paris\">Ingénieur</a>\\n</span>\\n  <a href=\"https://www.esiee.fr/fr/formations/ingenieur/filieres/artificial-intelligence-cybersecurity\" class=\"slide-content-link is-uppercase\">Lire la suite</a></div>\\n\\n\\n\\n<div class=\"slide slide-content\">\\n  <div class=\"slide-content-img\">\\n    <a href=\"https://www.esiee.fr/fr/formations/ingenieur-par-apprentissage/informatique-et-applications\">\\n  <!-- scald=683:skill_thumbnail --><img src=\"https://www.esiee.fr/sites/default/files/styles/skill/public/informatique.jpg?itok=evVe4QL_\" width=\"207\" height=\"125\" alt=\"Réalité virtuelle ESIEE Paris\" title=\"Réalité virtuelle ESIEE Paris\" /><!-- END scald=683 -->\\n</a>\\n  </div>\\n  <span class=\"slide-content-info\">\\n  <a href=\"https://www.esiee.fr/fr/formations/ingenieur-par-apprentissage/informatique-et-applications\">Informatique 3D</a>\\n</span>\\n  <span class=\"slide-content-theme\">\\n  <a href=\"https://www.esiee.fr/fr/formations/ingenieur-par-apprentissage\">Ingénieur par apprentissage</a>\\n</span>\\n  <a href=\"https://www.esiee.fr/fr/formations/ingenieur-par-apprentissage/informatique-et-applications\" class=\"slide-content-link is-uppercase\">Lire la suite</a></div>\\n\\n\\n\\n<div class=\"slide slide-content\">\\n  <div class=\"slide-content-img\">\\n    <a href=\"https://www.esiee.fr/fr/formations/ingenieur-par-apprentissage/systemes-embarques\">\\n  <!-- scald=2336:skill_thumbnail --><img src=\"https://www.esiee.fr/sites/default/files/styles/skill/public/thumbnails/image/illustration-filiere-systemes-embarques-apprentissage.jpg?itok=Hzu3OFAM\" width=\"207\" height=\"125\" alt=\"Illustration de la filière Systèmes embarqués par apprentissage\" title=\"Illustration de la filière Systèmes embarqués par apprentissage\" /><!-- END scald=2336 -->\\n</a>\\n  </div>\\n  <span class=\"slide-content-info\">\\n  <a href=\"https://www.esiee.fr/fr/formations/ingenieur-par-apprentissage/systemes-embarques\">Systèmes embarqués</a>\\n</span>\\n  <span class=\"slide-content-theme\">\\n  <a href=\"https://www.esiee.fr/fr/formations/ingenieur-par-apprentissage\">Ingénieur par apprentissage</a>\\n</span>\\n  <a href=\"https://www.esiee.fr/fr/formations/ingenieur-par-apprentissage/systemes-embarques\" class=\"slide-content-link is-uppercase\">Lire la suite</a></div>\\n\\n\\n\\n<div class=\"slide slide-content\">\\n  <div class=\"slide-content-img\">\\n    <a href=\"https://www.esiee.fr/fr/formations/ingenieur/filieres/datascience-intelligence-artificielle\">\\n  <!-- scald=898:skill_thumbnail --><img src=\"https://www.esiee.fr/sites/default/files/styles/skill/public/illustration-data-reseaux.jpg?itok=6gaT9afn\" width=\"207\" height=\"125\" alt=\"illustration-data-reseaux.jpg\" title=\"Data et réseaux\" /><!-- END scald=898 -->\\n</a>\\n  </div>\\n  <span class=\"slide-content-info\">\\n  <a href=\"https://www.esiee.fr/fr/formations/ingenieur/filieres/datascience-intelligence-artificielle\">Datascience et intelligence artificielle</a>\\n</span>\\n  <span class=\"slide-content-theme\">\\n  <a href=\"https://www.esiee.fr/fr/formations/ingenieur/ingenieur-esiee-paris\">Ingénieur</a>\\n</span>\\n  <a href=\"https://www.esiee.fr/fr/formations/ingenieur/filieres/datascience-intelligence-artificielle\" class=\"slide-content-link is-uppercase\">Lire la suite</a></div>\\n\\n\\n\\n<div class=\"slide slide-content\">\\n  <div class=\"slide-content-img\">\\n    <a href=\"https://www.esiee.fr/fr/formations/ingenieur/filieres/energie\">\\n  <!-- scald=192:skill_thumbnail --><img src=\"https://www.esiee.fr/sites/default/files/styles/skill/public/ill-fil-energies.jpg?itok=rl0sINUe\" width=\"207\" height=\"125\" alt=\"Illustration Filière Energie - Eolienne et Panneaux solaires\" title=\"Illustration Filière Energie - Eolienne et Panneaux solaires\" /><!-- END scald=192 -->\\n</a>\\n  </div>\\n  <span class=\"slide-content-info\">\\n  <a href=\"https://www.esiee.fr/fr/formations/ingenieur/filieres/energie\">Energie</a>\\n</span>\\n  <span class=\"slide-content-theme\">\\n  <a href=\"https://www.esiee.fr/fr/formations/ingenieur/ingenieur-esiee-paris\">Ingénieur</a>\\n</span>\\n  <a href=\"https://www.esiee.fr/fr/formations/ingenieur/filieres/energie\" class=\"slide-content-link is-uppercase\">Lire la suite</a></div>\\n\\n\\n\\n<div class=\"slide slide-content\">\\n  <div class=\"slide-content-img\">\\n    <a href=\"https://www.esiee.fr/fr/formations/ingenieur/filieres/systemes-embarques\">\\n  <!-- scald=2350:skill_thumbnail --><img src=\"https://www.esiee.fr/sites/default/files/styles/skill/public/thumbnails/image/illustration-systemes-embarques.jpg?itok=w9JmR8fg\" width=\"207\" height=\"125\" alt=\"Illustration Systèmes embarqués - Atelier robotique\" title=\"Illustration Systèmes embarqués - Atelier robotique\" /><!-- END scald=2350 -->\\n</a>\\n  </div>\\n  <span class=\"slide-content-info\">\\n  <a href=\"https://www.esiee.fr/fr/formations/ingenieur/filieres/systemes-embarques\">Systèmes embarqués</a>\\n</span>\\n  <span class=\"slide-content-theme\">\\n  <a href=\"https://www.esiee.fr/fr/formations/ingenieur/ingenieur-esiee-paris\">Ingénieur</a>\\n</span>\\n  <a href=\"https://www.esiee.fr/fr/formations/ingenieur/filieres/systemes-embarques\" class=\"slide-content-link is-uppercase\">Lire la suite</a></div>\\n\\n\\n\\n<div class=\"slide slide-content\">\\n  <div class=\"slide-content-img\">\\n    <a href=\"https://www.esiee.fr/fr/formations/ingenieur/filieres/biotechnologies-esante\">\\n  <!-- scald=201:skill_thumbnail --><img src=\"https://www.esiee.fr/sites/default/files/styles/skill/public/ill-fil-bio-11118cuwimages_cciparisidf.jpg?itok=pGETF_w_\" width=\"207\" height=\"125\" alt=\"Illustration Filière Biotechnologies et e-sante - Microscope\" title=\"Illustration Filière Biotechnologies et e-sante - Microscope\" /><!-- END scald=201 -->\\n</a>\\n  </div>\\n  <span class=\"slide-content-info\">\\n  <a href=\"https://www.esiee.fr/fr/formations/ingenieur/filieres/biotechnologies-esante\">Biotechnologies et e-santé</a>\\n</span>\\n  <span class=\"slide-content-theme\">\\n  <a href=\"https://www.esiee.fr/fr/formations/ingenieur/ingenieur-esiee-paris\">Ingénieur</a>\\n</span>\\n  <a href=\"https://www.esiee.fr/fr/formations/ingenieur/filieres/biotechnologies-esante\" class=\"slide-content-link is-uppercase\">Lire la suite</a></div>\\n\\n\\n\\n<div class=\"slide slide-content\">\\n  <div class=\"slide-content-img\">\\n    <a href=\"https://www.esiee.fr/fr/formations/ingenieur/filieres/systemes-electroniques\">\\n  <!-- scald=1972:skill_thumbnail --><img src=\"https://www.esiee.fr/sites/default/files/styles/skill/public/thumbnails/image/systemes-electroniques.jpg?itok=MNp66bp8\" width=\"207\" height=\"125\" alt=\"Filière Systèmes électroniques\" title=\"Filière Systèmes électroniques\" /><!-- END scald=1972 -->\\n</a>\\n  </div>\\n  <span class=\"slide-content-info\">\\n  <a href=\"https://www.esiee.fr/fr/formations/ingenieur/filieres/systemes-electroniques\">Systèmes électroniques</a>\\n</span>\\n  <span class=\"slide-content-theme\">\\n  <a href=\"https://www.esiee.fr/fr/formations/ingenieur/ingenieur-esiee-paris\">Ingénieur</a>\\n</span>\\n  <a href=\"https://www.esiee.fr/fr/formations/ingenieur/filieres/systemes-electroniques\" class=\"slide-content-link is-uppercase\">Lire la suite</a></div>\\n\\n\\n\\n<div class=\"slide slide-content\">\\n  <div class=\"slide-content-img\">\\n    <a href=\"https://www.esiee.fr/fr/formations/ingenieur/filieres/cybersecurite-systemes-information\">\\n  <!-- scald=1934:skill_thumbnail --><img src=\"https://www.esiee.fr/sites/default/files/styles/skill/public/thumbnails/image/illustration-cybersecurite_0.jpg?itok=vGyYPpHy\" width=\"207\" height=\"125\" alt=\"Cybersécurité des Systèmes d&#039;information\" title=\"Formation - Cybersécurité des Systèmes d&#039;information\" /><!-- END scald=1934 -->\\n</a>\\n  </div>\\n  <span class=\"slide-content-info\">\\n  <a href=\"https://www.esiee.fr/fr/formations/ingenieur/filieres/cybersecurite-systemes-information\">Cybersécurité</a>\\n</span>\\n  <span class=\"slide-content-theme\">\\n  <a href=\"https://www.esiee.fr/fr/formations/ingenieur/ingenieur-esiee-paris\">Ingénieur</a>\\n</span>\\n  <a href=\"https://www.esiee.fr/fr/formations/ingenieur/filieres/cybersecurite-systemes-information\" class=\"slide-content-link is-uppercase\">Lire la suite</a></div>\\n\\n\\n\\n<div class=\"slide slide-content\">\\n  <div class=\"slide-content-img\">\\n    <a href=\"https://www.esiee.fr/fr/formations/ingenieur/filieres/genie-industriel\">\\n  <!-- scald=2351:skill_thumbnail --><img src=\"https://www.esiee.fr/sites/default/files/styles/skill/public/thumbnails/image/illustration-genie-industriel.jpg?itok=itTCYQO5\" width=\"207\" height=\"125\" alt=\"Illustration Génie industriel\" title=\"Illustration Génie industriel\" /><!-- END scald=2351 -->\\n</a>\\n  </div>\\n  <span class=\"slide-content-info\">\\n  <a href=\"https://www.esiee.fr/fr/formations/ingenieur/filieres/genie-industriel\">Génie industriel</a>\\n</span>\\n  <span class=\"slide-content-theme\">\\n  <a href=\"https://www.esiee.fr/fr/formations/ingenieur/ingenieur-esiee-paris\">Ingénieur</a>\\n</span>\\n  <a href=\"https://www.esiee.fr/fr/formations/ingenieur/filieres/genie-industriel\" class=\"slide-content-link is-uppercase\">Lire la suite</a></div>\\n\\n  </div>\\n  <div class=\"responsive-slider-2-pagination\">\\n    <div class=\"responsive-slider-2-prev responsive-slider-2-nav\"></div>\\n    <div class=\"responsive-slider-2-pager\"></div>\\n    <div class=\"responsive-slider-2-next responsive-slider-2-nav active\"></div>\\n  </div>\\n</div></div>\\n\\n    \\n\\n  </section>\\n\\n\\n  <footer>\\n    <div class=\"inner clearfix\">\\n        \\n<div id=\"block-bean-adresse-esiee-footer\" class=\"block block-bean\">\\n\\n\\n<div class=\"footer-col-1 pull-left\">\\n  <span class=\"footer-col-1-title\">ESIEE Paris</span>\\n  \\n  <p>2 boulevard Blaise Pascal<br />Cité Descartes<br />BP 99<br />93162 Noisy-le-Grand Cedex</p><p>Tel : 01 45 92 65 00<br />&nbsp;</p>\\n</div></div>\\n\\n<div id=\"block-esiee-esiee-footer-menu\" class=\"block block-esiee\">\\n\\n\\n<div class=\"footer-col-2 pull-left\">\\n  <ul class=\"menu-footer\"><li class=\"first leaf\"><a href=\"/fr/acces\">Plan d&#039;accès</a></li>\\n<li class=\"leaf\"><a href=\"/fr/presse\">Presse</a></li>\\n<li class=\"leaf\"><a href=\"/fr/nous-rencontrer\">Nous rencontrer</a></li>\\n<li class=\"leaf\"><a href=\"/fr/jour-des-projets\">Le Jour des Projets</a></li>\\n<li class=\"leaf\"><a href=\"/fr/brochures\">Brochures</a></li>\\n<li class=\"leaf\"><a href=\"/fr/videotheque\">Vidéothèque</a></li>\\n<li class=\"leaf\"><a href=\"/fr/location-despaces\">Location d&#039;espaces</a></li>\\n<li class=\"leaf\"><a href=\"http://www.esiee.fr/fr/ecole/corps-enseignant/enseigner-a-esiee-paris\">Enseigner à ESIEE</a></li>\\n<li class=\"leaf\"><a href=\"/fr/reseaux-sociaux\">Réseaux sociaux</a></li>\\n<li class=\"leaf\"><a href=\"/fr/ecole/visite-virtuelle\">Visite virtuelle</a></li>\\n<li class=\"leaf\"><a href=\"https://www.esiee.fr/fr/entreprises/recrutez-nos-etudiants/contactez-les-alumni\">Alumni</a></li>\\n<li class=\"leaf\"><a href=\"/fr/mentions-legales\">Mentions Légales</a></li>\\n<li class=\"leaf\"><a href=\"http://www.cci-paris-idf.fr/marches-publics-dematerialises-cci-paris-ile-de-france\">Marchés publics</a></li>\\n<li class=\"last leaf\"><a href=\"/fr/plan-du-site\">Plan du site</a></li>\\n</ul></div>\\n\\n<div class=\"clearfix\"></div></div>\\n\\n<div id=\"block-esiee-esiee-footer-contact\" class=\"block block-esiee\">\\n\\n\\n<div class=\\'pull-left\\'><a href=\"/fr/contact\" class=\"footer-contact\">Contacter ESIEE Paris</a></div></div>\\n\\n<div id=\"block-bean-footer-logo-partenaire\" class=\"block block-bean\">\\n\\n\\n\\n<div class=\"pull-right logo-UnivGustaveEiffel\">\\n\\t<a href=\"https://www.univ-gustave-eiffel.fr\" target=\"_blank\">\\n\\t  <div class=\"image\"><img src=\"/sites/default/files/logo_membre_fondateur_univ_gustave_eiffel.png\" alt=\"Membre fondateur Université Gustave Eiffel\" title=\"Membre fondateur Université Gustave Eiffel\"></div>\\n\\t</a>\\n</div>\\n<div class=\"pull-right logo-cci\">\\n        <a href=\"http://www.cci-paris-idf.fr\" target=\"_blank\">\\n  <div class=\\'image\\'><img src=\"https://www.esiee.fr/sites/default/files/logo-cci-paris.png\" alt=\"logo-cci-paris.png\" title=\"logo-cci-paris.png\" /></div>\\n</a></div>\\n</div>\\n    </div>\\n  </footer>\\n\\n</div>\\n\\n  <div class=\"toolbar toolbar-footer\" id=\"toolbar-footer\">\\n    <ul>\\n                  <li class=\"\">\\n          <a href=\"https://www.facebook.com/esieeparis\" target=\"_blank\">\\n            <i class=\"fa fa-facebook\"></i>\\n          </a>\\n        </li>\\n                        <li class=\"\">\\n          <a href=\"https://twitter.com/ESIEEPARIS\" target=\"_blank\">\\n            <i class=\"fa fa-twitter\"></i>\\n          </a>\\n        </li>\\n                                  <li class=\"\">\\n          <a href=\"https://www.linkedin.com/edu/school?id=20041&trk=tyah&trkInfo=idx%3A4-1-4%2CtarId%3A1425998561386%2Ctas%3Aesiee+paris\" target=\"_blank\">\\n            <i class=\"fa fa-linkedin\"></i>\\n          </a>\\n        </li>\\n                        <li class=\"youtube\">\\n          <a href=\"http://www.youtube.com/esieeparis\" target=\"_blank\">\\n            <i class=\"fa fa-youtube\"></i>\\n          </a>\\n        </li>\\n                                  <li class=\"\">\\n          <a href=\"https://www.instagram.com/esieeparis/\" target=\"_blank\">\\n            <i class=\"fa fa-instagram\"></i>\\n          </a>\\n        </li>\\n          \\n    </ul>\\n  </div>\\n\\n    <script type=\"text/javascript\">\\n<!--//--><![CDATA[//><!--\\nwindow.jQuery || document.write(\"<script src=\\'/sites/all/modules/contrib/jquery_update/replace/jquery/1.10/jquery.min.js\\'>\\\\x3C/script>\")\\n//--><!]]>\\n</script>\\n<script type=\"text/javascript\" src=\"//code.jquery.com/jquery-1.10.2.min.js\"></script>\\n<script type=\"text/javascript\" src=\"https://www.esiee.fr/sites/default/files/js/js_38VWQ3jjQx0wRFj7gkntZr077GgJoGn5nv3v05IeLLo.js\"></script>\\n<script type=\"text/javascript\" src=\"https://www.esiee.fr/sites/default/files/js/js_-DBi72BBkS07mO2sU0Cs9m7v_qf0DaCcgVHrnEXxtcg.js\"></script>\\n<script type=\"text/javascript\" src=\"https://www.esiee.fr/sites/default/files/js/js_ajcq4b424tCd76JV2fK93OSs1gAJefWX8KKKtAiej7w.js\"></script>\\n<script type=\"text/javascript\" src=\"https://www.esiee.fr/sites/default/files/js/js_9dBVL7foQ3oZIqI3cQUZVjyhzR4X6s7iOTI9wXQ5v4w.js\"></script>\\n<script type=\"text/javascript\">\\n<!--//--><![CDATA[//><!--\\nfunction euCookieComplianceLoadScripts() {}\\n//--><!]]>\\n</script>\\n<script type=\"text/javascript\">\\n<!--//--><![CDATA[//><!--\\nvar eu_cookie_compliance_cookie_name = \"\";\\n//--><!]]>\\n</script>\\n<script type=\"text/javascript\" src=\"https://www.esiee.fr/sites/default/files/js/js_gPqjYq7fqdMzw8-29XWQIVoDSWTmZCGy9OqaHppNxuQ.js\"></script>\\n<script type=\"text/javascript\">\\n<!--//--><![CDATA[//><!--\\n(function(i,s,o,g,r,a,m){i[\"GoogleAnalyticsObject\"]=r;i[r]=i[r]||function(){(i[r].q=i[r].q||[]).push(arguments)},i[r].l=1*new Date();a=s.createElement(o),m=s.getElementsByTagName(o)[0];a.async=1;a.src=g;m.parentNode.insertBefore(a,m)})(window,document,\"script\",\"//www.google-analytics.com/analytics.js\",\"ga\");ga(\"create\", \"UA-4033468-1\", {\"cookieDomain\":\"auto\"});ga(\"send\", \"pageview\");\\n//--><!]]>\\n</script>\\n<script type=\"text/javascript\" src=\"https://www.esiee.fr/sites/default/files/js/js_OsAg78UG2iuku7zfmjPTt17v-frHcMfBCRHX_V7u2r0.js\"></script>\\n<script type=\"text/javascript\" src=\"https://www.esiee.fr/sites/default/files/js/js_oIT1WwxI45wl5g4GZuNs1SIqpbrh17TrxFFbRaho-JA.js\"></script>\\n<script type=\"text/javascript\" src=\"https://www.esiee.fr/sites/default/files/js/js_Fhcne43CRb2Qha8BQKCjkE5JeMUsvrY9e-oObBYXEZo.js\"></script>\\n<script type=\"text/javascript\">\\n<!--//--><![CDATA[//><!--\\njQuery.extend(Drupal.settings, {\"basePath\":\"\\\\/\",\"pathPrefix\":\"fr\\\\/\",\"ajaxPageState\":{\"theme\":\"esiee_theme\",\"theme_token\":\"OUTHO6doZF_Q7WDBERVgjoHD7w-oeIN_G7LnbCHXErA\"},\"googleCSE\":{\"cx\":\"\",\"language\":\"\",\"resultsWidth\":600,\"domain\":\"www.google.com\"},\"scaldFile\":{\"path\":\"sites\\\\/all\\\\/modules\\\\/contrib\\\\/scald_file\\\\/scald_file.css\"},\"urlIsAjaxTrusted\":{\"\\\\/\":true},\"eu_cookie_compliance\":{\"popup_enabled\":1,\"popup_agreed_enabled\":0,\"popup_hide_agreed\":0,\"popup_clicking_confirmation\":false,\"popup_scrolling_confirmation\":false,\"popup_html_info\":\"\\\\u003Cdiv\\\\u003E\\\\n  \\\\u003Cdiv class =\\\\u0022custom-cookie-popup popup-content info\\\\u0022\\\\u003E\\\\n    \\\\u003Cdiv id=\\\\u0022popup-text\\\\u0022\\\\u003E\\\\n      \\\\u003Cp\\\\u003EEn naviguant sur notre site, vous acceptez l\\\\u0026#39;utilisation de cookies pour vous proposer une navigation optimale et nous permettre de r\\\\u00e9aliser des statistiques de visites. Pour en savoir plus et param\\\\u00e9trer les cookies, visiter \\\\u003Ca href=\\\\u0022\\\\/fr\\\\/mentions-legales\\\\u0022\\\\u003Ela page des mentions l\\\\u00e9gales de ESIEE Paris\\\\u003C\\\\/a\\\\u003E\\\\u003C\\\\/p\\\\u003E    \\\\u003C\\\\/div\\\\u003E\\\\n    \\\\u003Cdiv id=\\\\u0022popup-buttons\\\\u0022\\\\u003E\\\\n      \\\\u003Cbutton type=\\\\u0022button\\\\u0022 class=\\\\u0022agree-button\\\\u0022\\\\u003EAccepter\\\\u003C\\\\/button\\\\u003E\\\\n    \\\\u003C\\\\/div\\\\u003E\\\\n  \\\\u003C\\\\/div\\\\u003E\\\\n\\\\u003C\\\\/div\\\\u003E\",\"use_mobile_message\":false,\"mobile_popup_html_info\":\"\\\\u003Cdiv\\\\u003E\\\\n  \\\\u003Cdiv class =\\\\u0022custom-cookie-popup popup-content info\\\\u0022\\\\u003E\\\\n    \\\\u003Cdiv id=\\\\u0022popup-text\\\\u0022\\\\u003E\\\\n          \\\\u003C\\\\/div\\\\u003E\\\\n    \\\\u003Cdiv id=\\\\u0022popup-buttons\\\\u0022\\\\u003E\\\\n      \\\\u003Cbutton type=\\\\u0022button\\\\u0022 class=\\\\u0022agree-button\\\\u0022\\\\u003EAccepter\\\\u003C\\\\/button\\\\u003E\\\\n    \\\\u003C\\\\/div\\\\u003E\\\\n  \\\\u003C\\\\/div\\\\u003E\\\\n\\\\u003C\\\\/div\\\\u003E\\\\n\",\"mobile_breakpoint\":\"768\",\"popup_html_agreed\":\"\\\\u003Cdiv\\\\u003E\\\\r\\\\n  \\\\u003Cdiv class=\\\\u0022popup-content agreed\\\\u0022\\\\u003E\\\\r\\\\n    \\\\u003Cdiv id=\\\\u0022popup-text\\\\u0022\\\\u003E\\\\r\\\\n      \\\\u003Ch2\\\\u003EThank you for accepting cookies\\\\u003C\\\\/h2\\\\u003E\\\\u003Cp\\\\u003EYou can now hide this message or find out more about cookies.\\\\u003C\\\\/p\\\\u003E    \\\\u003C\\\\/div\\\\u003E\\\\r\\\\n    \\\\u003Cdiv id=\\\\u0022popup-buttons\\\\u0022\\\\u003E\\\\r\\\\n      \\\\u003Cbutton type=\\\\u0022button\\\\u0022 class=\\\\u0022hide-popup-button eu-cookie-compliance-hide-button\\\\u0022\\\\u003EMasquer\\\\u003C\\\\/button\\\\u003E\\\\r\\\\n              \\\\u003Cbutton type=\\\\u0022button\\\\u0022 class=\\\\u0022find-more-button eu-cookie-compliance-more-button-thank-you\\\\u0022 \\\\u003EMore info\\\\u003C\\\\/button\\\\u003E\\\\r\\\\n          \\\\u003C\\\\/div\\\\u003E\\\\r\\\\n  \\\\u003C\\\\/div\\\\u003E\\\\r\\\\n\\\\u003C\\\\/div\\\\u003E\",\"popup_use_bare_css\":1,\"popup_height\":\"auto\",\"popup_width\":0,\"popup_delay\":1000,\"popup_link\":\"\\\\/fr\\\\/fr\\\\/mentions-legales\",\"popup_link_new_window\":1,\"popup_position\":null,\"popup_language\":\"fr\",\"store_consent\":false,\"better_support_for_screen_readers\":0,\"reload_page\":0,\"domain\":\"\",\"popup_eu_only_js\":0,\"cookie_lifetime\":\"100\",\"cookie_session\":false,\"disagree_do_not_show_popup\":0,\"method\":\"opt_in\",\"whitelisted_cookies\":\"\",\"withdraw_markup\":\"\\\\u003Cbutton type=\\\\u0022button\\\\u0022 class=\\\\u0022eu-cookie-withdraw-tab\\\\u0022\\\\u003EPrivacy settings\\\\u003C\\\\/button\\\\u003E\\\\r\\\\n\\\\u003Cdiv class=\\\\u0022eu-cookie-withdraw-banner\\\\u0022\\\\u003E\\\\r\\\\n  \\\\u003Cdiv class=\\\\u0022popup-content info\\\\u0022\\\\u003E\\\\r\\\\n    \\\\u003Cdiv id=\\\\u0022popup-text\\\\u0022\\\\u003E\\\\r\\\\n      \\\\u003Ch2\\\\u003EWe use cookies on this site to enhance your user experience\\\\u003C\\\\/h2\\\\u003E\\\\u003Cp\\\\u003EYou have given your consent for us to set cookies.\\\\u003C\\\\/p\\\\u003E    \\\\u003C\\\\/div\\\\u003E\\\\r\\\\n    \\\\u003Cdiv id=\\\\u0022popup-buttons\\\\u0022\\\\u003E\\\\r\\\\n      \\\\u003Cbutton type=\\\\u0022button\\\\u0022 class=\\\\u0022eu-cookie-withdraw-button\\\\u0022\\\\u003EWithdraw consent\\\\u003C\\\\/button\\\\u003E\\\\r\\\\n    \\\\u003C\\\\/div\\\\u003E\\\\r\\\\n  \\\\u003C\\\\/div\\\\u003E\\\\r\\\\n\\\\u003C\\\\/div\\\\u003E\\\\r\\\\n\",\"withdraw_enabled\":false},\"googleanalytics\":{\"trackOutbound\":1,\"trackMailto\":1,\"trackDownload\":1,\"trackDownloadExtensions\":\"7z|aac|arc|arj|asf|asx|avi|bin|csv|doc(x|m)?|dot(x|m)?|exe|flv|gif|gz|gzip|hqx|jar|jpe?g|js|mp(2|3|4|e?g)|mov(ie)?|msi|msp|pdf|phps|png|ppt(x|m)?|pot(x|m)?|pps(x|m)?|ppam|sld(x|m)?|thmx|qtm?|ra(m|r)?|sea|sit|tar|tgz|torrent|txt|wav|wma|wmv|wpd|xls(x|m|b)?|xlt(x|m)|xlam|xml|z|zip\"},\"esiee_sliders\":{\"training_duration\":\"4\",\"training_auto\":1,\"promotion_duration\":\"2\"},\"esiee_scholarship\":{\"max_80\":4000,\"quotient_80\":60,\"min_60\":4001,\"max_60\":7000,\"quotient_60\":40,\"min_40\":7001,\"max_40\":15000,\"quotient_40\":20,\"min_20\":15001,\"max_20\":99999999999,\"quotient_20\":0},\"esiee_theme\":{\"trail\":[]}});\\n//--><!]]>\\n</script>\\n\\n    \\n  <script src=\"https://code.jquery.com/jquery-migrate-1.2.1.js\"></script>\\n\\n</body>\\n</html>'"
      ]
     },
     "execution_count": 2,
     "metadata": {},
     "output_type": "execute_result"
    }
   ],
   "source": [
    "s = Scrapper('https://www.esiee.fr/')\n",
    "res = s.get_response()\n",
    "res"
   ]
  },
  {
   "cell_type": "code",
   "execution_count": 3,
   "metadata": {},
   "outputs": [
    {
     "data": {
      "text/plain": [
       "'\\n       \\n          \\n          \\n          \\n  \\n\\n\\t\\n\\t\\n\\t\\t(function(w,d,s,l,i){\\n\\t\\t\\tw[l]=w[l]||[];w[l].push({\\'gtm.start\\':new Date().getTime(),event:\\'gtm.js\\'});\\n\\t\\t\\tvar f=d.getElementsByTagName(s)[0],\\tj=d.createElement(s),dl=l!=\\'dataLayer\\'?\\'&l=\\'+l:\\'\\';\\n\\t\\t\\tj.async=true;\\n\\t\\t\\tj.src=\\'https://www.googletagmanager.com/gtm.js?id=\\'+i+dl;f.parentNode.insertBefore(j,f);\\n\\t\\t\\t}\\n\\t\\t)\\n\\t\\t(window,document,\\'script\\',\\'dataLayer\\',\\'GTM-MQF5LJB\\');\\n\\t\\n\\t\\n  \\n  \\n\\n<meta name=\"description\" content=\"ESIEE Paris, l’école de l’innovation technologique | Grande école d’ingénieurs\\r\\nForme dans les domaines des technologies du numérique - Habilitée CTI.\" />\\n\\n  ESIEE Paris, l’école de l’innovation technologique | Grande école d’ingénieurs | ESIEE Paris\\n  \\n  \\n\\n\\n\\n\\n  \\n\\n\\n\\n\\n\\n\\n\\n  \\n  \\n\\n    \\n      \\n\\n\\n\\n \\n\\n\\n\\n    \\n\\n    \\n      \\n        \\n          \\n        \\n        \\n          \\n            Les outils ESIEE Paris Webmail ESIEE Paris Emploi du temps général Emploi du temps individuel Extranet iCampus Microsoft DreamSpark          \\n        \\n      \\n            \\n        \\n          \\n            \\n          \\n        \\n      \\n      \\n                        \\n            \\n              \\n            \\n          \\n                                \\n            \\n              \\n            \\n          \\n                                              \\n            \\n              \\n            \\n          \\n                                \\n            \\n              \\n            \\n          \\n                                              \\n            \\n              \\n            \\n          \\n              \\n      \\n        \\n          \\n        \\n      \\n    \\n\\n  \\n\\n    \\n\\n  \\n    \\n      \\n\\n      \\n         menu\\n        Formations\\n        \\n          \\n            \\n            RETOUR menu\\n      Formations ESIEE ParisIngénieur\\n        \\n          \\n            Ingénieur\\n            RETOUR Formations\\n      Ingénieur ESIEE ParisPremier cycleLe cycle ingénieur\\n        \\n          \\n            Le cycle ingénieur\\n            RETOUR Ingénieur\\n      Le cycle ingénieur ESIEE ParisEnseignements de 1ère annéeEnseignements de 2e et 3e annéeProfils métiersFilières\\n        \\n          \\n            Filières\\n            RETOUR Ingénieur\\n      9 filières, 1 diplômeInformatiqueCybersécuritéDatascience et intelligence artificielleArtificial Intelligence and CybersecuritySystèmes embarquésSystèmes électroniques intelligentsGénie industrielBiotechnologies et e-santéEnergieDoubles-diplômesEmplois et salairesFrais de scolarité - Aides financièresStagesAdmissionsContactIngénieur par apprentissage\\n        \\n          \\n            Ingénieur par apprentissage\\n            RETOUR Formations\\n      Devenir ingénieur par l&#039;apprentissageRéseaux et sécurité - architecture et internet des objets\\n        \\n          \\n            Réseaux et sécurité - architecture et internet des objets\\n            RETOUR Ingénieur par apprentissage\\n      Réseaux et sécurité - architecture et internet des objetsProgramme des enseignementsSystèmes embarqués - transports et objets intelligents\\n        \\n          \\n            Systèmes embarqués - transports et objets intelligents\\n            RETOUR Ingénieur par apprentissage\\n      Systèmes embarqués - transports et objets intelligentsProgramme des enseignementsInformatique et applications - ingénierie 3D et technologie des médias\\n        \\n          \\n            Informatique et applications - ingénierie 3D et technologie des médias\\n            RETOUR Ingénieur par apprentissage\\n      Informatique et applications - ingénierie graphique et technologies 3DProgramme des enseignementsGénie industriel - Supply chain et numérique\\n        \\n          \\n            Génie industriel - Supply chain et numérique\\n            RETOUR Ingénieur par apprentissage\\n      Génie industriel - Supply chain et numériqueProgramme des enseignementsEnergies - Ingénierie de la transition énergétiqueApprentissage : mode d&#039;emploiAdmissionsContactMasters internationaux\\n        \\n          \\n            Masters internationaux\\n            RETOUR Formations\\n      Programmes internationauxMaster - Artificial Intelligence and CybersecurityM.Sc. Connected Objects, Devices and SystemsM.Sc. Management of Technology - Information SystemsContactMastères spécialisés\\n        \\n          \\n            Mastères spécialisés\\n            RETOUR Formations\\n      Innovation technologique et management de projetsEspace étudiants\\n        \\n          \\n            \\n            RETOUR menu\\n      La vie étudianteL\\'associatif\\n        \\n          \\n            L\\'associatif\\n            RETOUR Espace étudiants\\n      Bureau des élèvesJunior ESIEEClubs et associationsAménagements d&#039;étudesBibliothèque 4.0LogementsSportCampus DescartesRelais handicapEquipements\\n        \\n          \\n            Equipements\\n            RETOUR Espace étudiants\\n      Le centre de languesLaboratoiresOrdinateurs portablesRessources numériquesFinancer vos étudesVidéothèqueL\\'école\\n        \\n          \\n            \\n            RETOUR menu\\n      Qui sommes nous ?GouvernanceConseil ScientifiqueLes départements d\\'enseignements et de recherche\\n        \\n          \\n            Les départements d\\'enseignements et de recherche\\n            RETOUR L\\'école\\n      4 départementsInformatiqueIngénierie des systèmesSanté, énergie, environnementManagement de la technologie et languesCorps enseignant\\n        \\n          \\n            Corps enseignant\\n            RETOUR L\\'école\\n      Enseigner à ESIEE ParisLes enseignants-chercheursCV du corps professoralLes salles blanches\\n        \\n          \\n            Les salles blanches\\n            RETOUR L\\'école\\n      Les salles blanchesEquipements et procédés\\n        \\n          \\n            Equipements et procédés\\n            RETOUR Les salles blanches\\n      Équipements et ProcédésPhotolithographieTraitements thermiquesDépôts de couches mincesElectrodépositionGravures plasmaGravure humide et nettoyageScellement de substratsMétrologiePlate-forme SEM/FIBPackagingRecherche et collaborationsEquipePlateforme de recherche collaborative - FEDERContactAnnuaireESIEE ConnectWebserie Yann LeCun et ESIEE ParisVisite virtuelle ESIEE ParisLa recherche\\n        \\n          \\n            \\n            RETOUR menu\\n      Accueil RechercheLa recherche à ESIEE Paris\\n        \\n          \\n            La recherche à ESIEE Paris\\n            RETOUR La recherche\\n      La recherche à ESIEE ParisPartenariats académiquesPartenariats entrepriseGrands domaines\\n        \\n          \\n            Grands domaines\\n            RETOUR La recherche\\n      3 grands domainesVille durableSantéSTIC et sociétéThèmes de recherche\\n        \\n          \\n            Thèmes de recherche\\n            RETOUR La recherche\\n      Informatique, image, signal\\n        \\n          \\n            Informatique, image, signal\\n            RETOUR Thèmes de recherche\\n      Informatique, image, signalArchitecture et parallélisme pour l&#039;imagerie et la réalité virtuelleGéométrie discrète, géométrie algorithmique Morphologie mathématique et traitement d&#039;images Optimisation, modélisation et apprentissage Traitement du signalCapteurs, santé, énergie, environnement\\n        \\n          \\n            Capteurs, santé, énergie, environnement\\n            RETOUR Thèmes de recherche\\n      Capteurs, santé, énergie, environnementMicrosystèmes pour l&#039;analyse de l&#039;environnement et la ville durableTechnologies pour la santéMicro-dispositifs et matériaux nanostructurées pour la récupération d&#039;énergieSystèmes énergétiques pour la ville durableElectronique, communication\\n        \\n          \\n            Electronique, communication\\n            RETOUR Thèmes de recherche\\n      Electronique, communicationArchitectures et algorithmes pour les communications radios et la localisationComposants et circuits pour les systèmes de communications radios et optiquesElectronique associée aux micro-systèmes, instrumentation et systèmes de mesuresSystèmes embarqués, réseaux, manufacturing\\n        \\n          \\n            Systèmes embarqués, réseaux, manufacturing\\n            RETOUR Thèmes de recherche\\n      Systèmes embarqués, réseaux, manufacturingSystèmes temps réel : ordonnancement temps réel, optimisation de l&#039;énergie, méthodologie et outils de conceptionOptimisation inter-couches des réseauxVers des modèles décisionnels dynamiques pour les systèmes manufacturiersManagement de l\\'innovation\\n        \\n          \\n            Management de l\\'innovation\\n            RETOUR Thèmes de recherche\\n      Management de l&#039;innovationInnovations de rupture et marchés de la connaissanceManagement de projets innovantsEntrepreneuriat et financement de l&#039;innovationPerspectives de la mondialisation et changements institutionnelsPlateformes et équipementsÉquipe de rechercheFormations par la rechercheFormalités d&#039;accueilPublications des 12 derniers moisPublications 2017-2018Publications avant 2016ContactEntreprises\\n        \\n          \\n            \\n            RETOUR menu\\n      L\\'entreprise partenaire\\n        \\n          \\n            L\\'entreprise partenaire\\n            RETOUR Entreprises\\n      L&#039;entreprise partenaireElaborez une chaire d&#039;enseignement et de rechercheDevenez parrain de promotionDéposez une offre d&#039;emploi, de stage et d&#039;apprentissageContactez-nousRecrutez nos étudiants\\n        \\n          \\n            Recrutez nos étudiants\\n            RETOUR Entreprises\\n      Accueillez un stagiaireRecrutez un apprentiParticipez aux événements école-entreprisesConsultez l&#039;enquête emploiContactez les alumniDéposez une offre d&#039;emploi, de stage et d&#039;apprentissageContactez-nousFormez vos collaborateursDéveloppez vos projets technologiques\\n        \\n          \\n            Développez vos projets technologiques\\n            RETOUR Entreprises\\n      Utilisez nos plateformes technologiquesCollaborez avec la R&amp;D de ESIEE ParisContactez-nousSoutenez nos projets\\n        \\n          \\n            Soutenez nos projets\\n            RETOUR Entreprises\\n      Versez votre taxe d&#039;apprentissageDevenez mécèneInvestissez dans l&#039;équipement pédagogiqueSoutenez la rechercheContactez-nousLouez nos espacesDéposez une offre d&#039;emploi, de stage et d&#039;apprentissageUne question ? Contactez-nousInternational\\n        \\n          \\n            \\n            RETOUR menu\\n      Une large ouverture à l&#039;internationalPartenaires académiquesEtudier à l&#039;étrangerErasmus +Etudiants en échangeProgrammes internationauxLes diplômés à l&#039;internationalContact Campus à l&#039;étranger      \\n\\n        \\n\\n\\n\\n \\n\\n\\n\\n\\n    \\n  \\n\\n  \\n          \\n              \\n    \\n    \\n    \\n            \\n      \\n\\n\\n\\n\\n  \\n\\n  \\n  \\n  \\n  \\n  \\n  \\n      \\n\\n\\n              \\n              \\n          \\n  Ingénieur\\n  Découvrir la formationFilières et métiersEmplois et salairesAdmissions &amp; inscriptions\\n  \\n            \\n              \\n          \\n  Ingénieur par apprentissage\\n  Découvrir la formationEmplois et salairesApprentissage : mode d&#39;emploiAdmissions &amp; inscriptions\\n  \\n            \\n              \\n          \\n  Mastère spécialisé\\n  Découvrir la formation\\n  \\n            \\n              \\n          \\n  Programmes internationaux\\n  Découvrir la formationAdmissions &amp; inscriptions\\n  \\n      \\n  \\n    Formations\\n          Ingénieur\\n                Ingénieur par apprentissage\\n                Mastère spécialisé\\n                Programmes internationaux\\n            \\n\\n\\n\\n\\n  Formations\\n  \\n          \\n        \\n        \\n                    \\n                      \\n          \\n          Ingénieur\\n        \\n      \\n                \\n        \\n        \\n                    \\n                      \\n          \\n          Ingénieur par apprentissage\\n        \\n      \\n                \\n        \\n        \\n                    \\n                      \\n          \\n          Mastère spécialisé\\n        \\n      \\n                \\n        \\n        \\n                    \\n                      \\n          \\n          Programmes internationaux\\n        \\n      \\n            \\n  \\n  \\n  \\n  \\n  \\n  \\n\\n\\n  \\n  \\n  \\n  \\n  \\n  \\n      \\n\\n\\n  \\n\\n\\n\\n  Actualités\\n\\n\\nLire plus d&#039;actualités\\n\\n\\n  \\n      \\n        \\n          30.11.2020    \\n          Actualités\\r\\n    \\n              \\n          Dernières informations Covid-19    \\n          \\r\\nCette page a pour objectif de vous informer en temps réel des mesures prises par l’école dans le cadre de la situation exceptionnelle dûe à l\\'épidémie du Coronavirus.      \\n          \\n        \\n          02.12.2020    \\n          Actualités\\r\\n    \\n              \\n          ESIEE Paris aide les professionnels de santé dans la gestion de la crise sanitaire    \\n          \\r\\nDes étudiants et collaborateurs volontaires vont participer à la formation de médecins généralistes sur la plateforme TERR-eSANTÉ.      \\n          \\n        \\n          23.11.2020    \\n          Portes ouvertes\\r\\n    \\n              \\n          Journées Portes Ouvertes ESIEE Paris 2021    \\n          \\r\\nVous souhaitez vous renseigner sur les filières de formation de ESIEE Paris, les modalités d\\'admission, échanger avec notre équipe pédagogique  ?      \\n          \\n        \\n          30.11.2020    \\n          Formations\\r\\n    \\n              \\n          5 doubles-diplômes de management avec l’IAE Gustave Eiffel    \\n          \\r\\nObtenir un double diplôme Ingénieur - Manager sans suivre d’année d’étude supplémentaire, à ESIEE Paris, c’est possible !      \\n          \\n        \\n          17.11.2020    \\n          Concours\\r\\n    \\n              \\n          HandiTech Trophy 2020 : ESIEE Paris lauréat dans la catégorie &quot;Student Project&quot;    \\n          \\r\\nFélicitations aux étudiants ESIEE Paris qui remportent les HandiTech Trophy 2020 dans la catégorie \"Student Project\".\\r\\n      \\n          \\n        \\n          03.11.2020    \\n          Concours\\r\\n    \\n              \\n          Des étudiants ESIEE Paris remportent le 1er prix du concours international iCAN    \\n          \\r\\nBravo à Kathyna, Yasmine, Davina, et Gabin qui remportent le premier prix du Concours international “iCan 2020”.      \\n          \\n        \\n          19.10.2020    \\n          Actualités\\r\\n    \\n              \\n          ESIEE Paris s&#039;associe à l&#039;hommage national à Samuel Paty    \\n          \\r\\nESIEE Paris s\\'associe à l\\'hommage national à Samuel Paty      \\n          \\n        \\n          08.10.2020    \\n          Challenge\\r\\n    \\n              \\n          La DGSE et ESIEE Paris organisent le challenge Cybersécurité Brigitte Friang    \\n          \\r\\nDu 24 octobre au 11 novembre 2020, la DGSE et ESIEE Paris organisent le challenge Cybersécurité Brigitte Friang.      \\n          \\n        \\n          16.09.2020    \\n          Classement\\r\\n    \\n              \\n          L’Université Gustave Eiffel entre dans le classement de Shanghai    \\n          \\r\\nDès l’année de sa création, l’Université fait son entrée dans le renommé classement de Shanghai 2020.       \\n          \\n        \\n          25.09.2020    \\n          Actualités\\r\\n    \\n              \\n          ESIEE Paris, partenaire des trophées des femmes de l’industrie 2020    \\n          \\r\\nESIEE Paris remet le trophée de la femme de l\\'industrie dans la catégorie \"début prometteur\".      \\n          \\n        \\n          17.01.2020    \\n          Actualités\\r\\n    \\n              \\n          ESIEE Paris 6e école d&#039;ingénieurs - Classement HappyAtSchool® 2020    \\n          \\r\\nCe tout nouveau classement, exclusivement basé sur les avis des élèves, évalue la qualité de leur expérience étudiante.      \\n          \\n        \\n          21.02.2020    \\n          Classement\\r\\n    \\n              \\n          L’Etudiant 2020 : ESIEE Paris, 1re école d’ingénieurs post-bac d’Ile-de-France intègre le groupe A    \\n          \\r\\nL\\'étudiant dévoile son classement 2020 : ESIEE Paris occupe le 27e rang sur les 167 écoles classées.      \\n          \\n        \\n          05.09.2019    \\n          Actualités\\r\\n    \\n              \\n          Le Groupe Renault parrain des prochaines promotions ESIEE Paris    \\n          \\r\\nLe Groupe Renault sera le parrain des promotions 2020, 2021 et 2022 de ESIEE Paris.      \\n      \\n\\n\\n  \\n  \\n  \\n  \\n  \\n  \\n\\n\\n\\n  \\n    \\n\\n<div class=\"content-block-2 pull-left \\n  turquoise\\n\">\\n  \\n    \\n  La recherche\\n\\n    \\n  \\n\\n  \\n  \\n  Découvrez les principaux thèmes de recherche ESIEE Paris, les actualités, les partenariats, les publications, les équipements&hellip;\\n\\n      \\n  En savoir plus\\n\\n    \\n\\n\\n<div class=\"content-block-2 pull-left \\n  mauve\\n\">\\n  \\n    \\n  Entreprises\\n\\n    \\n  \\n\\n  \\n  \\n  Retrouvez toutes les informations relatives à la taxe d&rsquo;apprentissage, à l&rsquo;accompagnement des entreprises et des étudiants, les partenaires, les parrains de promotions&hellip;\\n\\n      \\n  En savoir plus\\n\\n    \\n\\n\\n\\n  \\n        \\n      \\n              \\n    \\n        \\n      \\n              \\n    \\n        \\n      \\n              \\n    \\n        \\n      \\n              \\n    \\n        \\n      \\n              \\n    \\n        \\n      \\n              \\n    \\n        \\n      \\n              \\n    \\n        \\n      \\n              \\n    \\n        \\n      \\n              \\n    \\n        \\n      \\n              \\n    \\n      \\n\\n\\n\\n  \\n        \\n      \\n              \\n    \\n        \\n      \\n              \\n    \\n        \\n      \\n              \\n    \\n        \\n      \\n              \\n    \\n        \\n      \\n              \\n    \\n        \\n      \\n              \\n    \\n        \\n      \\n              \\n    \\n        \\n      \\n              \\n    \\n        \\n      \\n              \\n    \\n        \\n      \\n              \\n    \\n      \\n\\n\\n\\n  \\n        \\n      \\n              \\n    \\n        \\n      \\n              \\n    \\n        \\n      \\n              \\n    \\n        \\n      \\n              \\n    \\n        \\n      \\n              \\n    \\n        \\n      \\n              \\n    \\n        \\n      \\n              \\n    \\n        \\n      \\n              \\n    \\n        \\n      \\n              \\n    \\n        \\n      \\n              \\n    \\n      \\n  \\n\\n\\n\\n  Domaines de compétences\\n  \\n    \\n\\n\\n\\n  \\n    \\n  \\n\\n  \\n  \\n  Réseaux et sécurité\\n\\n  \\n  Ingénieur par apprentissage\\n\\n  Lire la suite\\n\\n\\n\\n\\n  \\n    \\n  \\n\\n  \\n  \\n  Informatique\\n\\n  \\n  Ingénieur\\n\\n  Lire la suite\\n\\n\\n\\n\\n  \\n    \\n  \\n\\n  \\n  \\n  Artificial intelligence and cybersecurity\\n\\n  \\n  Ingénieur\\n\\n  Lire la suite\\n\\n\\n\\n\\n  \\n    \\n  \\n\\n  \\n  \\n  Informatique 3D\\n\\n  \\n  Ingénieur par apprentissage\\n\\n  Lire la suite\\n\\n\\n\\n\\n  \\n    \\n  \\n\\n  \\n  \\n  Systèmes embarqués\\n\\n  \\n  Ingénieur par apprentissage\\n\\n  Lire la suite\\n\\n\\n\\n\\n  \\n    \\n  \\n\\n  \\n  \\n  Datascience et intelligence artificielle\\n\\n  \\n  Ingénieur\\n\\n  Lire la suite\\n\\n\\n\\n\\n  \\n    \\n  \\n\\n  \\n  \\n  Energie\\n\\n  \\n  Ingénieur\\n\\n  Lire la suite\\n\\n\\n\\n\\n  \\n    \\n  \\n\\n  \\n  \\n  Systèmes embarqués\\n\\n  \\n  Ingénieur\\n\\n  Lire la suite\\n\\n\\n\\n\\n  \\n    \\n  \\n\\n  \\n  \\n  Biotechnologies et e-santé\\n\\n  \\n  Ingénieur\\n\\n  Lire la suite\\n\\n\\n\\n\\n  \\n    \\n  \\n\\n  \\n  \\n  Systèmes électroniques\\n\\n  \\n  Ingénieur\\n\\n  Lire la suite\\n\\n\\n\\n\\n  \\n    \\n  \\n\\n  \\n  \\n  Cybersécurité\\n\\n  \\n  Ingénieur\\n\\n  Lire la suite\\n\\n\\n\\n\\n  \\n    \\n  \\n\\n  \\n  \\n  Génie industriel\\n\\n  \\n  Ingénieur\\n\\n  Lire la suite\\n\\n  \\n  \\n    \\n    \\n    \\n  \\n\\n\\n    \\n\\n  \\n\\n\\n  \\n    \\n        \\n\\n\\n\\n\\n  ESIEE Paris\\n  \\n  2 boulevard Blaise PascalCité DescartesBP 9993162 Noisy-le-Grand CedexTel : 01 45 92 65 00&nbsp;\\n\\n\\n\\n\\n\\n\\n  Plan d&#039;accès\\nPresse\\nNous rencontrer\\nLe Jour des Projets\\nBrochures\\nVidéothèque\\nLocation d&#039;espaces\\nEnseigner à ESIEE\\nRéseaux sociaux\\nVisite virtuelle\\nAlumni\\nMentions Légales\\nMarchés publics\\nPlan du site\\n\\n\\n\\n\\n\\n\\n\\nContacter ESIEE Paris\\n\\n\\n\\n\\n\\n\\n\\t\\n\\t  \\n\\t\\n\\n\\n        \\n  \\n\\n\\n    \\n  \\n\\n\\n\\n  \\n    \\n                  \\n          \\n            \\n          \\n        \\n                        \\n          \\n            \\n          \\n        \\n                                  \\n          \\n            \\n          \\n        \\n                        \\n          \\n            \\n          \\n        \\n                                  \\n          \\n            \\n          \\n        \\n          \\n    \\n  \\n\\n    \\n<!--\\nwindow.jQuery || document.write(\"\\\\x3C/script>\")\\n//-->\\n\\n\\n\\n\\n\\n\\n\\n<!--\\nfunction euCookieComplianceLoadScripts() {}\\n//-->\\n\\n\\n<!--\\nvar eu_cookie_compliance_cookie_name = \"\";\\n//-->\\n\\n\\n\\n<!--\\n(function(i,s,o,g,r,a,m){i[\"GoogleAnalyticsObject\"]=r;i[r]=i[r]||function(){(i[r].q=i[r].q||[]).push(arguments)},i[r].l=1*new Date();a=s.createElement(o),m=s.getElementsByTagName(o)[0];a.async=1;a.src=g;m.parentNode.insertBefore(a,m)})(window,document,\"script\",\"//www.google-analytics.com/analytics.js\",\"ga\");ga(\"create\", \"UA-4033468-1\", {\"cookieDomain\":\"auto\"});ga(\"send\", \"pageview\");\\n//-->\\n\\n\\n\\n\\n\\n<!--\\njQuery.extend(Drupal.settings, {\"basePath\":\"\\\\/\",\"pathPrefix\":\"fr\\\\/\",\"ajaxPageState\":{\"theme\":\"esiee_theme\",\"theme_token\":\"OUTHO6doZF_Q7WDBERVgjoHD7w-oeIN_G7LnbCHXErA\"},\"googleCSE\":{\"cx\":\"\",\"language\":\"\",\"resultsWidth\":600,\"domain\":\"www.google.com\"},\"scaldFile\":{\"path\":\"sites\\\\/all\\\\/modules\\\\/contrib\\\\/scald_file\\\\/scald_file.css\"},\"urlIsAjaxTrusted\":{\"\\\\/\":true},\"eu_cookie_compliance\":{\"popup_enabled\":1,\"popup_agreed_enabled\":0,\"popup_hide_agreed\":0,\"popup_clicking_confirmation\":false,\"popup_scrolling_confirmation\":false,\"popup_html_info\":\"\\\\u003Cdiv\\\\u003E\\\\n  \\\\u003Cdiv class =\\\\u0022custom-cookie-popup popup-content info\\\\u0022\\\\u003E\\\\n    \\\\u003Cdiv id=\\\\u0022popup-text\\\\u0022\\\\u003E\\\\n      \\\\u003Cp\\\\u003EEn naviguant sur notre site, vous acceptez l\\\\u0026#39;utilisation de cookies pour vous proposer une navigation optimale et nous permettre de r\\\\u00e9aliser des statistiques de visites. Pour en savoir plus et param\\\\u00e9trer les cookies, visiter \\\\u003Ca href=\\\\u0022\\\\/fr\\\\/mentions-legales\\\\u0022\\\\u003Ela page des mentions l\\\\u00e9gales de ESIEE Paris\\\\u003C\\\\/a\\\\u003E\\\\u003C\\\\/p\\\\u003E    \\\\u003C\\\\/div\\\\u003E\\\\n    \\\\u003Cdiv id=\\\\u0022popup-buttons\\\\u0022\\\\u003E\\\\n      \\\\u003Cbutton type=\\\\u0022button\\\\u0022 class=\\\\u0022agree-button\\\\u0022\\\\u003EAccepter\\\\u003C\\\\/button\\\\u003E\\\\n    \\\\u003C\\\\/div\\\\u003E\\\\n  \\\\u003C\\\\/div\\\\u003E\\\\n\\\\u003C\\\\/div\\\\u003E\",\"use_mobile_message\":false,\"mobile_popup_html_info\":\"\\\\u003Cdiv\\\\u003E\\\\n  \\\\u003Cdiv class =\\\\u0022custom-cookie-popup popup-content info\\\\u0022\\\\u003E\\\\n    \\\\u003Cdiv id=\\\\u0022popup-text\\\\u0022\\\\u003E\\\\n          \\\\u003C\\\\/div\\\\u003E\\\\n    \\\\u003Cdiv id=\\\\u0022popup-buttons\\\\u0022\\\\u003E\\\\n      \\\\u003Cbutton type=\\\\u0022button\\\\u0022 class=\\\\u0022agree-button\\\\u0022\\\\u003EAccepter\\\\u003C\\\\/button\\\\u003E\\\\n    \\\\u003C\\\\/div\\\\u003E\\\\n  \\\\u003C\\\\/div\\\\u003E\\\\n\\\\u003C\\\\/div\\\\u003E\\\\n\",\"mobile_breakpoint\":\"768\",\"popup_html_agreed\":\"\\\\u003Cdiv\\\\u003E\\\\r\\\\n  \\\\u003Cdiv class=\\\\u0022popup-content agreed\\\\u0022\\\\u003E\\\\r\\\\n    \\\\u003Cdiv id=\\\\u0022popup-text\\\\u0022\\\\u003E\\\\r\\\\n      \\\\u003Ch2\\\\u003EThank you for accepting cookies\\\\u003C\\\\/h2\\\\u003E\\\\u003Cp\\\\u003EYou can now hide this message or find out more about cookies.\\\\u003C\\\\/p\\\\u003E    \\\\u003C\\\\/div\\\\u003E\\\\r\\\\n    \\\\u003Cdiv id=\\\\u0022popup-buttons\\\\u0022\\\\u003E\\\\r\\\\n      \\\\u003Cbutton type=\\\\u0022button\\\\u0022 class=\\\\u0022hide-popup-button eu-cookie-compliance-hide-button\\\\u0022\\\\u003EMasquer\\\\u003C\\\\/button\\\\u003E\\\\r\\\\n              \\\\u003Cbutton type=\\\\u0022button\\\\u0022 class=\\\\u0022find-more-button eu-cookie-compliance-more-button-thank-you\\\\u0022 \\\\u003EMore info\\\\u003C\\\\/button\\\\u003E\\\\r\\\\n          \\\\u003C\\\\/div\\\\u003E\\\\r\\\\n  \\\\u003C\\\\/div\\\\u003E\\\\r\\\\n\\\\u003C\\\\/div\\\\u003E\",\"popup_use_bare_css\":1,\"popup_height\":\"auto\",\"popup_width\":0,\"popup_delay\":1000,\"popup_link\":\"\\\\/fr\\\\/fr\\\\/mentions-legales\",\"popup_link_new_window\":1,\"popup_position\":null,\"popup_language\":\"fr\",\"store_consent\":false,\"better_support_for_screen_readers\":0,\"reload_page\":0,\"domain\":\"\",\"popup_eu_only_js\":0,\"cookie_lifetime\":\"100\",\"cookie_session\":false,\"disagree_do_not_show_popup\":0,\"method\":\"opt_in\",\"whitelisted_cookies\":\"\",\"withdraw_markup\":\"\\\\u003Cbutton type=\\\\u0022button\\\\u0022 class=\\\\u0022eu-cookie-withdraw-tab\\\\u0022\\\\u003EPrivacy settings\\\\u003C\\\\/button\\\\u003E\\\\r\\\\n\\\\u003Cdiv class=\\\\u0022eu-cookie-withdraw-banner\\\\u0022\\\\u003E\\\\r\\\\n  \\\\u003Cdiv class=\\\\u0022popup-content info\\\\u0022\\\\u003E\\\\r\\\\n    \\\\u003Cdiv id=\\\\u0022popup-text\\\\u0022\\\\u003E\\\\r\\\\n      \\\\u003Ch2\\\\u003EWe use cookies on this site to enhance your user experience\\\\u003C\\\\/h2\\\\u003E\\\\u003Cp\\\\u003EYou have given your consent for us to set cookies.\\\\u003C\\\\/p\\\\u003E    \\\\u003C\\\\/div\\\\u003E\\\\r\\\\n    \\\\u003Cdiv id=\\\\u0022popup-buttons\\\\u0022\\\\u003E\\\\r\\\\n      \\\\u003Cbutton type=\\\\u0022button\\\\u0022 class=\\\\u0022eu-cookie-withdraw-button\\\\u0022\\\\u003EWithdraw consent\\\\u003C\\\\/button\\\\u003E\\\\r\\\\n    \\\\u003C\\\\/div\\\\u003E\\\\r\\\\n  \\\\u003C\\\\/div\\\\u003E\\\\r\\\\n\\\\u003C\\\\/div\\\\u003E\\\\r\\\\n\",\"withdraw_enabled\":false},\"googleanalytics\":{\"trackOutbound\":1,\"trackMailto\":1,\"trackDownload\":1,\"trackDownloadExtensions\":\"7z|aac|arc|arj|asf|asx|avi|bin|csv|doc(x|m)?|dot(x|m)?|exe|flv|gif|gz|gzip|hqx|jar|jpe?g|js|mp(2|3|4|e?g)|mov(ie)?|msi|msp|pdf|phps|png|ppt(x|m)?|pot(x|m)?|pps(x|m)?|ppam|sld(x|m)?|thmx|qtm?|ra(m|r)?|sea|sit|tar|tgz|torrent|txt|wav|wma|wmv|wpd|xls(x|m|b)?|xlt(x|m)|xlam|xml|z|zip\"},\"esiee_sliders\":{\"training_duration\":\"4\",\"training_auto\":1,\"promotion_duration\":\"2\"},\"esiee_scholarship\":{\"max_80\":4000,\"quotient_80\":60,\"min_60\":4001,\"max_60\":7000,\"quotient_60\":40,\"min_40\":7001,\"max_40\":15000,\"quotient_40\":20,\"min_20\":15001,\"max_20\":99999999999,\"quotient_20\":0},\"esiee_theme\":{\"trail\":[]}});\\n//-->\\n\\n\\n    \\n  \\n\\n\\n'"
      ]
     },
     "execution_count": 3,
     "metadata": {},
     "output_type": "execute_result"
    }
   ],
   "source": [
    "nre = s.clean_html_string(res)\n",
    "nre"
   ]
  },
  {
   "cell_type": "code",
   "execution_count": 4,
   "metadata": {},
   "outputs": [
    {
     "name": "stdout",
     "output_type": "stream",
     "text": [
      "www.esiee.fr\n"
     ]
    }
   ],
   "source": [
    "print(s.extract_domain_name())"
   ]
  },
  {
   "cell_type": "markdown",
   "metadata": {},
   "source": [
    "# Exploitation du HTML  "
   ]
  },
  {
   "cell_type": "markdown",
   "metadata": {},
   "source": [
    "Ici, il faut récupérer le code HTML d'un site web à partir d'une requête. Lorsque vous avez récupéré le texte d'un site il faut le parser. Pour cela, on utilise BeautifulSoup qui permet de transformer la structure HTML en objet Python. Cela permet de récupérer efficacement les données qui nous intéresse.\n",
    "\n",
    "Pour les webmasters, le blocage le plus souvent mis en place et un blocage sur le User-Agent. Le User-Agent est un paramètre intégré dans la requête HTTP réalisé par le Navigateur pour envoyer au front des informations basiques :\n",
    "\n",
    "- la version du Navigateur,\n",
    "- la version de l'OS\n",
    "- Le type de gestionnaire graphique (Gecko)\n",
    "- le type de device utilisé"
   ]
  },
  {
   "cell_type": "markdown",
   "metadata": {},
   "source": [
    "Exemple de User Agent :  \n",
    "\n",
    "`Mozilla/5.0 (Windows NT 6.1; Win64; x64; rv:47.0) Gecko/20100101 Firefox/47.0`"
   ]
  },
  {
   "cell_type": "markdown",
   "metadata": {},
   "source": [
    "Commençons à utiliser `BeautifulSoup`, pour l'installer : "
   ]
  },
  {
   "cell_type": "code",
   "execution_count": 14,
   "metadata": {},
   "outputs": [
    {
     "name": "stdout",
     "output_type": "stream",
     "text": [
      "Requirement already satisfied: bs4 in /anaconda3/lib/python3.7/site-packages (0.0.1)\n",
      "Requirement already satisfied: beautifulsoup4 in /anaconda3/lib/python3.7/site-packages (from bs4) (4.8.1)\n",
      "Requirement already satisfied: soupsieve>=1.2 in /anaconda3/lib/python3.7/site-packages (from beautifulsoup4->bs4) (1.9.3)\n",
      "Requirement already satisfied: lxml in /anaconda3/lib/python3.7/site-packages (4.4.1)\n"
     ]
    }
   ],
   "source": [
    "!pip install bs4\n",
    "!pip install  lxml"
   ]
  },
  {
   "cell_type": "code",
   "execution_count": 15,
   "metadata": {},
   "outputs": [],
   "source": [
    "import requests\n",
    "from bs4 import BeautifulSoup"
   ]
  },
  {
   "cell_type": "markdown",
   "metadata": {},
   "source": [
    "Pour transformer une requête (requests) en objet BeautifulSoup :"
   ]
  },
  {
   "cell_type": "code",
   "execution_count": 17,
   "metadata": {},
   "outputs": [],
   "source": [
    "response = requests.get(url)\n",
    "soup = BeautifulSoup(response.text)"
   ]
  },
  {
   "cell_type": "markdown",
   "metadata": {},
   "source": [
    "Il se peut qu'un message d'erreur arrive à ce point là si vous n'avez pas la librarie `lxml` installée, pour se faire vous avez juste à lancer la commande suivante : "
   ]
  },
  {
   "cell_type": "code",
   "execution_count": 18,
   "metadata": {},
   "outputs": [
    {
     "name": "stdout",
     "output_type": "stream",
     "text": [
      "Requirement already satisfied: lxml in /anaconda3/lib/python3.7/site-packages (4.4.1)\r\n"
     ]
    }
   ],
   "source": [
    "!pip install lxml"
   ]
  },
  {
   "cell_type": "markdown",
   "metadata": {},
   "source": [
    "Pour trouver tous les liens d'une page on récupère la balise `a` qui permet de gérer les liens en HTML  :"
   ]
  },
  {
   "cell_type": "code",
   "execution_count": 19,
   "metadata": {},
   "outputs": [
    {
     "data": {
      "text/plain": [
       "[<a href=\"#\">\n",
       " <i class=\"icon-parametres\"></i>\n",
       " </a>,\n",
       " <a href=\"https://gmail.com\" target=\"_blank\" title=\"Webmail ESIEE Paris\"><i><img alt=\"\" src=\"https://www.esiee.fr/sites/default/files/menu_icons/menu_icon_950.png\"/> </i><span>Webmail ESIEE Paris</span></a>,\n",
       " <a href=\"https://planif.esiee.fr/direct/\" target=\"_blank\" title=\"Emploi du temps général\"><i><img alt=\"\" src=\"https://www.esiee.fr/sites/default/files/menu_icons/menu_icon_1331.png\"/> </i><span>Emploi du temps général</span></a>,\n",
       " <a href=\"https://planif.esiee.fr/jsp/custom/esiee/easyMyPlanning.jsp\" target=\"_blank\" title=\"Emploi du temps individuel\"><i><img alt=\"\" src=\"https://www.esiee.fr/sites/default/files/menu_icons/menu_icon_1332.png\"/> </i><span>Emploi du temps individuel</span></a>,\n",
       " <a href=\"https://intra.esiee.fr\" target=\"_blank\" title=\"Extranet\"><i><img alt=\"\" src=\"https://www.esiee.fr/sites/default/files/menu_icons/menu_icon_951.png\"/> </i><span>Extranet</span></a>,\n",
       " <a href=\"https://esiee.blackboard.com\" target=\"_blank\" title=\"iCampus\"><i><img alt=\"\" src=\"https://www.esiee.fr/sites/default/files/menu_icons/menu_icon_1311.png\"/> </i><span>iCampus</span></a>,\n",
       " <a href=\"http://e5.onthehub.com/WebStore/Welcome.aspx?vsro=8&amp;ws=45AD823E-799B-E011-969D-0030487D8897&amp;JSEnabled=1\" target=\"_blank\" title=\"Microsoft DreamSpark\"><i><img alt=\"\" src=\"https://www.esiee.fr/sites/default/files/menu_icons/menu_icon_1696.png\"/> </i><span>Microsoft DreamSpark</span></a>,\n",
       " <a href=\"/en\">\n",
       " <i>\n",
       " <img alt=\"English\" src=\"/sites/all/themes/custom/esiee_theme/assets/images/flag-en.png\"/>\n",
       " </i>\n",
       " </a>,\n",
       " <a href=\"https://www.facebook.com/esieeparis\" target=\"_blank\">\n",
       " <i class=\"fa fa-facebook\"></i>\n",
       " </a>,\n",
       " <a href=\"https://twitter.com/ESIEEPARIS\" target=\"_blank\">\n",
       " <i class=\"fa fa-twitter\"></i>\n",
       " </a>]"
      ]
     },
     "execution_count": 19,
     "metadata": {},
     "output_type": "execute_result"
    }
   ],
   "source": [
    "soup.find_all(\"a\")[0:10]"
   ]
  },
  {
   "cell_type": "markdown",
   "metadata": {},
   "source": [
    "On peut préciser la classe HTML voulue  pour l'ensemble des `a`:\n",
    "\n",
    "```python\n",
    "soup.find_all(class_=\"<CLASS_NAME>\")[0:10]\n",
    "```\n",
    "\n",
    "Ici par exemple: "
   ]
  },
  {
   "cell_type": "code",
   "execution_count": 20,
   "metadata": {},
   "outputs": [
    {
     "data": {
      "text/plain": [
       "[<div class=\"slide slide-content\">\n",
       " <span class=\"slide-content-date inline-block\"><span class=\"date-display-single\">19.11.2019</span></span>\n",
       " <span class=\"slide-content-theme inline-block is-uppercase\">Evènements</span>\n",
       " <div class=\"clearfix\"></div>\n",
       " <div class=\"slide-content-img pull-left\"><!-- scald=2387:news_thumbnail --><img alt=\"Vignette Webserie Episode 1\" height=\"90\" src=\"https://www.esiee.fr/sites/default/files/styles/news/public/thumbnails/image/vignette-episode-1.jpg.png?itok=zxvSPpas\" title=\"Vignette Webserie Episode 1\" width=\"120\"/><!-- END scald=2387 --></div>\n",
       " <span class=\"slide-content-title\"><a class=\"is-uppercase\" href=\"/fr/actualite/webserie-yann-lecun-prix-turing\">Lancement de la webserie Yann LeCun Prix Turing et ESIEE Paris</a></span>\n",
       " <div class=\"clearfix\"></div>\n",
       " <p class=\"slide-content-desc\">Découvrez la nouvelle Webserie sur l'histoire commune entre Yann LeCun, lauréat du Prix Turing, et ESIEE Paris.</p> </div>,\n",
       " <div class=\"slide slide-content\">\n",
       " <span class=\"slide-content-date inline-block\"><span class=\"date-display-single\">21.10.2019</span></span>\n",
       " <span class=\"slide-content-theme inline-block is-uppercase\">Salons</span>\n",
       " <div class=\"clearfix\"></div>\n",
       " <div class=\"slide-content-img pull-left\"><!-- scald=2280:news_thumbnail --><img alt=\"Salons\" height=\"90\" src=\"https://www.esiee.fr/sites/default/files/styles/news/public/thumbnails/image/generique-salons.png?itok=2Y0RvWr2\" title=\"Salons\" width=\"120\"/><!-- END scald=2280 --></div>\n",
       " <span class=\"slide-content-title\"><a class=\"is-uppercase\" href=\"/fr/actualite/salons-etudiants-novembre-2019\">Salons étudiants | Rendez-vous avec ESIEE Paris en Novembre !</a></span>\n",
       " <div class=\"clearfix\"></div>\n",
       " <p class=\"slide-content-desc\">Vous recherchez une formation d'ingénieur ? Découvrez les filières ESIEE Paris.</p> </div>,\n",
       " <div class=\"slide slide-content\">\n",
       " <span class=\"slide-content-date inline-block\"><span class=\"date-display-single\">20.09.2019</span></span>\n",
       " <span class=\"slide-content-theme inline-block is-uppercase\">Journée portes ouvertes</span>\n",
       " <div class=\"clearfix\"></div>\n",
       " <div class=\"slide-content-img pull-left\"><!-- scald=2282:news_thumbnail --><img alt=\"JPO ESIEE Paris\" height=\"90\" src=\"https://www.esiee.fr/sites/default/files/styles/news/public/thumbnails/image/generique-jpo.jpg?itok=Y_OmDg80\" title=\"JPO ESIEE Paris\" width=\"120\"/><!-- END scald=2282 --></div>\n",
       " <span class=\"slide-content-title\"><a class=\"is-uppercase\" href=\"/fr/actualite/portes-ouvertes-14-decembre-2019\">14 décembre 2019 | Journée Portes Ouvertes</a></span>\n",
       " <div class=\"clearfix\"></div>\n",
       " <p class=\"slide-content-desc\">Bien choisir son école, c'est aussi la rencontrer ! Rendez-vous le 14 décembre 2019 (13 h à 18 h) à ESIEE Paris.</p> </div>,\n",
       " <div class=\"slide slide-content\">\n",
       " <span class=\"slide-content-date inline-block\"><span class=\"date-display-single\">21.11.2019</span></span>\n",
       " <span class=\"slide-content-theme inline-block is-uppercase\">Conférences</span>\n",
       " <div class=\"clearfix\"></div>\n",
       " <div class=\"slide-content-img pull-left\"><!-- scald=2390:news_thumbnail --><img alt=\"Conférence de clôture de la chaire Blaise Pascal\" height=\"90\" src=\"https://www.esiee.fr/sites/default/files/styles/news/public/thumbnails/image/illustration-conference-professeur-cui-2019_0.png?itok=k1zH48d0\" title=\"Conférence de clôture de la chaire Blaise Pascal\" width=\"120\"/><!-- END scald=2390 --></div>\n",
       " <span class=\"slide-content-title\"><a class=\"is-uppercase\" href=\"/fr/actualite/recherche-professeur-cui-conference-2019\">Chaire Blaise Pascal - Conférence de clôture du Professeur CUI, Professeur invité</a></span>\n",
       " <div class=\"clearfix\"></div>\n",
       " <p class=\"slide-content-desc\">Le Professeur Tianhong CUI, Professeur en ingénierie mécanique de renommée mondiale effectuera sa dernière conférence dans le cadre de la chaire Blaise Pascal.</p> </div>,\n",
       " <div class=\"slide slide-content\">\n",
       " <span class=\"slide-content-date inline-block\"><span class=\"date-display-single\">12.09.2019</span></span>\n",
       " <span class=\"slide-content-theme inline-block is-uppercase\">Evènements</span>\n",
       " <div class=\"clearfix\"></div>\n",
       " <div class=\"slide-content-img pull-left\"><!-- scald=2253:news_thumbnail --><img alt=\"FUTURE Days 2019\" height=\"90\" src=\"https://www.esiee.fr/sites/default/files/styles/news/public/thumbnails/image/illustration-futuredays2019-v3.jpg?itok=GUrdDpt6\" title=\"FUTURE Days 2019\" width=\"120\"/><!-- END scald=2253 --></div>\n",
       " <span class=\"slide-content-title\"><a class=\"is-uppercase\" href=\"/fr/actualite/futuredays-2019\">Participez aux FUTURE Days 2019, l’évènement du grand Paris sur les villes de demain</a></span>\n",
       " <div class=\"clearfix\"></div>\n",
       " <p class=\"slide-content-desc\">FUTURES Days \"Héritages et anticipations urbaines\" | Les 27 et 28 novembre 2019</p> </div>]"
      ]
     },
     "execution_count": 20,
     "metadata": {},
     "output_type": "execute_result"
    }
   ],
   "source": [
    "soup.find_all(class_=\"slide\")[0:5]"
   ]
  },
  {
   "cell_type": "markdown",
   "metadata": {},
   "source": [
    "Pour récupérer le text sans les balises HTML :"
   ]
  },
  {
   "cell_type": "code",
   "execution_count": 21,
   "metadata": {},
   "outputs": [
    {
     "data": {
      "text/plain": [
       "\"\\n\\n\\n\\n\\n  \\n\\n\\n\\n\\n\\n\\nESIEE Paris, l’école de l’innovation technologique | Grande école d’ingénieurs | ESIEE Paris\\n\\n\\n\\n\\n\\n\\n\\n\\n\\n\\n\\n\\n \\n\\n\\n\\n\\n\\n\\n\\n\\n\\n\\n\\nLes outils ESIEE Paris Webmail ESIEE Paris Emploi du temps général Emploi du temps individuel Extranet iCampus Microsoft DreamSpark \\n\\n\\n\\n\\n\\n\\n\\n\\n\\n\\n\\n\\n\\n\\n\\n\\n\\n\\n\\n\\n\\n\\n\\n\\n\\n\\n\\n\\n\\n\\n\\n\\n\\n\\n\\n\\n\\n\\n\\n\\n\\n\\n\\n\\n\\n\\n menu\\nFormations\\n\\n\\nRETOUR menu\\nFormations ESIEE ParisIngénieur\\n\\n\\nIngénieur\\nRETOUR Formations\\nIngénieur ESIEE ParisPremier cycleLe cycle ingénieur\\n\\n\\nLe cycle ingénieur\\nRETOUR Ingénieur\\nLe cycle ingénieur ESIEE ParisEnseignements de 1ère annéeEnseignements de 2e et 3e annéeProfils métiersFilières\\n\\n\\nFilières\\nRETOUR Ingénieur\\n8 filières, 1 diplômeInformatiqueCybersécurité des Systèmes d'informationDatascience et intelligence artificielleSystèmes embarquésSystèmes électroniques intelligentsGénie industrielBiotechnologies et e-santéEnergieEmplois et salairesFrais de scolarité ingénieur et aides financièresStagesAdmissionsContactIngénieur par apprentissage\\n\\n\\nIngénieur par apprentissage\\nR\""
      ]
     },
     "execution_count": 21,
     "metadata": {},
     "output_type": "execute_result"
    }
   ],
   "source": [
    "soup.text[0:1000]"
   ]
  },
  {
   "cell_type": "markdown",
   "metadata": {},
   "source": [
    "## Exercice\n",
    "### Exercice 3\n",
    "\n",
    "Améliorer la classe développé précédemment.\n",
    "\n",
    "- Ajouter une méthode pour récupérer l'objet soup d'un url\n",
    "- Récupérer une liste de User Agent et effectuer une rotation aléatoire sur celui à utiliser\n",
    "- Utiliser cette classe pour parser une page HTML et récupérer : le titre, tous les H1 (si ils existent), les liens vers les images, les liens sortants vers d'autres sites, et le texte principal.\n",
    "\n",
    "Parsing d'un sitemaps pour récupérer une listes de liens avec les informations disponibles. -> Stocker dans un dictionnaire et dans un fichier JSON local."
   ]
  },
  {
   "cell_type": "code",
   "execution_count": 5,
   "metadata": {},
   "outputs": [],
   "source": [
    "import requests\n",
    "import re\n",
    "import random\n",
    "from bs4 import BeautifulSoup\n",
    "\n",
    "\n",
    "class Scrapper:\n",
    "    def __init__(self, url):\n",
    "        self.user_agent_list = [\n",
    "            'Mozilla/5.0 (Windows NT 10.0; Win64; x64) AppleWebKit/537.36 (KHTML, like Gecko) Chrome/86.0.4240.193 Safari/537.36',\n",
    "            'Mozilla/5.0 (Windows NT 6.1; WOW64; rv:34.0) Gecko/20100101 Firefox/34.0',\n",
    "            'Mozilla/5.0 (Windows NT 6.1; WOW64) AppleWebKit/534.57.2 (KHTML, like Gecko) Version/5.1.7 Safari/534.57.2',\n",
    "            'Mozilla/5.0 (Windows NT 5.1; U; en; rv:1.8.1) Gecko/20061208 Firefox/2.0.0 Opera 9.50'\n",
    "        ]\n",
    "        self.headers = {'User-Agent':random.choice(self.user_agent_list)}\n",
    "        self.url = url\n",
    "      \n",
    "    #exercie1\n",
    "    def get_response(self, timeout = 10, max_retry = 3):\n",
    "        lastException = None\n",
    "        for _ in range(max_retry):\n",
    "            try:\n",
    "                r = requests.get(self.url, headers = self.headers, timeout = timeout)\n",
    "                return r.text\n",
    "            except Exception as e:\n",
    "                lastException = e\n",
    "        raise lastException       \n",
    "    \n",
    "    #exercice2\n",
    "    def remove_white_spaces(self, x):\n",
    "        return x.strip()\n",
    "\n",
    "    def clean_html_string(self, raw_html):\n",
    "        cleanr = re.compile('<.*?>')\n",
    "        cleantext = re.sub(cleanr, '', raw_html)\n",
    "        return cleantext\n",
    "    \n",
    "    def extract_domain_name(self):\n",
    "        m = re.search('https?://([A-Za-z_0-9.-]+).*', self.url)\n",
    "        if m:\n",
    "            return m.group(1)\n",
    "\n",
    "    #exercice3\n",
    "    def get_soup(self, text_response):\n",
    "        soup = BeautifulSoup(text_response, 'lxml')\n",
    "        return soup\n",
    "    \n",
    "    def get_title(self, soup):\n",
    "        return soup.find('title').text\n",
    "\n",
    "    def get_all_h1(self, soup):\n",
    "        return [elt.text for elt in soup.findAll('h2')]\n",
    "\n",
    "    def get_imagelinks(self, soup):\n",
    "        try:\n",
    "            return [elt['src'] for elt in soup.findAll('img') if elt.get('src')]\n",
    "        except:\n",
    "            return []\n",
    "        \n",
    "    def tag_visible(self, element):\n",
    "        if element.parent.name in ['style','script','head','title','meta','[document]']:\n",
    "            return False\n",
    "        return True\n",
    "\n",
    "    def get_main_text(self, soup):\n",
    "        texts = soup.findAll(text=True)\n",
    "        visible_texts = filter(self.tag_visible, texts)\n",
    "        return u\" \".join(t.strip() for t in visible_texts)\n",
    "\n",
    "    def get_out_links(self, soup):\n",
    "        links_list = [elt['href'] for elt in soup.findAll('a')]\n",
    "        return [elt for elt in links_list if not elt.startswith(self.extract_domain_name())]\n",
    "    \n",
    "    def extract_sitemap(self, soup):\n",
    "        sitemapTags = soup.find_all('sitemap')\n",
    "        xmlDict = {}\n",
    "        for sitemap in sitemapTags:\n",
    "            xmlDict[sitemap.findNext(\"loc\").text] = sitemap.findNext(\"lastmod\").text\n",
    "        return xmlDict\n",
    "\n",
    "    def get_sitemap_json(self):\n",
    "        domain = self.extract_domain_name()\n",
    "        urls = ['http://' + domain + '/' + term for term in ['sitemap.xml','sitemap1.xml','sitemap_index.xml']]\n",
    "        for url in urls:\n",
    "            response = requests.get(url)\n",
    "            if response.status_code == 200:\n",
    "                soup = self.get_soup(response.text)\n",
    "                sm = self.extract_sitemap(soup)\n",
    "                return sm\n",
    "        return None\n",
    "\n",
    "    def main(self):\n",
    "        response = self.get_response()\n",
    "        soup = self.get_soup(response)\n",
    "        res = {\n",
    "            'domain_name' : self.extract_domain_name(),\n",
    "            'title' : self.get_title(soup),\n",
    "            'url' : self.url,\n",
    "            'images' : self.get_imagelinks(soup)[:2],\n",
    "            'h2' : self.get_all_h1(soup)\n",
    "        }\n",
    "        sitemap = self.get_sitemap_json()\n",
    "        return res"
   ]
  },
  {
   "cell_type": "code",
   "execution_count": 6,
   "metadata": {},
   "outputs": [
    {
     "name": "stdout",
     "output_type": "stream",
     "text": [
      "{'domain_name': 'www.esiee.fr', 'title': 'ESIEE Paris, l’école de l’innovation technologique | Grande école d’ingénieurs | ESIEE Paris', 'url': 'https://www.esiee.fr/', 'images': ['https://www.esiee.fr/sites/default/files/menu_icons/menu_icon_950.png', 'https://www.esiee.fr/sites/default/files/menu_icons/menu_icon_1331.png'], 'h2': ['Actualités', 'Domaines de compétences']}\n"
     ]
    }
   ],
   "source": [
    "s = Scrapper('https://www.esiee.fr/')\n",
    "print(s.main())"
   ]
  },
  {
   "cell_type": "markdown",
   "metadata": {},
   "source": [
    "# Exploitation des appels d'API\n"
   ]
  },
  {
   "cell_type": "markdown",
   "metadata": {},
   "source": [
    "\n",
    "Losque le front du site récupère des données sur une API géré par le back, un appel d'API est réalisé. Cet appel est recensé dans les appels réseaux. Il est alors possible de re-jouer cet appel pour récupérer à nouveau les données. Il est très facile de récupérer ces appels dans l'onglet Network de la console développeur de Chrome ou FireFox. La console vous permet de copier le code CURL pour effectuée et vous pouvez ensuite la transformer en code Python depuis le site https://curl.trillworks.com/.\n",
    "\n",
    "Souvent les APIs sont bloquées avec certain paramètres. L'API verifie que dans les headers de la requêtes HTTP ces paramètres sont présents : * un token généré à la volée avec des protocole OAuth2 (ou moins développés). * un referer provenant du site web (la source de la requête), très facile à falsifier.\n",
    "\n"
   ]
  },
  {
   "cell_type": "markdown",
   "metadata": {},
   "source": [
    "## Exercice \n",
    "### Exercice 4\n",
    "\n",
    "- Utiliser les informations développées plus haut pour récupérer les premiers résultats d'une recherche d'une requête\n",
    "sur Qwant. \n",
    "\n",
    "Tips : \n",
    "\n",
    "- Aller sur https://www.qwant.com/\n",
    "- Ouvrir les outils de développements de Chrome ou Firefox\n",
    "- Onglet Network\n",
    "- Fouiller dans les requêtes"
   ]
  },
  {
   "cell_type": "code",
   "execution_count": 7,
   "metadata": {},
   "outputs": [
    {
     "data": {
      "text/plain": [
       "'<!DOCTYPE HTML>\\n<html lang=\"en\">\\n    <head>\\n        <title>france | Qwant lite</title>\\n        <meta name=\"language\" content=\"en\"/>\\n        \\n        <link href=\"/css/app.css?1563875041675\" rel=\"stylesheet\" type=\"text/css\" />\\n        <!--[if IE]>\\n        \\t<link rel=\"stylesheet\" href=\"/css/ie.css?1563875041675\" rel=\"stylesheet\" type=\"text/css\" />\\n        <![endif]-->\\n\\t\\t<meta http-equiv=\"X-UA-Compatible\" content=\"IE=edge\"/>\\n\\t\\t<meta property=\"og:site_name\" content=\"Qwant Lite\"/>\\n\\t\\t<meta charset=\"utf-8\"/>\\n\\t\\t<meta name=\"referrer\" content=\"origin\"/>\\n\\t\\t<meta property=\"og:image\" content=\"/images/QWANT_Facebook_Twitter_Meta.png?1563875041675\"/>\\n\\t\\t<meta property=\"og:type\" content=\"website\"/>\\n\\t\\t<meta property=\"og:url\" content=\"https://lite.qwant.com/\" id=\"meta_og_url\"/>\\n\\t\\t<meta name=\"description\" content=\"Qwant is a search engine that respects your privacy and eases discovering and sharing via a social approach.\" id=\"meta_description\"/>\\n\\t\\t<meta property=\"og:description\" content=\"Qwant is a search engine that respects your privacy and eases discovering and sharing via a social approach.\" id=\"meta_og_description\"/>\\n\\t\\t<meta name=\"application-name\" content=\"Qwant Lite\"/>\\n\\t\\t<meta name=\"twitter:widgets:csp\" content=\"on\"/>\\n\\t\\t<meta name=\"viewport\" content=\"width=device-width, initial-scale=1, user-scalable=yes\"/>\\n\\t\\t<meta name=\"msapplication-TileImage\" content=\"/images/favicons/favicon-144.png?1563875041675\"/>\\n\\t\\t<meta name=\"msapplication-TileColor\" content=\"#FFFFFF\"/>\\n\\t\\t<meta name=\"msvalidate.01\" content=\"10374673CE791DF540FB8C7740F1D63E\"/>\\n\\t\\t<meta name=\"google-site-verification\" content=\"r4ByFHdir-biedrhNgDW4BOTv4oOFHBtsg0JXXkTSf0\"/>\\n\\t\\t\\n\\t\\t<link rel=\"alternate\" hreflang=\"en\" href=\"https://lite.qwant.com/?l=en\"/>\\n\\t\\t<link rel=\"alternate\" hreflang=\"fr\" href=\"https://lite.qwant.com/?l=fr\"/>\\n\\t\\t<link rel=\"alternate\" hreflang=\"de\" href=\"https://lite.qwant.com/?l=de\"/>\\n\\t\\t<link rel=\"alternate\" hreflang=\"es\" href=\"https://lite.qwant.com/?l=es\"/>\\n\\t\\t<link rel=\"alternate\" hreflang=\"it\" href=\"https://lite.qwant.com/?l=it\"/>\\n\\t\\t<link rel=\"alternate\" hreflang=\"pt\" href=\"https://lite.qwant.com/?l=pt\"/>\\n\\t\\t<link rel=\"alternate\" hreflang=\"nl\" href=\"https://lite.qwant.com/?l=nl\"/>\\n\\t\\t<link rel=\"alternate\" hreflang=\"pl\" href=\"https://lite.qwant.com/?l=pl\"/>\\n\\t\\t<link rel=\"alternate\" hreflang=\"br\" href=\"https://lite.qwant.com/?l=br\"/>\\n\\t\\t\\n\\t\\t<link rel=\"alternate\" href=\"https://lite.qwant.com\" hreflang=\"x-default\"/>\\n\\t    <link rel=\"canonical\" href=\"https://lite.qwant.com?l=en\" />\\n\\t\\t<link rel=\"search\" type=\"application/opensearchdescription+xml\" title=\"Qwant Lite\" href=\"https://lite.qwant.com/opensearch.xml\" />\\n    </head>\\n    <body class=\"page page--results\">\\n        \\n\\n<div class=\"header\">\\n\\t<a class=\"extension-item button special\" href=\"https://addons.mozilla.org/firefox/addon/qwant-lite/?src=search\" target=\"_blank\" rel=\"noopener\">Install Qwant Lite</a>\\n\\t<a class=\"header_settings\" href=\"/settings/\"><span>Settings</span></a>\\n</div>\\n\\n<a class=\"search-logo\" href=\"/\">Qwant Lite</a>\\n<form class=\"search-form\" id=\"search-form\" method=\"get\" action=\"/\">\\n\\t\\n\\t<input type=\"text\" class=\"search-form__text\" autocomplete=\"off\" spellcheck=\"false\" id=\"search-input\" name=\"q\" list=\"search-suggestions\" value=\"france\">\\n\\t<input type=\"submit\" class=\"search-form__submit\" value=\"Search\" autocomplete=\"off\" title=\"Search\">\\n\\t<input type=\"hidden\" value=\"web\" name=\"t\">\\n</form>\\n\\n\\n\\n<div class=\"results-page\">\\n\\n\\t<ul class=\"sections-menu\">\\n\\n\\t<li class=\"sections-menu-item sections-menu-item--web sections-menu-item--active\">\\n\\t\\t<a href=\"/?q=france&t=web\"><span>Web</span></a>\\n\\t</li>\\n\\n\\t<li class=\"sections-menu-item sections-menu-item--news\">\\n\\t\\t<a href=\"/?q=france&t=news\"><span>News</span></a>\\n\\t</li>\\n\\n\\t<li class=\"sections-menu-item sections-menu-item--social\">\\n\\t\\t<a href=\"/?q=france&t=social\"><span>Social</span></a>\\n\\t</li>\\n\\n\\t<li class=\"sections-menu-item sections-menu-item--images\">\\n\\t\\t<a href=\"/?q=france&t=images\"><span>Images</span></a>\\n\\t</li>\\n\\n\\t<li class=\"sections-menu-item sections-menu-item--videos\">\\n\\t\\t<a href=\"/?q=france&t=videos\"><span>Videos</span></a>\\n\\t</li>\\n\\n\\t<li class=\"sections-menu-item sections-menu-item--shopping\">\\n\\t\\t<a href=\"/?q=france&t=shopping\"><span>Shopping</span></a>\\n\\t</li>\\n\\n</ul>\\n\\n\\t<div class=\"results results--web\">\\n\\n\\t\\t<div class=\"results-container clearfix\">\\n\\n\\t\\t\\t\\n\\t\\t\\t\\t<p class=\"message\">No results found</p>\\n\\t\\t\\t\\n\\n\\t\\t\\t\\n\\n\\t\\t\\t\\n\\n\\t\\t</div>\\n\\n\\t\\t\\n\\n\\n\\n\\n\\n\\t</div>\\n\\n</div>\\n\\n<div class=\"footer\">\\n\\t\\n\\t\\t\\n\\t\\t\\t<a href=\"https://about.qwant.com/legal/privacy/\" target=\"_blank\">Privacy<!-- (en - en_gb - object) --></a>\\n\\t\\t\\n\\t\\n\\t\\t\\n\\t\\t\\t<a href=\"https://about.qwant.com/\" target=\"_blank\">About</a>\\n\\t\\t\\n\\t\\n\\t\\t\\n\\t\\t\\t<a href=\"https://about.qwant.com/legal/terms-of-service/qwant-search/\" target=\"_blank\">Terms of service</a>\\n\\t\\t\\n\\t\\n\\t\\t\\n\\t\\t\\t<a href=\"https://about.qwant.com/legal/legal-notices/\" target=\"_blank\">Legal notices</a>\\n\\t\\t\\n\\t\\n\\t\\t\\n\\t\\t\\t<a href=\"https://help.qwant.com/\" target=\"_blank\">F.A.Q.</a>\\n\\t\\t\\n\\t\\n\\t\\t\\n\\t\\t\\t<a href=\"/games/\">Games</a>\\n\\t\\t\\n\\t\\n</div>\\n\\n\\n        <script src=\"/js/app.js?1563875041675\"></script>\\n    </body>\\n</html>'"
      ]
     },
     "execution_count": 7,
     "metadata": {},
     "output_type": "execute_result"
    }
   ],
   "source": [
    "s = Scrapper('https://www.qwant.com/?q=france&t=web&count=10')\n",
    "s.get_response()"
   ]
  },
  {
   "cell_type": "markdown",
   "metadata": {},
   "source": [
    "# Exercice Final  "
   ]
  },
  {
   "cell_type": "markdown",
   "metadata": {},
   "source": [
    "Exercice Final\n",
    "Utilisez tout ce que vous avez appris pour récupérer des articles de News avec une catégorie. Il est souvent intéressant de partir des flux RSS pour commencer :\n",
    "\n",
    "Les données doivent comprendre :\n",
    "- Le texte important propre\n",
    "- L'url\n",
    "- Le domaine\n",
    "- la catégorie\n",
    "- Le titre de l'article\n",
    "- Le titre de la page\n",
    "- (Facultatif) : les images\n",
    "\n",
    "Tips : \n",
    "\n",
    "- Taper le nom de votre média favoris + RSS (par exemple : https://www.lemonde.fr/rss/)\n",
    "- Aller dans le DOM de la page \n",
    "- Trouver les catégories et les liens vers les articles"
   ]
  },
  {
   "cell_type": "code",
   "execution_count": 8,
   "metadata": {},
   "outputs": [
    {
     "data": {
      "text/plain": [
       "{'domain_name': 'www.lemonde.fr',\n",
       " 'title': 'Les flux RSS du Monde.fr',\n",
       " 'url': 'https://www.lemonde.fr/rss/',\n",
       " 'images': ['https://img.lemde.fr/2020/12/04/1/0/7029/4686/180/0/95/0/12ea8b7_5819537-01-06.jpg',\n",
       "  'https://img.lemde.fr/2020/12/04/0/0/6240/4160/180/0/95/0/1d8c5b9_204105465-hl-mbertrand-1295362.jpg'],\n",
       " 'h2': ['Conditions d’utilisation',\n",
       "  'Qu’est qu’un flux RSS?',\n",
       "  'Comment utiliser les flux RSS ?',\n",
       "  'Pourquoi utiliser des flux RSS?',\n",
       "  'Nos principaux flux']}"
      ]
     },
     "execution_count": 8,
     "metadata": {},
     "output_type": "execute_result"
    }
   ],
   "source": [
    "s = Scrapper('https://www.lemonde.fr/rss/')\n",
    "s.main()"
   ]
  },
  {
   "cell_type": "code",
   "execution_count": null,
   "metadata": {},
   "outputs": [],
   "source": []
  }
 ],
 "metadata": {
  "hide_input": false,
  "kernelspec": {
   "display_name": "Python 3",
   "language": "python",
   "name": "python3"
  },
  "language_info": {
   "codemirror_mode": {
    "name": "ipython",
    "version": 3
   },
   "file_extension": ".py",
   "mimetype": "text/x-python",
   "name": "python",
   "nbconvert_exporter": "python",
   "pygments_lexer": "ipython3",
   "version": "3.7.7"
  }
 },
 "nbformat": 4,
 "nbformat_minor": 2
}
