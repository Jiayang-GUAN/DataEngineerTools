{
 "cells": [
  {
   "cell_type": "markdown",
   "metadata": {},
   "source": [
    "# Introduction"
   ]
  },
  {
   "cell_type": "markdown",
   "metadata": {},
   "source": [
    "Aujourd'hui la plupart des sites web utilisent du JavaScript pour rendre le site plus dynamique et agréable mais aussi pour afficher la données. \n",
    "\n",
    "Pour ces sites, la première méthode abordée n'est pas efficace, car de nombreuses requêtes sont utilisées pour se connecter, afficher la donnée, naviguer, il faudrait prendre en compte toutes ces requêtes et les assembler pour simuler le comportement du site. \n",
    "\n",
    "**C'est le comportement de votre navigateur**, il compile toutes les interactions, les requêtes et génère du HTML permettant d'afficher l'interface graphique d'un site web.\n",
    "\n",
    "Pour palier ce problème on peut laisser le navigateur faire son travail et contrôler sa surcouche logiciel. Pour cela on peut prendre le contrôle d'un navigateur comme Chrome, Edge, Firefox ou Safari depuis un script Python. \n",
    "\n",
    "Pour cela, nous allons utiliser un package Python `Selenium` https://selenium-python.readthedocs.io/ qui permet d'instancier un navigateur et de le contrôler. Sélénium est beaucoup utilisé pour générer des tests automatiques de sites web. \n",
    "\n",
    "On peut trouver les drivers des différents browser : \n",
    "- Chrome:\thttps://sites.google.com/a/chromium.org/chromedriver/downloads\n",
    "- Edge:\thttps://developer.microsoft.com/en-us/microsoft-edge/tools/webdriver/\n",
    "- Firefox:\thttps://github.com/mozilla/geckodriver/releases\n",
    "- Safari:\thttps://webkit.org/blog/6900/webdriver-support-in-safari-10/"
   ]
  },
  {
   "cell_type": "code",
   "execution_count": 2,
   "metadata": {},
   "outputs": [
    {
     "name": "stdout",
     "output_type": "stream",
     "text": [
      "Collecting selenium\n",
      "\u001b[?25l  Downloading https://files.pythonhosted.org/packages/80/d6/4294f0b4bce4de0abf13e17190289f9d0613b0a44e5dd6a7f5ca98459853/selenium-3.141.0-py2.py3-none-any.whl (904kB)\n",
      "\u001b[K     |████████████████████████████████| 911kB 3.1MB/s eta 0:00:01\n",
      "\u001b[?25hRequirement already satisfied: urllib3 in /anaconda3/lib/python3.7/site-packages (from selenium) (1.24.2)\n",
      "Installing collected packages: selenium\n",
      "Successfully installed selenium-3.141.0\n"
     ]
    }
   ],
   "source": [
    "!pip install selenium"
   ]
  },
  {
   "cell_type": "code",
   "execution_count": 1,
   "metadata": {},
   "outputs": [],
   "source": [
    "from selenium import webdriver"
   ]
  },
  {
   "cell_type": "code",
   "execution_count": 2,
   "metadata": {},
   "outputs": [],
   "source": [
    "IS_LINUX = False"
   ]
  },
  {
   "cell_type": "code",
   "execution_count": 3,
   "metadata": {},
   "outputs": [],
   "source": [
    "chrome = webdriver.Chrome('chromedriver.exe')"
   ]
  },
  {
   "cell_type": "markdown",
   "metadata": {},
   "source": [
    "Vous devez voir apparaître une nouvelle instance de votre navigateur. Si vous voulez accéder à une page : "
   ]
  },
  {
   "cell_type": "code",
   "execution_count": 4,
   "metadata": {},
   "outputs": [],
   "source": [
    "chrome.get(\"https://www.amazon.fr\")"
   ]
  },
  {
   "cell_type": "markdown",
   "metadata": {},
   "source": [
    "Allez maintenant voir votre fenêtre. Vous êtes sur le site d'amazon. Vous pouvez maintenant vous déplacer dans la page. Pour cela il va falloir inspecter le code source de la page.\n",
    "\n",
    "Il existe de nombreuse méthode pour récupérer les éléments par exemple `find_element_by_link_text` qui permet de récupérer un élément grâce au text affiché. Ici, si on veut récupérer toutes les `Ventes Flash`"
   ]
  },
  {
   "cell_type": "code",
   "execution_count": 7,
   "metadata": {},
   "outputs": [
    {
     "data": {
      "text/plain": [
       "selenium.webdriver.remote.webelement.WebElement"
      ]
     },
     "execution_count": 7,
     "metadata": {},
     "output_type": "execute_result"
    }
   ],
   "source": [
    "link = chrome.find_element_by_link_text(\"Voir toutes les promotions\")\n",
    "type(link)"
   ]
  },
  {
   "cell_type": "markdown",
   "metadata": {},
   "source": [
    "Si on veut entrer dans le lien, il suffit d'appeler la méthode `click`."
   ]
  },
  {
   "cell_type": "code",
   "execution_count": 8,
   "metadata": {},
   "outputs": [],
   "source": [
    "link.click()"
   ]
  },
  {
   "cell_type": "markdown",
   "metadata": {},
   "source": [
    "Vous êtes arrivé sur la page des ventes flash. Maintenant nous allons récupérer toutes les ventes actuelles. On remarque que les ventes sont stockés dans des widgets qui porte l'id `widgetContent`."
   ]
  },
  {
   "cell_type": "code",
   "execution_count": 9,
   "metadata": {},
   "outputs": [
    {
     "data": {
      "text/plain": [
       "(list, 4)"
      ]
     },
     "execution_count": 9,
     "metadata": {},
     "output_type": "execute_result"
    }
   ],
   "source": [
    "all_widgets = chrome.find_elements_by_id(\"widgetContent\")\n",
    "type(all_widgets), len(all_widgets)"
   ]
  },
  {
   "cell_type": "markdown",
   "metadata": {},
   "source": [
    "On obtient une liste d'éléments décrits par cet identifiant. Il y en a 5, un pour chaque ligne. Pour récupérer les différentes offres de la première ligne. on récupère les sections correspondantes: "
   ]
  },
  {
   "cell_type": "code",
   "execution_count": 10,
   "metadata": {},
   "outputs": [
    {
     "data": {
      "text/plain": [
       "120"
      ]
     },
     "execution_count": 10,
     "metadata": {},
     "output_type": "execute_result"
    }
   ],
   "source": [
    "first_line = all_widgets[0]\n",
    "all_first_line_elements = first_line.find_elements_by_class_name('a-section')\n",
    "len(all_first_line_elements)"
   ]
  },
  {
   "cell_type": "markdown",
   "metadata": {},
   "source": [
    "Pour récupérer le text maintenant : "
   ]
  },
  {
   "cell_type": "code",
   "execution_count": 11,
   "metadata": {},
   "outputs": [
    {
     "name": "stdout",
     "output_type": "stream",
     "text": [
      "OFFRE STAR\n",
      "69,90 € - 549,90 €\n",
      "Se termine dans 4 jours\n",
      "Apple : jusqu'à -26% sur une sélection d'Apple Watch Series 5 e...\n",
      "516\n",
      "Voir l'offre\n",
      "\n",
      "OFFRE STAR\n",
      "69,90 € - 549,90 €\n",
      "Se termine dans 4 jours\n",
      "Apple : jusqu'à -26% sur une sélection d'Apple Watch Series 5 e...\n",
      "516\n",
      "Voir l'offre\n",
      "\n",
      "\n",
      "\n",
      "OFFRE STAR\n",
      "69,90 € - 549,90 €\n",
      "Se termine dans 4 jours\n",
      "Apple : jusqu'à -26% sur une sélection d'Apple Watch Series 5 e...\n",
      "516\n",
      "Voir l'offre\n",
      "\n",
      "OFFRE STAR\n",
      "45,99 € - 199,99 €\n",
      "Termine dans 7:30:13\n",
      "Netatmo : Jusqu'à -30% sur une sélection de produits connectés\n",
      "2543\n",
      "Voir l'offre\n",
      "\n",
      "OFFRE STAR\n",
      "45,99 € - 199,99 €\n",
      "Termine dans 7:30:13\n",
      "Netatmo : Jusqu'à -30% sur une sélection de produits connectés\n",
      "2543\n",
      "Voir l'offre\n",
      "\n",
      "\n",
      "\n",
      "OFFRE STAR\n",
      "45,99 € - 199,99 €\n",
      "Termine dans 7:30:13\n",
      "Netatmo : Jusqu'à -30% sur une sélection de produits connectés\n",
      "2543\n",
      "Voir l'offre\n",
      "\n",
      "OFFRE STAR\n",
      "54,99 € - 323,00 €\n",
      "Termine dans 7:30:13\n",
      "Samsung : jusqu'à -30% sur des solutions stockage et mémoire\n",
      "38070\n",
      "Voir l'offre\n",
      "\n",
      "OFFRE STAR\n",
      "54,99 € - 323,00 €\n",
      "Termine dans 7:30:13\n",
      "Samsung : jusqu'à -30% sur des solutions stockage et mémoire\n",
      "38070\n",
      "Voir l'offre\n",
      "\n",
      "\n",
      "\n",
      "OFFRE STAR\n",
      "54,99 € - 323,00 €\n",
      "Termine dans 7:30:13\n",
      "Samsung : jusqu'à -30% sur des solutions stockage et mémoire\n",
      "38070\n",
      "Voir l'offre\n",
      "\n",
      "29,99 € - 349,99 €\n",
      "SanDisk & Western Digital: Jusqu'à -60% sur une sélection de produits\n",
      "26601\n",
      "Voir l'offre\n",
      "\n",
      "29,99 € - 349,99 €\n",
      "SanDisk & Western Digital: Jusqu'à -60% sur une sélection de produits\n",
      "26601\n",
      "Voir l'offre\n",
      "\n",
      "\n",
      "\n",
      "29,99 € - 349,99 €\n",
      "SanDisk & Western Digital: Jusqu'à -60% sur une sélection de produits\n",
      "26601\n",
      "Voir l'offre\n",
      "\n",
      "129,99 € - 699,00 €\n",
      "Aspirateurs robots : Jusqu'à -45% sur Irobot, Neato, Rowenta\n",
      "1966\n",
      "Voir l'offre\n",
      "\n",
      "129,99 € - 699,00 €\n",
      "Aspirateurs robots : Jusqu'à -45% sur Irobot, Neato, Rowenta\n",
      "1966\n",
      "Voir l'offre\n",
      "\n",
      "\n",
      "\n",
      "129,99 € - 699,00 €\n",
      "Aspirateurs robots : Jusqu'à -45% sur Irobot, Neato, Rowenta\n",
      "1966\n",
      "Voir l'offre\n",
      "\n",
      "249,00 € - 799,99 €\n",
      "Machines à expresso et à grain: Jusqu'à -38% sur Siemens, Krups, Saeco\n",
      "3399\n",
      "Voir l'offre\n",
      "\n",
      "249,00 € - 799,99 €\n",
      "Machines à expresso et à grain: Jusqu'à -38% sur Siemens, Krups, Saeco\n",
      "3399\n",
      "Voir l'offre\n",
      "\n",
      "\n",
      "\n",
      "249,00 € - 799,99 €\n",
      "Machines à expresso et à grain: Jusqu'à -38% sur Siemens, Krups, Saeco\n",
      "3399\n",
      "Voir l'offre\n",
      "\n",
      "7,49 € - 114,99 €\n",
      "Philips : jusqu'à -29% sur une sélection de luminaires connectés\n",
      "3\n",
      "Voir l'offre\n",
      "\n",
      "7,49 € - 114,99 €\n",
      "Philips : jusqu'à -29% sur une sélection de luminaires connectés\n",
      "3\n",
      "Voir l'offre\n",
      "\n",
      "\n",
      "\n",
      "7,49 € - 114,99 €\n",
      "Philips : jusqu'à -29% sur une sélection de luminaires connectés\n",
      "3\n",
      "Voir l'offre\n",
      "\n",
      "599,00 € - 1.639,00 €\n",
      "Microsoft : jusqu'à -25% sur la gamme Surface\n",
      "1740\n",
      "Voir l'offre\n",
      "\n",
      "599,00 € - 1.639,00 €\n",
      "Microsoft : jusqu'à -25% sur la gamme Surface\n",
      "1740\n",
      "Voir l'offre\n",
      "\n",
      "\n",
      "\n",
      "599,00 € - 1.639,00 €\n",
      "Microsoft : jusqu'à -25% sur la gamme Surface\n",
      "1740\n",
      "Voir l'offre\n",
      "\n",
      "159,00 € - 799,00 €\n",
      "Samsung : jusqu’à -28% sur une sélection de smartphones\n",
      "41\n",
      "Voir l'offre\n",
      "\n",
      "159,00 € - 799,00 €\n",
      "Samsung : jusqu’à -28% sur une sélection de smartphones\n",
      "41\n",
      "Voir l'offre\n",
      "\n",
      "\n",
      "\n",
      "159,00 € - 799,00 €\n",
      "Samsung : jusqu’à -28% sur une sélection de smartphones\n",
      "41\n",
      "Voir l'offre\n",
      "\n",
      "699,00 € - 1.949,00 €\n",
      "PC Windows : jusqu'à -33% sur une sélection de PC Windows\n",
      "1\n",
      "Voir l'offre\n",
      "\n",
      "699,00 € - 1.949,00 €\n",
      "PC Windows : jusqu'à -33% sur une sélection de PC Windows\n",
      "1\n",
      "Voir l'offre\n",
      "\n",
      "\n",
      "\n",
      "699,00 € - 1.949,00 €\n",
      "PC Windows : jusqu'à -33% sur une sélection de PC Windows\n",
      "1\n",
      "Voir l'offre\n",
      "\n",
      "849,00 € - 969,00 €\n",
      "HUAWEI: jusqu'à -30% sur une sélection de PC et tablettes\n",
      "22\n",
      "Voir l'offre\n",
      "\n",
      "849,00 € - 969,00 €\n",
      "HUAWEI: jusqu'à -30% sur une sélection de PC et tablettes\n",
      "22\n",
      "Voir l'offre\n",
      "\n",
      "\n",
      "\n",
      "849,00 € - 969,00 €\n",
      "HUAWEI: jusqu'à -30% sur une sélection de PC et tablettes\n",
      "22\n",
      "Voir l'offre\n",
      "\n",
      "34,99 € - 224,99 €\n",
      "Nettoyage vapeur: Jusqu'à -45% sur Bissell, Rowenta, Polti\n",
      "7617\n",
      "Voir l'offre\n",
      "\n",
      "34,99 € - 224,99 €\n",
      "Nettoyage vapeur: Jusqu'à -45% sur Bissell, Rowenta, Polti\n",
      "7617\n",
      "Voir l'offre\n",
      "\n",
      "\n",
      "\n",
      "34,99 € - 224,99 €\n",
      "Nettoyage vapeur: Jusqu'à -45% sur Bissell, Rowenta, Polti\n",
      "7617\n",
      "Voir l'offre\n",
      "\n",
      "109,00 € - 389,00 €\n",
      "Xiaomi : Jusqu'à -30% sur les smartphones\n",
      "298\n",
      "Voir l'offre\n",
      "\n",
      "109,00 € - 389,00 €\n",
      "Xiaomi : Jusqu'à -30% sur les smartphones\n",
      "298\n",
      "Voir l'offre\n",
      "\n",
      "\n",
      "\n",
      "109,00 € - 389,00 €\n",
      "Xiaomi : Jusqu'à -30% sur les smartphones\n",
      "298\n",
      "Voir l'offre\n",
      "\n",
      "OFFRE STAR\n",
      "16,99 € - 24,49 €\n",
      "Termine dans 7:30:12\n",
      "Philips: Jusqu'à -40% sur One Blade et accessoires\n",
      "15451\n",
      "Voir l'offre\n",
      "\n",
      "OFFRE STAR\n",
      "16,99 € - 24,49 €\n",
      "Termine dans 7:30:12\n",
      "Philips: Jusqu'à -40% sur One Blade et accessoires\n",
      "15451\n",
      "Voir l'offre\n",
      "\n",
      "\n",
      "\n",
      "OFFRE STAR\n",
      "16,99 € - 24,49 €\n",
      "Termine dans 7:30:12\n",
      "Philips: Jusqu'à -40% sur One Blade et accessoires\n",
      "15451\n",
      "Voir l'offre\n",
      "\n",
      "OFFRE STAR\n",
      "449,00 € - 790,00 €\n",
      "Termine dans 7:25:13\n",
      "Jusqu'à -25% sur les TVs\n",
      "16\n",
      "Voir l'offre\n",
      "\n",
      "OFFRE STAR\n",
      "449,00 € - 790,00 €\n",
      "Termine dans 7:25:13\n",
      "Jusqu'à -25% sur les TVs\n",
      "16\n",
      "Voir l'offre\n",
      "\n",
      "\n",
      "\n",
      "OFFRE STAR\n",
      "449,00 € - 790,00 €\n",
      "Termine dans 7:25:12\n",
      "Jusqu'à -25% sur les TVs\n",
      "16\n",
      "Voir l'offre\n",
      "\n",
      "OFFRE STAR\n",
      "293,98 €\n",
      "Prix conseillé : 499,98 € (-41%)\n",
      "Se termine dans 5 jours\n",
      "Jusqu'à -25% sur les aspirateurs robot\n",
      "1424\n",
      "Voir l'offre\n",
      "\n",
      "OFFRE STAR\n",
      "293,98 €\n",
      "Prix conseillé : 499,98 € (-41%)\n",
      "Se termine dans 5 jours\n",
      "Jusqu'à -25% sur les aspirateurs robot\n",
      "1424\n",
      "Voir l'offre\n",
      "\n",
      "\n",
      "\n",
      "OFFRE STAR\n",
      "293,98 €\n",
      "Prix conseillé : 499,98 € (-41%)\n",
      "Se termine dans 5 jours\n",
      "Jusqu'à -25% sur les aspirateurs robot\n",
      "1424\n",
      "Voir l'offre\n",
      "\n",
      "OFFRE STAR\n",
      "29,99 € - 112,49 €\n",
      "Termine dans 7:25:12\n",
      "eufy caméra de surveillance\n",
      "358\n",
      "Voir l'offre\n",
      "\n",
      "OFFRE STAR\n",
      "29,99 € - 112,49 €\n",
      "Termine dans 7:25:12\n",
      "eufy caméra de surveillance\n",
      "358\n",
      "Voir l'offre\n",
      "\n",
      "\n",
      "\n",
      "OFFRE STAR\n",
      "29,99 € - 112,49 €\n",
      "Termine dans 7:25:12\n",
      "eufy caméra de surveillance\n",
      "358\n",
      "Voir l'offre\n",
      "\n",
      "3,99 € - 145,44 €\n",
      "Jusqu'à -40% sur une sélection de Jeux et Jouets\n",
      "1333\n",
      "Voir l'offre\n",
      "\n",
      "3,99 € - 145,44 €\n",
      "Jusqu'à -40% sur une sélection de Jeux et Jouets\n",
      "1333\n",
      "Voir l'offre\n",
      "\n",
      "\n",
      "\n",
      "3,99 € - 145,44 €\n",
      "Jusqu'à -40% sur une sélection de Jeux et Jouets\n",
      "1333\n",
      "Voir l'offre\n",
      "\n",
      "7,99 € - 69,99 €\n",
      "Jusqu'à -50% sur sélection de Blu-ray et 4K\n",
      "4\n",
      "Voir l'offre\n",
      "\n",
      "7,99 € - 69,99 €\n",
      "Jusqu'à -50% sur sélection de Blu-ray et 4K\n",
      "4\n",
      "Voir l'offre\n",
      "\n",
      "\n",
      "\n",
      "7,99 € - 69,99 €\n",
      "Jusqu'à -50% sur sélection de Blu-ray et 4K\n",
      "4\n",
      "Voir l'offre\n",
      "\n",
      "5,99 € - 78,99 €\n",
      "Jusqu'à -50% sur une sélection de DVD\n",
      "4\n",
      "Voir l'offre\n",
      "\n",
      "5,99 € - 78,99 €\n",
      "Jusqu'à -50% sur une sélection de DVD\n",
      "4\n",
      "Voir l'offre\n",
      "\n",
      "\n",
      "\n",
      "5,99 € - 78,99 €\n",
      "Jusqu'à -50% sur une sélection de DVD\n",
      "4\n",
      "Voir l'offre\n",
      "\n",
      "27,99 € - 139,99 €\n",
      "Philips: Jusqu'à -60% sur les produits de rasage pour homme\n",
      "5308\n",
      "Voir l'offre\n",
      "\n",
      "27,99 € - 139,99 €\n",
      "Philips: Jusqu'à -60% sur les produits de rasage pour homme\n",
      "5308\n",
      "Voir l'offre\n",
      "\n",
      "\n",
      "\n",
      "27,99 € - 139,99 €\n",
      "Philips: Jusqu'à -60% sur les produits de rasage pour homme\n",
      "5308\n",
      "Voir l'offre\n",
      "\n",
      "19,99 € - 60,00 €\n",
      "Game of Thrones: jusqu' à -50% sur l’intégrale des saisons 1 à 8\n",
      "13\n",
      "Voir l'offre\n",
      "\n",
      "19,99 € - 60,00 €\n",
      "Game of Thrones: jusqu' à -50% sur l’intégrale des saisons 1 à 8\n",
      "13\n",
      "Voir l'offre\n",
      "\n",
      "\n",
      "\n",
      "19,99 € - 60,00 €\n",
      "Game of Thrones: jusqu' à -50% sur l’intégrale des saisons 1 à 8\n",
      "13\n",
      "Voir l'offre\n",
      "\n",
      "16,99 € - 349,99 €\n",
      "Philips: Jusqu'à -45% sur des produits de beauté pour femme\n",
      "227\n",
      "Voir l'offre\n",
      "\n",
      "16,99 € - 349,99 €\n",
      "Philips: Jusqu'à -45% sur des produits de beauté pour femme\n",
      "227\n",
      "Voir l'offre\n",
      "\n",
      "\n",
      "\n",
      "16,99 € - 349,99 €\n",
      "Philips: Jusqu'à -45% sur des produits de beauté pour femme\n",
      "227\n",
      "Voir l'offre\n",
      "\n",
      "179,00 € - 799,00 €\n",
      "OnePlus : jusqu'à -22% sur une sélection de smartphones\n",
      "262\n",
      "Voir l'offre\n",
      "\n",
      "179,00 € - 799,00 €\n",
      "OnePlus : jusqu'à -22% sur une sélection de smartphones\n",
      "262\n",
      "Voir l'offre\n",
      "\n",
      "\n",
      "\n",
      "179,00 € - 799,00 €\n",
      "OnePlus : jusqu'à -22% sur une sélection de smartphones\n",
      "262\n",
      "Voir l'offre\n",
      "\n",
      "1.099,00 €\n",
      "Prix conseillé : 1.299,99 € (-15%)\n",
      "Sélection de robots Companion de Moulinex - Marque française\n",
      "22\n",
      "Voir l'offre\n",
      "\n",
      "1.099,00 €\n",
      "Prix conseillé : 1.299,99 € (-15%)\n",
      "Sélection de robots Companion de Moulinex - Marque française\n",
      "22\n",
      "Voir l'offre\n",
      "\n",
      "\n",
      "\n",
      "1.099,00 €\n",
      "Prix conseillé : 1.299,99 € (-15%)\n",
      "Sélection de robots Companion de Moulinex - Marque française\n",
      "22\n",
      "Voir l'offre\n",
      "\n",
      "355,99 € - 437,09 €\n",
      "LG: Jusqu'à -25% sur une sélection de produits\n",
      "57\n",
      "Voir l'offre\n",
      "\n",
      "355,99 € - 437,09 €\n",
      "LG: Jusqu'à -25% sur une sélection de produits\n",
      "57\n",
      "Voir l'offre\n",
      "\n",
      "\n",
      "\n",
      "355,99 € - 437,09 €\n",
      "LG: Jusqu'à -25% sur une sélection de produits\n",
      "57\n",
      "Voir l'offre\n",
      "\n",
      "OFFRE STAR\n",
      "33,00 € - 238,00 €\n",
      "Termine dans 7:30:11\n",
      "Swarovski: Jusqu'à -40% sur les Bijoux et Montres\n",
      "483\n",
      "Voir l'offre\n",
      "\n",
      "OFFRE STAR\n",
      "33,00 € - 238,00 €\n",
      "Termine dans 7:30:11\n",
      "Swarovski: Jusqu'à -40% sur les Bijoux et Montres\n",
      "483\n",
      "Voir l'offre\n",
      "\n"
     ]
    },
    {
     "name": "stdout",
     "output_type": "stream",
     "text": [
      "\n",
      "\n",
      "OFFRE STAR\n",
      "33,00 € - 238,00 €\n",
      "Termine dans 7:30:10\n",
      "Swarovski: Jusqu'à -40% sur les Bijoux et Montres\n",
      "483\n",
      "Voir l'offre\n",
      "\n",
      "OFFRE STAR\n",
      "85,99 € - 324,99 €\n",
      "Se termine dans 4 jours\n",
      "Braun: Jusqu'à -40% sur les Epilateurs pour Femme\n",
      "2239\n",
      "Voir l'offre\n",
      "\n",
      "OFFRE STAR\n",
      "85,99 € - 324,99 €\n",
      "Se termine dans 4 jours\n",
      "Braun: Jusqu'à -40% sur les Epilateurs pour Femme\n",
      "2239\n",
      "Voir l'offre\n",
      "\n",
      "\n",
      "\n",
      "OFFRE STAR\n",
      "85,99 € - 324,99 €\n",
      "Se termine dans 4 jours\n",
      "Braun: Jusqu'à -40% sur les Epilateurs pour Femme\n",
      "2239\n",
      "Voir l'offre\n",
      "\n",
      "OFFRE STAR\n",
      "129,99 €\n",
      "Prix conseillé : 249,99 € (-48%)\n",
      "Se termine dans 2 jours\n",
      "Philips Sonicare HX8492/01 AirFloss Ultra + Brosse à dents Di...\n",
      "188\n",
      "Voir l'offre\n",
      "\n",
      "OFFRE STAR\n",
      "129,99 €\n",
      "Prix conseillé : 249,99 € (-48%)\n",
      "Se termine dans 2 jours\n",
      "Philips Sonicare HX8492/01 AirFloss Ultra + Brosse à dents Di...\n",
      "188\n",
      "Voir l'offre\n",
      "\n",
      "\n",
      "\n",
      "OFFRE STAR\n",
      "129,99 €\n",
      "Prix conseillé : 249,99 € (-48%)\n",
      "Se termine dans 2 jours\n",
      "Philips Sonicare HX8492/01 AirFloss Ultra + Brosse à dents Di...\n",
      "188\n",
      "Voir l'offre\n",
      "\n",
      "OFFRE STAR\n",
      "12,00 € - 229,00 €\n",
      "Se termine dans 7 jours\n",
      "Fossil, Skagen, Michael Kors: jusqu’à –50% sur des bijoux et m...\n",
      "2476\n",
      "Voir l'offre\n",
      "\n",
      "OFFRE STAR\n",
      "12,00 € - 229,00 €\n",
      "Se termine dans 7 jours\n",
      "Fossil, Skagen, Michael Kors: jusqu’à –50% sur des bijoux et m...\n",
      "2476\n",
      "Voir l'offre\n",
      "\n",
      "\n",
      "\n",
      "OFFRE STAR\n",
      "12,00 € - 229,00 €\n",
      "Se termine dans 7 jours\n",
      "Fossil, Skagen, Michael Kors: jusqu’à –50% sur des bijoux et m...\n",
      "2476\n",
      "Voir l'offre\n",
      "\n"
     ]
    }
   ],
   "source": [
    "_ = [print(elt.text+ \"\\n\")  for elt in all_first_line_elements]"
   ]
  },
  {
   "cell_type": "markdown",
   "metadata": {},
   "source": [
    "Si vous êtes fan de JavaScript vous pouvez même injecter du code JS dans le navigateur depuis Python pour exécuter des opérations complexes. "
   ]
  },
  {
   "cell_type": "code",
   "execution_count": 12,
   "metadata": {},
   "outputs": [],
   "source": [
    "js_script = \"\"\"\n",
    "const class_name = 'DRIOC'\n",
    "console.log(`Hi from ${class_name}`)\n",
    "\"\"\""
   ]
  },
  {
   "cell_type": "code",
   "execution_count": 13,
   "metadata": {},
   "outputs": [],
   "source": [
    "chrome.execute_script(js_script)"
   ]
  },
  {
   "cell_type": "markdown",
   "metadata": {},
   "source": [
    "Vous pouvez aller vérifier dans la console Javascript du navigateur que le message apparait bien. "
   ]
  },
  {
   "cell_type": "markdown",
   "metadata": {},
   "source": [
    "# Exercice"
   ]
  },
  {
   "cell_type": "markdown",
   "metadata": {},
   "source": [
    "## Exercice 1"
   ]
  },
  {
   "cell_type": "markdown",
   "metadata": {},
   "source": [
    "Extraire le prix des offres :"
   ]
  },
  {
   "cell_type": "code",
   "execution_count": 14,
   "metadata": {},
   "outputs": [
    {
     "data": {
      "text/plain": [
       "'69,90 € - 549,90 €'"
      ]
     },
     "execution_count": 14,
     "metadata": {},
     "output_type": "execute_result"
    }
   ],
   "source": [
    "def extract_price(offer_web_element):\n",
    "    price = offer_web_element.find_elements_by_class_name(\"dealPriceText\")\n",
    "    return(price[0].text)\n",
    "\n",
    "extract_price(all_first_line_elements[0])"
   ]
  },
  {
   "cell_type": "markdown",
   "metadata": {},
   "source": [
    "Extraire l'image de l'offre: "
   ]
  },
  {
   "cell_type": "code",
   "execution_count": 15,
   "metadata": {},
   "outputs": [
    {
     "data": {
      "text/plain": [
       "['https://m.media-amazon.com/images/I/41U9rhcAM-L._AA210_.jpg']"
      ]
     },
     "execution_count": 15,
     "metadata": {},
     "output_type": "execute_result"
    }
   ],
   "source": [
    "def extract_image(offer_web_element):\n",
    "    img = [image.get_attribute('src') for image in offer_web_element.find_elements_by_tag_name('img')]\n",
    "    return img\n",
    "\n",
    "extract_image(all_first_line_elements[0])"
   ]
  },
  {
   "cell_type": "markdown",
   "metadata": {},
   "source": [
    "Extraire le titre de l'offre: "
   ]
  },
  {
   "cell_type": "code",
   "execution_count": 16,
   "metadata": {},
   "outputs": [
    {
     "data": {
      "text/plain": [
       "\"Apple : jusqu'à -26% sur une sélection d'Apple Watch Series 5 e...\""
      ]
     },
     "execution_count": 16,
     "metadata": {},
     "output_type": "execute_result"
    }
   ],
   "source": [
    "def extract_title(offer_web_element):\n",
    "    tit = offer_web_element.find_elements_by_id(\"dealTitle\")\n",
    "    return tit[0].text\n",
    "\n",
    "extract_title(all_first_line_elements[0])"
   ]
  },
  {
   "cell_type": "code",
   "execution_count": 17,
   "metadata": {},
   "outputs": [],
   "source": [
    "chrome.close()"
   ]
  },
  {
   "cell_type": "code",
   "execution_count": null,
   "metadata": {},
   "outputs": [],
   "source": []
  }
 ],
 "metadata": {
  "hide_input": false,
  "kernelspec": {
   "display_name": "Python 3",
   "language": "python",
   "name": "python3"
  },
  "language_info": {
   "codemirror_mode": {
    "name": "ipython",
    "version": 3
   },
   "file_extension": ".py",
   "mimetype": "text/x-python",
   "name": "python",
   "nbconvert_exporter": "python",
   "pygments_lexer": "ipython3",
   "version": "3.7.7"
  }
 },
 "nbformat": 4,
 "nbformat_minor": 2
}
